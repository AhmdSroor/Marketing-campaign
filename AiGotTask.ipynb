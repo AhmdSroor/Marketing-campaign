{
 "cells": [
  {
   "cell_type": "markdown",
   "metadata": {},
   "source": [
    "# Importing libraries &  reading data"
   ]
  },
  {
   "cell_type": "code",
   "execution_count": 1,
   "metadata": {},
   "outputs": [],
   "source": [
    "import pandas as pd\n",
    "import numpy as np\n",
    "import matplotlib.pyplot as plt\n",
    "%matplotlib inline\n",
    "plt.rcParams['figure.figsize'] = 8,4\n",
    "import warnings\n",
    "warnings.filterwarnings('ignore')"
   ]
  },
  {
   "cell_type": "code",
   "execution_count": 2,
   "metadata": {},
   "outputs": [],
   "source": [
    "df = pd.read_csv('marketing_campaign.csv', sep = \";\")"
   ]
  },
  {
   "cell_type": "code",
   "execution_count": 3,
   "metadata": {},
   "outputs": [
    {
     "data": {
      "text/html": [
       "<div>\n",
       "<style scoped>\n",
       "    .dataframe tbody tr th:only-of-type {\n",
       "        vertical-align: middle;\n",
       "    }\n",
       "\n",
       "    .dataframe tbody tr th {\n",
       "        vertical-align: top;\n",
       "    }\n",
       "\n",
       "    .dataframe thead th {\n",
       "        text-align: right;\n",
       "    }\n",
       "</style>\n",
       "<table border=\"1\" class=\"dataframe\">\n",
       "  <thead>\n",
       "    <tr style=\"text-align: right;\">\n",
       "      <th></th>\n",
       "      <th>ID</th>\n",
       "      <th>Year_Birth</th>\n",
       "      <th>Education</th>\n",
       "      <th>Marital_Status</th>\n",
       "      <th>Income</th>\n",
       "      <th>Kidhome</th>\n",
       "      <th>Teenhome</th>\n",
       "      <th>Dt_Customer</th>\n",
       "      <th>Recency</th>\n",
       "      <th>MntWines</th>\n",
       "      <th>...</th>\n",
       "      <th>NumWebVisitsMonth</th>\n",
       "      <th>AcceptedCmp3</th>\n",
       "      <th>AcceptedCmp4</th>\n",
       "      <th>AcceptedCmp5</th>\n",
       "      <th>AcceptedCmp1</th>\n",
       "      <th>AcceptedCmp2</th>\n",
       "      <th>Complain</th>\n",
       "      <th>Z_CostContact</th>\n",
       "      <th>Z_Revenue</th>\n",
       "      <th>Response</th>\n",
       "    </tr>\n",
       "  </thead>\n",
       "  <tbody>\n",
       "    <tr>\n",
       "      <th>0</th>\n",
       "      <td>5524</td>\n",
       "      <td>1957</td>\n",
       "      <td>Graduation</td>\n",
       "      <td>Single</td>\n",
       "      <td>58138.0</td>\n",
       "      <td>0</td>\n",
       "      <td>0</td>\n",
       "      <td>2012-09-04</td>\n",
       "      <td>58</td>\n",
       "      <td>635</td>\n",
       "      <td>...</td>\n",
       "      <td>7</td>\n",
       "      <td>0</td>\n",
       "      <td>0</td>\n",
       "      <td>0</td>\n",
       "      <td>0</td>\n",
       "      <td>0</td>\n",
       "      <td>0</td>\n",
       "      <td>3</td>\n",
       "      <td>11</td>\n",
       "      <td>1</td>\n",
       "    </tr>\n",
       "    <tr>\n",
       "      <th>1</th>\n",
       "      <td>2174</td>\n",
       "      <td>1954</td>\n",
       "      <td>Graduation</td>\n",
       "      <td>Single</td>\n",
       "      <td>46344.0</td>\n",
       "      <td>1</td>\n",
       "      <td>1</td>\n",
       "      <td>2014-03-08</td>\n",
       "      <td>38</td>\n",
       "      <td>11</td>\n",
       "      <td>...</td>\n",
       "      <td>5</td>\n",
       "      <td>0</td>\n",
       "      <td>0</td>\n",
       "      <td>0</td>\n",
       "      <td>0</td>\n",
       "      <td>0</td>\n",
       "      <td>0</td>\n",
       "      <td>3</td>\n",
       "      <td>11</td>\n",
       "      <td>0</td>\n",
       "    </tr>\n",
       "    <tr>\n",
       "      <th>2</th>\n",
       "      <td>4141</td>\n",
       "      <td>1965</td>\n",
       "      <td>Graduation</td>\n",
       "      <td>Together</td>\n",
       "      <td>71613.0</td>\n",
       "      <td>0</td>\n",
       "      <td>0</td>\n",
       "      <td>2013-08-21</td>\n",
       "      <td>26</td>\n",
       "      <td>426</td>\n",
       "      <td>...</td>\n",
       "      <td>4</td>\n",
       "      <td>0</td>\n",
       "      <td>0</td>\n",
       "      <td>0</td>\n",
       "      <td>0</td>\n",
       "      <td>0</td>\n",
       "      <td>0</td>\n",
       "      <td>3</td>\n",
       "      <td>11</td>\n",
       "      <td>0</td>\n",
       "    </tr>\n",
       "    <tr>\n",
       "      <th>3</th>\n",
       "      <td>6182</td>\n",
       "      <td>1984</td>\n",
       "      <td>Graduation</td>\n",
       "      <td>Together</td>\n",
       "      <td>26646.0</td>\n",
       "      <td>1</td>\n",
       "      <td>0</td>\n",
       "      <td>2014-02-10</td>\n",
       "      <td>26</td>\n",
       "      <td>11</td>\n",
       "      <td>...</td>\n",
       "      <td>6</td>\n",
       "      <td>0</td>\n",
       "      <td>0</td>\n",
       "      <td>0</td>\n",
       "      <td>0</td>\n",
       "      <td>0</td>\n",
       "      <td>0</td>\n",
       "      <td>3</td>\n",
       "      <td>11</td>\n",
       "      <td>0</td>\n",
       "    </tr>\n",
       "    <tr>\n",
       "      <th>4</th>\n",
       "      <td>5324</td>\n",
       "      <td>1981</td>\n",
       "      <td>PhD</td>\n",
       "      <td>Married</td>\n",
       "      <td>58293.0</td>\n",
       "      <td>1</td>\n",
       "      <td>0</td>\n",
       "      <td>2014-01-19</td>\n",
       "      <td>94</td>\n",
       "      <td>173</td>\n",
       "      <td>...</td>\n",
       "      <td>5</td>\n",
       "      <td>0</td>\n",
       "      <td>0</td>\n",
       "      <td>0</td>\n",
       "      <td>0</td>\n",
       "      <td>0</td>\n",
       "      <td>0</td>\n",
       "      <td>3</td>\n",
       "      <td>11</td>\n",
       "      <td>0</td>\n",
       "    </tr>\n",
       "  </tbody>\n",
       "</table>\n",
       "<p>5 rows × 29 columns</p>\n",
       "</div>"
      ],
      "text/plain": [
       "     ID  Year_Birth   Education Marital_Status   Income  Kidhome  Teenhome  \\\n",
       "0  5524        1957  Graduation         Single  58138.0        0         0   \n",
       "1  2174        1954  Graduation         Single  46344.0        1         1   \n",
       "2  4141        1965  Graduation       Together  71613.0        0         0   \n",
       "3  6182        1984  Graduation       Together  26646.0        1         0   \n",
       "4  5324        1981         PhD        Married  58293.0        1         0   \n",
       "\n",
       "  Dt_Customer  Recency  MntWines  ...  NumWebVisitsMonth  AcceptedCmp3  \\\n",
       "0  2012-09-04       58       635  ...                  7             0   \n",
       "1  2014-03-08       38        11  ...                  5             0   \n",
       "2  2013-08-21       26       426  ...                  4             0   \n",
       "3  2014-02-10       26        11  ...                  6             0   \n",
       "4  2014-01-19       94       173  ...                  5             0   \n",
       "\n",
       "   AcceptedCmp4  AcceptedCmp5  AcceptedCmp1  AcceptedCmp2  Complain  \\\n",
       "0             0             0             0             0         0   \n",
       "1             0             0             0             0         0   \n",
       "2             0             0             0             0         0   \n",
       "3             0             0             0             0         0   \n",
       "4             0             0             0             0         0   \n",
       "\n",
       "   Z_CostContact  Z_Revenue  Response  \n",
       "0              3         11         1  \n",
       "1              3         11         0  \n",
       "2              3         11         0  \n",
       "3              3         11         0  \n",
       "4              3         11         0  \n",
       "\n",
       "[5 rows x 29 columns]"
      ]
     },
     "execution_count": 3,
     "metadata": {},
     "output_type": "execute_result"
    }
   ],
   "source": [
    "df.head()"
   ]
  },
  {
   "cell_type": "code",
   "execution_count": 4,
   "metadata": {},
   "outputs": [
    {
     "data": {
      "text/plain": [
       "(2240, 29)"
      ]
     },
     "execution_count": 4,
     "metadata": {},
     "output_type": "execute_result"
    }
   ],
   "source": [
    "df.shape"
   ]
  },
  {
   "cell_type": "markdown",
   "metadata": {},
   "source": [
    "# Cleaning Data"
   ]
  },
  {
   "cell_type": "code",
   "execution_count": 5,
   "metadata": {},
   "outputs": [
    {
     "data": {
      "text/plain": [
       "ID                      0\n",
       "Year_Birth              0\n",
       "Education               0\n",
       "Marital_Status          0\n",
       "Income                 24\n",
       "Kidhome                 0\n",
       "Teenhome                0\n",
       "Dt_Customer             0\n",
       "Recency                 0\n",
       "MntWines                0\n",
       "MntFruits               0\n",
       "MntMeatProducts         0\n",
       "MntFishProducts         0\n",
       "MntSweetProducts        0\n",
       "MntGoldProds            0\n",
       "NumDealsPurchases       0\n",
       "NumWebPurchases         0\n",
       "NumCatalogPurchases     0\n",
       "NumStorePurchases       0\n",
       "NumWebVisitsMonth       0\n",
       "AcceptedCmp3            0\n",
       "AcceptedCmp4            0\n",
       "AcceptedCmp5            0\n",
       "AcceptedCmp1            0\n",
       "AcceptedCmp2            0\n",
       "Complain                0\n",
       "Z_CostContact           0\n",
       "Z_Revenue               0\n",
       "Response                0\n",
       "dtype: int64"
      ]
     },
     "execution_count": 5,
     "metadata": {},
     "output_type": "execute_result"
    }
   ],
   "source": [
    "df.isnull().sum()"
   ]
  },
  {
   "cell_type": "code",
   "execution_count": 6,
   "metadata": {},
   "outputs": [],
   "source": [
    "df.dropna(axis = 0, inplace = True)"
   ]
  },
  {
   "cell_type": "code",
   "execution_count": 7,
   "metadata": {},
   "outputs": [
    {
     "data": {
      "text/plain": [
       "0"
      ]
     },
     "execution_count": 7,
     "metadata": {},
     "output_type": "execute_result"
    }
   ],
   "source": [
    "df.duplicated().sum()"
   ]
  },
  {
   "cell_type": "code",
   "execution_count": 8,
   "metadata": {},
   "outputs": [
    {
     "data": {
      "text/html": [
       "<div>\n",
       "<style scoped>\n",
       "    .dataframe tbody tr th:only-of-type {\n",
       "        vertical-align: middle;\n",
       "    }\n",
       "\n",
       "    .dataframe tbody tr th {\n",
       "        vertical-align: top;\n",
       "    }\n",
       "\n",
       "    .dataframe thead th {\n",
       "        text-align: right;\n",
       "    }\n",
       "</style>\n",
       "<table border=\"1\" class=\"dataframe\">\n",
       "  <thead>\n",
       "    <tr style=\"text-align: right;\">\n",
       "      <th></th>\n",
       "      <th>ID</th>\n",
       "      <th>Year_Birth</th>\n",
       "      <th>Education</th>\n",
       "      <th>Marital_Status</th>\n",
       "      <th>Income</th>\n",
       "      <th>Kidhome</th>\n",
       "      <th>Teenhome</th>\n",
       "      <th>Dt_Customer</th>\n",
       "      <th>Recency</th>\n",
       "      <th>MntWines</th>\n",
       "      <th>...</th>\n",
       "      <th>NumWebVisitsMonth</th>\n",
       "      <th>AcceptedCmp3</th>\n",
       "      <th>AcceptedCmp4</th>\n",
       "      <th>AcceptedCmp5</th>\n",
       "      <th>AcceptedCmp1</th>\n",
       "      <th>AcceptedCmp2</th>\n",
       "      <th>Complain</th>\n",
       "      <th>Z_CostContact</th>\n",
       "      <th>Z_Revenue</th>\n",
       "      <th>Response</th>\n",
       "    </tr>\n",
       "  </thead>\n",
       "  <tbody>\n",
       "    <tr>\n",
       "      <th>0</th>\n",
       "      <td>5524</td>\n",
       "      <td>1957</td>\n",
       "      <td>Graduation</td>\n",
       "      <td>Single</td>\n",
       "      <td>58138.0</td>\n",
       "      <td>0</td>\n",
       "      <td>0</td>\n",
       "      <td>2012-09-04</td>\n",
       "      <td>58</td>\n",
       "      <td>635</td>\n",
       "      <td>...</td>\n",
       "      <td>7</td>\n",
       "      <td>0</td>\n",
       "      <td>0</td>\n",
       "      <td>0</td>\n",
       "      <td>0</td>\n",
       "      <td>0</td>\n",
       "      <td>0</td>\n",
       "      <td>3</td>\n",
       "      <td>11</td>\n",
       "      <td>1</td>\n",
       "    </tr>\n",
       "    <tr>\n",
       "      <th>1</th>\n",
       "      <td>2174</td>\n",
       "      <td>1954</td>\n",
       "      <td>Graduation</td>\n",
       "      <td>Single</td>\n",
       "      <td>46344.0</td>\n",
       "      <td>1</td>\n",
       "      <td>1</td>\n",
       "      <td>2014-03-08</td>\n",
       "      <td>38</td>\n",
       "      <td>11</td>\n",
       "      <td>...</td>\n",
       "      <td>5</td>\n",
       "      <td>0</td>\n",
       "      <td>0</td>\n",
       "      <td>0</td>\n",
       "      <td>0</td>\n",
       "      <td>0</td>\n",
       "      <td>0</td>\n",
       "      <td>3</td>\n",
       "      <td>11</td>\n",
       "      <td>0</td>\n",
       "    </tr>\n",
       "    <tr>\n",
       "      <th>2</th>\n",
       "      <td>4141</td>\n",
       "      <td>1965</td>\n",
       "      <td>Graduation</td>\n",
       "      <td>Together</td>\n",
       "      <td>71613.0</td>\n",
       "      <td>0</td>\n",
       "      <td>0</td>\n",
       "      <td>2013-08-21</td>\n",
       "      <td>26</td>\n",
       "      <td>426</td>\n",
       "      <td>...</td>\n",
       "      <td>4</td>\n",
       "      <td>0</td>\n",
       "      <td>0</td>\n",
       "      <td>0</td>\n",
       "      <td>0</td>\n",
       "      <td>0</td>\n",
       "      <td>0</td>\n",
       "      <td>3</td>\n",
       "      <td>11</td>\n",
       "      <td>0</td>\n",
       "    </tr>\n",
       "    <tr>\n",
       "      <th>3</th>\n",
       "      <td>6182</td>\n",
       "      <td>1984</td>\n",
       "      <td>Graduation</td>\n",
       "      <td>Together</td>\n",
       "      <td>26646.0</td>\n",
       "      <td>1</td>\n",
       "      <td>0</td>\n",
       "      <td>2014-02-10</td>\n",
       "      <td>26</td>\n",
       "      <td>11</td>\n",
       "      <td>...</td>\n",
       "      <td>6</td>\n",
       "      <td>0</td>\n",
       "      <td>0</td>\n",
       "      <td>0</td>\n",
       "      <td>0</td>\n",
       "      <td>0</td>\n",
       "      <td>0</td>\n",
       "      <td>3</td>\n",
       "      <td>11</td>\n",
       "      <td>0</td>\n",
       "    </tr>\n",
       "    <tr>\n",
       "      <th>4</th>\n",
       "      <td>5324</td>\n",
       "      <td>1981</td>\n",
       "      <td>PhD</td>\n",
       "      <td>Married</td>\n",
       "      <td>58293.0</td>\n",
       "      <td>1</td>\n",
       "      <td>0</td>\n",
       "      <td>2014-01-19</td>\n",
       "      <td>94</td>\n",
       "      <td>173</td>\n",
       "      <td>...</td>\n",
       "      <td>5</td>\n",
       "      <td>0</td>\n",
       "      <td>0</td>\n",
       "      <td>0</td>\n",
       "      <td>0</td>\n",
       "      <td>0</td>\n",
       "      <td>0</td>\n",
       "      <td>3</td>\n",
       "      <td>11</td>\n",
       "      <td>0</td>\n",
       "    </tr>\n",
       "    <tr>\n",
       "      <th>...</th>\n",
       "      <td>...</td>\n",
       "      <td>...</td>\n",
       "      <td>...</td>\n",
       "      <td>...</td>\n",
       "      <td>...</td>\n",
       "      <td>...</td>\n",
       "      <td>...</td>\n",
       "      <td>...</td>\n",
       "      <td>...</td>\n",
       "      <td>...</td>\n",
       "      <td>...</td>\n",
       "      <td>...</td>\n",
       "      <td>...</td>\n",
       "      <td>...</td>\n",
       "      <td>...</td>\n",
       "      <td>...</td>\n",
       "      <td>...</td>\n",
       "      <td>...</td>\n",
       "      <td>...</td>\n",
       "      <td>...</td>\n",
       "      <td>...</td>\n",
       "    </tr>\n",
       "    <tr>\n",
       "      <th>2235</th>\n",
       "      <td>10870</td>\n",
       "      <td>1967</td>\n",
       "      <td>Graduation</td>\n",
       "      <td>Married</td>\n",
       "      <td>61223.0</td>\n",
       "      <td>0</td>\n",
       "      <td>1</td>\n",
       "      <td>2013-06-13</td>\n",
       "      <td>46</td>\n",
       "      <td>709</td>\n",
       "      <td>...</td>\n",
       "      <td>5</td>\n",
       "      <td>0</td>\n",
       "      <td>0</td>\n",
       "      <td>0</td>\n",
       "      <td>0</td>\n",
       "      <td>0</td>\n",
       "      <td>0</td>\n",
       "      <td>3</td>\n",
       "      <td>11</td>\n",
       "      <td>0</td>\n",
       "    </tr>\n",
       "    <tr>\n",
       "      <th>2236</th>\n",
       "      <td>4001</td>\n",
       "      <td>1946</td>\n",
       "      <td>PhD</td>\n",
       "      <td>Together</td>\n",
       "      <td>64014.0</td>\n",
       "      <td>2</td>\n",
       "      <td>1</td>\n",
       "      <td>2014-06-10</td>\n",
       "      <td>56</td>\n",
       "      <td>406</td>\n",
       "      <td>...</td>\n",
       "      <td>7</td>\n",
       "      <td>0</td>\n",
       "      <td>0</td>\n",
       "      <td>0</td>\n",
       "      <td>1</td>\n",
       "      <td>0</td>\n",
       "      <td>0</td>\n",
       "      <td>3</td>\n",
       "      <td>11</td>\n",
       "      <td>0</td>\n",
       "    </tr>\n",
       "    <tr>\n",
       "      <th>2237</th>\n",
       "      <td>7270</td>\n",
       "      <td>1981</td>\n",
       "      <td>Graduation</td>\n",
       "      <td>Divorced</td>\n",
       "      <td>56981.0</td>\n",
       "      <td>0</td>\n",
       "      <td>0</td>\n",
       "      <td>2014-01-25</td>\n",
       "      <td>91</td>\n",
       "      <td>908</td>\n",
       "      <td>...</td>\n",
       "      <td>6</td>\n",
       "      <td>0</td>\n",
       "      <td>1</td>\n",
       "      <td>0</td>\n",
       "      <td>0</td>\n",
       "      <td>0</td>\n",
       "      <td>0</td>\n",
       "      <td>3</td>\n",
       "      <td>11</td>\n",
       "      <td>0</td>\n",
       "    </tr>\n",
       "    <tr>\n",
       "      <th>2238</th>\n",
       "      <td>8235</td>\n",
       "      <td>1956</td>\n",
       "      <td>Master</td>\n",
       "      <td>Together</td>\n",
       "      <td>69245.0</td>\n",
       "      <td>0</td>\n",
       "      <td>1</td>\n",
       "      <td>2014-01-24</td>\n",
       "      <td>8</td>\n",
       "      <td>428</td>\n",
       "      <td>...</td>\n",
       "      <td>3</td>\n",
       "      <td>0</td>\n",
       "      <td>0</td>\n",
       "      <td>0</td>\n",
       "      <td>0</td>\n",
       "      <td>0</td>\n",
       "      <td>0</td>\n",
       "      <td>3</td>\n",
       "      <td>11</td>\n",
       "      <td>0</td>\n",
       "    </tr>\n",
       "    <tr>\n",
       "      <th>2239</th>\n",
       "      <td>9405</td>\n",
       "      <td>1954</td>\n",
       "      <td>PhD</td>\n",
       "      <td>Married</td>\n",
       "      <td>52869.0</td>\n",
       "      <td>1</td>\n",
       "      <td>1</td>\n",
       "      <td>2012-10-15</td>\n",
       "      <td>40</td>\n",
       "      <td>84</td>\n",
       "      <td>...</td>\n",
       "      <td>7</td>\n",
       "      <td>0</td>\n",
       "      <td>0</td>\n",
       "      <td>0</td>\n",
       "      <td>0</td>\n",
       "      <td>0</td>\n",
       "      <td>0</td>\n",
       "      <td>3</td>\n",
       "      <td>11</td>\n",
       "      <td>1</td>\n",
       "    </tr>\n",
       "  </tbody>\n",
       "</table>\n",
       "<p>2216 rows × 29 columns</p>\n",
       "</div>"
      ],
      "text/plain": [
       "         ID  Year_Birth   Education Marital_Status   Income  Kidhome  \\\n",
       "0      5524        1957  Graduation         Single  58138.0        0   \n",
       "1      2174        1954  Graduation         Single  46344.0        1   \n",
       "2      4141        1965  Graduation       Together  71613.0        0   \n",
       "3      6182        1984  Graduation       Together  26646.0        1   \n",
       "4      5324        1981         PhD        Married  58293.0        1   \n",
       "...     ...         ...         ...            ...      ...      ...   \n",
       "2235  10870        1967  Graduation        Married  61223.0        0   \n",
       "2236   4001        1946         PhD       Together  64014.0        2   \n",
       "2237   7270        1981  Graduation       Divorced  56981.0        0   \n",
       "2238   8235        1956      Master       Together  69245.0        0   \n",
       "2239   9405        1954         PhD        Married  52869.0        1   \n",
       "\n",
       "      Teenhome Dt_Customer  Recency  MntWines  ...  NumWebVisitsMonth  \\\n",
       "0            0  2012-09-04       58       635  ...                  7   \n",
       "1            1  2014-03-08       38        11  ...                  5   \n",
       "2            0  2013-08-21       26       426  ...                  4   \n",
       "3            0  2014-02-10       26        11  ...                  6   \n",
       "4            0  2014-01-19       94       173  ...                  5   \n",
       "...        ...         ...      ...       ...  ...                ...   \n",
       "2235         1  2013-06-13       46       709  ...                  5   \n",
       "2236         1  2014-06-10       56       406  ...                  7   \n",
       "2237         0  2014-01-25       91       908  ...                  6   \n",
       "2238         1  2014-01-24        8       428  ...                  3   \n",
       "2239         1  2012-10-15       40        84  ...                  7   \n",
       "\n",
       "      AcceptedCmp3  AcceptedCmp4  AcceptedCmp5  AcceptedCmp1  AcceptedCmp2  \\\n",
       "0                0             0             0             0             0   \n",
       "1                0             0             0             0             0   \n",
       "2                0             0             0             0             0   \n",
       "3                0             0             0             0             0   \n",
       "4                0             0             0             0             0   \n",
       "...            ...           ...           ...           ...           ...   \n",
       "2235             0             0             0             0             0   \n",
       "2236             0             0             0             1             0   \n",
       "2237             0             1             0             0             0   \n",
       "2238             0             0             0             0             0   \n",
       "2239             0             0             0             0             0   \n",
       "\n",
       "      Complain  Z_CostContact  Z_Revenue  Response  \n",
       "0            0              3         11         1  \n",
       "1            0              3         11         0  \n",
       "2            0              3         11         0  \n",
       "3            0              3         11         0  \n",
       "4            0              3         11         0  \n",
       "...        ...            ...        ...       ...  \n",
       "2235         0              3         11         0  \n",
       "2236         0              3         11         0  \n",
       "2237         0              3         11         0  \n",
       "2238         0              3         11         0  \n",
       "2239         0              3         11         1  \n",
       "\n",
       "[2216 rows x 29 columns]"
      ]
     },
     "execution_count": 8,
     "metadata": {},
     "output_type": "execute_result"
    }
   ],
   "source": [
    "df"
   ]
  },
  {
   "cell_type": "markdown",
   "metadata": {},
   "source": [
    "# EDA"
   ]
  },
  {
   "cell_type": "code",
   "execution_count": 9,
   "metadata": {},
   "outputs": [
    {
     "name": "stdout",
     "output_type": "stream",
     "text": [
      "<class 'pandas.core.frame.DataFrame'>\n",
      "Int64Index: 2216 entries, 0 to 2239\n",
      "Data columns (total 29 columns):\n",
      " #   Column               Non-Null Count  Dtype  \n",
      "---  ------               --------------  -----  \n",
      " 0   ID                   2216 non-null   int64  \n",
      " 1   Year_Birth           2216 non-null   int64  \n",
      " 2   Education            2216 non-null   object \n",
      " 3   Marital_Status       2216 non-null   object \n",
      " 4   Income               2216 non-null   float64\n",
      " 5   Kidhome              2216 non-null   int64  \n",
      " 6   Teenhome             2216 non-null   int64  \n",
      " 7   Dt_Customer          2216 non-null   object \n",
      " 8   Recency              2216 non-null   int64  \n",
      " 9   MntWines             2216 non-null   int64  \n",
      " 10  MntFruits            2216 non-null   int64  \n",
      " 11  MntMeatProducts      2216 non-null   int64  \n",
      " 12  MntFishProducts      2216 non-null   int64  \n",
      " 13  MntSweetProducts     2216 non-null   int64  \n",
      " 14  MntGoldProds         2216 non-null   int64  \n",
      " 15  NumDealsPurchases    2216 non-null   int64  \n",
      " 16  NumWebPurchases      2216 non-null   int64  \n",
      " 17  NumCatalogPurchases  2216 non-null   int64  \n",
      " 18  NumStorePurchases    2216 non-null   int64  \n",
      " 19  NumWebVisitsMonth    2216 non-null   int64  \n",
      " 20  AcceptedCmp3         2216 non-null   int64  \n",
      " 21  AcceptedCmp4         2216 non-null   int64  \n",
      " 22  AcceptedCmp5         2216 non-null   int64  \n",
      " 23  AcceptedCmp1         2216 non-null   int64  \n",
      " 24  AcceptedCmp2         2216 non-null   int64  \n",
      " 25  Complain             2216 non-null   int64  \n",
      " 26  Z_CostContact        2216 non-null   int64  \n",
      " 27  Z_Revenue            2216 non-null   int64  \n",
      " 28  Response             2216 non-null   int64  \n",
      "dtypes: float64(1), int64(25), object(3)\n",
      "memory usage: 519.4+ KB\n"
     ]
    }
   ],
   "source": [
    "df.info()"
   ]
  },
  {
   "cell_type": "code",
   "execution_count": 10,
   "metadata": {},
   "outputs": [],
   "source": [
    "# remove whitespaces\n",
    "df.columns = df.columns.str.replace(' ', '')"
   ]
  },
  {
   "cell_type": "code",
   "execution_count": 11,
   "metadata": {},
   "outputs": [
    {
     "data": {
      "text/plain": [
       "2216"
      ]
     },
     "execution_count": 11,
     "metadata": {},
     "output_type": "execute_result"
    }
   ],
   "source": [
    "df['ID'].nunique()"
   ]
  },
  {
   "cell_type": "code",
   "execution_count": 12,
   "metadata": {},
   "outputs": [
    {
     "data": {
      "text/plain": [
       "1"
      ]
     },
     "execution_count": 12,
     "metadata": {},
     "output_type": "execute_result"
    }
   ],
   "source": [
    "df['Z_CostContact'].nunique()"
   ]
  },
  {
   "cell_type": "code",
   "execution_count": 13,
   "metadata": {},
   "outputs": [
    {
     "data": {
      "text/plain": [
       "1"
      ]
     },
     "execution_count": 13,
     "metadata": {},
     "output_type": "execute_result"
    }
   ],
   "source": [
    "df['Z_Revenue'].nunique()"
   ]
  },
  {
   "cell_type": "code",
   "execution_count": 14,
   "metadata": {},
   "outputs": [],
   "source": [
    "# drop these columns as ID values are all unique, while Z_Revenue & Z_CostContact both have only one value\n",
    "\n",
    "df.drop(['ID','Z_Revenue', 'Z_CostContact'],axis=1,inplace=True)"
   ]
  },
  {
   "cell_type": "code",
   "execution_count": 15,
   "metadata": {},
   "outputs": [
    {
     "data": {
      "text/html": [
       "<div>\n",
       "<style scoped>\n",
       "    .dataframe tbody tr th:only-of-type {\n",
       "        vertical-align: middle;\n",
       "    }\n",
       "\n",
       "    .dataframe tbody tr th {\n",
       "        vertical-align: top;\n",
       "    }\n",
       "\n",
       "    .dataframe thead th {\n",
       "        text-align: right;\n",
       "    }\n",
       "</style>\n",
       "<table border=\"1\" class=\"dataframe\">\n",
       "  <thead>\n",
       "    <tr style=\"text-align: right;\">\n",
       "      <th></th>\n",
       "      <th>Year_Birth</th>\n",
       "      <th>Education</th>\n",
       "      <th>Marital_Status</th>\n",
       "      <th>Income</th>\n",
       "      <th>Kidhome</th>\n",
       "      <th>Teenhome</th>\n",
       "      <th>Dt_Customer</th>\n",
       "      <th>Recency</th>\n",
       "      <th>MntWines</th>\n",
       "      <th>MntFruits</th>\n",
       "      <th>...</th>\n",
       "      <th>NumCatalogPurchases</th>\n",
       "      <th>NumStorePurchases</th>\n",
       "      <th>NumWebVisitsMonth</th>\n",
       "      <th>AcceptedCmp3</th>\n",
       "      <th>AcceptedCmp4</th>\n",
       "      <th>AcceptedCmp5</th>\n",
       "      <th>AcceptedCmp1</th>\n",
       "      <th>AcceptedCmp2</th>\n",
       "      <th>Complain</th>\n",
       "      <th>Response</th>\n",
       "    </tr>\n",
       "  </thead>\n",
       "  <tbody>\n",
       "    <tr>\n",
       "      <th>0</th>\n",
       "      <td>1957</td>\n",
       "      <td>Graduation</td>\n",
       "      <td>Single</td>\n",
       "      <td>58138.0</td>\n",
       "      <td>0</td>\n",
       "      <td>0</td>\n",
       "      <td>2012-09-04</td>\n",
       "      <td>58</td>\n",
       "      <td>635</td>\n",
       "      <td>88</td>\n",
       "      <td>...</td>\n",
       "      <td>10</td>\n",
       "      <td>4</td>\n",
       "      <td>7</td>\n",
       "      <td>0</td>\n",
       "      <td>0</td>\n",
       "      <td>0</td>\n",
       "      <td>0</td>\n",
       "      <td>0</td>\n",
       "      <td>0</td>\n",
       "      <td>1</td>\n",
       "    </tr>\n",
       "    <tr>\n",
       "      <th>1</th>\n",
       "      <td>1954</td>\n",
       "      <td>Graduation</td>\n",
       "      <td>Single</td>\n",
       "      <td>46344.0</td>\n",
       "      <td>1</td>\n",
       "      <td>1</td>\n",
       "      <td>2014-03-08</td>\n",
       "      <td>38</td>\n",
       "      <td>11</td>\n",
       "      <td>1</td>\n",
       "      <td>...</td>\n",
       "      <td>1</td>\n",
       "      <td>2</td>\n",
       "      <td>5</td>\n",
       "      <td>0</td>\n",
       "      <td>0</td>\n",
       "      <td>0</td>\n",
       "      <td>0</td>\n",
       "      <td>0</td>\n",
       "      <td>0</td>\n",
       "      <td>0</td>\n",
       "    </tr>\n",
       "    <tr>\n",
       "      <th>2</th>\n",
       "      <td>1965</td>\n",
       "      <td>Graduation</td>\n",
       "      <td>Together</td>\n",
       "      <td>71613.0</td>\n",
       "      <td>0</td>\n",
       "      <td>0</td>\n",
       "      <td>2013-08-21</td>\n",
       "      <td>26</td>\n",
       "      <td>426</td>\n",
       "      <td>49</td>\n",
       "      <td>...</td>\n",
       "      <td>2</td>\n",
       "      <td>10</td>\n",
       "      <td>4</td>\n",
       "      <td>0</td>\n",
       "      <td>0</td>\n",
       "      <td>0</td>\n",
       "      <td>0</td>\n",
       "      <td>0</td>\n",
       "      <td>0</td>\n",
       "      <td>0</td>\n",
       "    </tr>\n",
       "    <tr>\n",
       "      <th>3</th>\n",
       "      <td>1984</td>\n",
       "      <td>Graduation</td>\n",
       "      <td>Together</td>\n",
       "      <td>26646.0</td>\n",
       "      <td>1</td>\n",
       "      <td>0</td>\n",
       "      <td>2014-02-10</td>\n",
       "      <td>26</td>\n",
       "      <td>11</td>\n",
       "      <td>4</td>\n",
       "      <td>...</td>\n",
       "      <td>0</td>\n",
       "      <td>4</td>\n",
       "      <td>6</td>\n",
       "      <td>0</td>\n",
       "      <td>0</td>\n",
       "      <td>0</td>\n",
       "      <td>0</td>\n",
       "      <td>0</td>\n",
       "      <td>0</td>\n",
       "      <td>0</td>\n",
       "    </tr>\n",
       "    <tr>\n",
       "      <th>4</th>\n",
       "      <td>1981</td>\n",
       "      <td>PhD</td>\n",
       "      <td>Married</td>\n",
       "      <td>58293.0</td>\n",
       "      <td>1</td>\n",
       "      <td>0</td>\n",
       "      <td>2014-01-19</td>\n",
       "      <td>94</td>\n",
       "      <td>173</td>\n",
       "      <td>43</td>\n",
       "      <td>...</td>\n",
       "      <td>3</td>\n",
       "      <td>6</td>\n",
       "      <td>5</td>\n",
       "      <td>0</td>\n",
       "      <td>0</td>\n",
       "      <td>0</td>\n",
       "      <td>0</td>\n",
       "      <td>0</td>\n",
       "      <td>0</td>\n",
       "      <td>0</td>\n",
       "    </tr>\n",
       "    <tr>\n",
       "      <th>...</th>\n",
       "      <td>...</td>\n",
       "      <td>...</td>\n",
       "      <td>...</td>\n",
       "      <td>...</td>\n",
       "      <td>...</td>\n",
       "      <td>...</td>\n",
       "      <td>...</td>\n",
       "      <td>...</td>\n",
       "      <td>...</td>\n",
       "      <td>...</td>\n",
       "      <td>...</td>\n",
       "      <td>...</td>\n",
       "      <td>...</td>\n",
       "      <td>...</td>\n",
       "      <td>...</td>\n",
       "      <td>...</td>\n",
       "      <td>...</td>\n",
       "      <td>...</td>\n",
       "      <td>...</td>\n",
       "      <td>...</td>\n",
       "      <td>...</td>\n",
       "    </tr>\n",
       "    <tr>\n",
       "      <th>2235</th>\n",
       "      <td>1967</td>\n",
       "      <td>Graduation</td>\n",
       "      <td>Married</td>\n",
       "      <td>61223.0</td>\n",
       "      <td>0</td>\n",
       "      <td>1</td>\n",
       "      <td>2013-06-13</td>\n",
       "      <td>46</td>\n",
       "      <td>709</td>\n",
       "      <td>43</td>\n",
       "      <td>...</td>\n",
       "      <td>3</td>\n",
       "      <td>4</td>\n",
       "      <td>5</td>\n",
       "      <td>0</td>\n",
       "      <td>0</td>\n",
       "      <td>0</td>\n",
       "      <td>0</td>\n",
       "      <td>0</td>\n",
       "      <td>0</td>\n",
       "      <td>0</td>\n",
       "    </tr>\n",
       "    <tr>\n",
       "      <th>2236</th>\n",
       "      <td>1946</td>\n",
       "      <td>PhD</td>\n",
       "      <td>Together</td>\n",
       "      <td>64014.0</td>\n",
       "      <td>2</td>\n",
       "      <td>1</td>\n",
       "      <td>2014-06-10</td>\n",
       "      <td>56</td>\n",
       "      <td>406</td>\n",
       "      <td>0</td>\n",
       "      <td>...</td>\n",
       "      <td>2</td>\n",
       "      <td>5</td>\n",
       "      <td>7</td>\n",
       "      <td>0</td>\n",
       "      <td>0</td>\n",
       "      <td>0</td>\n",
       "      <td>1</td>\n",
       "      <td>0</td>\n",
       "      <td>0</td>\n",
       "      <td>0</td>\n",
       "    </tr>\n",
       "    <tr>\n",
       "      <th>2237</th>\n",
       "      <td>1981</td>\n",
       "      <td>Graduation</td>\n",
       "      <td>Divorced</td>\n",
       "      <td>56981.0</td>\n",
       "      <td>0</td>\n",
       "      <td>0</td>\n",
       "      <td>2014-01-25</td>\n",
       "      <td>91</td>\n",
       "      <td>908</td>\n",
       "      <td>48</td>\n",
       "      <td>...</td>\n",
       "      <td>3</td>\n",
       "      <td>13</td>\n",
       "      <td>6</td>\n",
       "      <td>0</td>\n",
       "      <td>1</td>\n",
       "      <td>0</td>\n",
       "      <td>0</td>\n",
       "      <td>0</td>\n",
       "      <td>0</td>\n",
       "      <td>0</td>\n",
       "    </tr>\n",
       "    <tr>\n",
       "      <th>2238</th>\n",
       "      <td>1956</td>\n",
       "      <td>Master</td>\n",
       "      <td>Together</td>\n",
       "      <td>69245.0</td>\n",
       "      <td>0</td>\n",
       "      <td>1</td>\n",
       "      <td>2014-01-24</td>\n",
       "      <td>8</td>\n",
       "      <td>428</td>\n",
       "      <td>30</td>\n",
       "      <td>...</td>\n",
       "      <td>5</td>\n",
       "      <td>10</td>\n",
       "      <td>3</td>\n",
       "      <td>0</td>\n",
       "      <td>0</td>\n",
       "      <td>0</td>\n",
       "      <td>0</td>\n",
       "      <td>0</td>\n",
       "      <td>0</td>\n",
       "      <td>0</td>\n",
       "    </tr>\n",
       "    <tr>\n",
       "      <th>2239</th>\n",
       "      <td>1954</td>\n",
       "      <td>PhD</td>\n",
       "      <td>Married</td>\n",
       "      <td>52869.0</td>\n",
       "      <td>1</td>\n",
       "      <td>1</td>\n",
       "      <td>2012-10-15</td>\n",
       "      <td>40</td>\n",
       "      <td>84</td>\n",
       "      <td>3</td>\n",
       "      <td>...</td>\n",
       "      <td>1</td>\n",
       "      <td>4</td>\n",
       "      <td>7</td>\n",
       "      <td>0</td>\n",
       "      <td>0</td>\n",
       "      <td>0</td>\n",
       "      <td>0</td>\n",
       "      <td>0</td>\n",
       "      <td>0</td>\n",
       "      <td>1</td>\n",
       "    </tr>\n",
       "  </tbody>\n",
       "</table>\n",
       "<p>2216 rows × 26 columns</p>\n",
       "</div>"
      ],
      "text/plain": [
       "      Year_Birth   Education Marital_Status   Income  Kidhome  Teenhome  \\\n",
       "0           1957  Graduation         Single  58138.0        0         0   \n",
       "1           1954  Graduation         Single  46344.0        1         1   \n",
       "2           1965  Graduation       Together  71613.0        0         0   \n",
       "3           1984  Graduation       Together  26646.0        1         0   \n",
       "4           1981         PhD        Married  58293.0        1         0   \n",
       "...          ...         ...            ...      ...      ...       ...   \n",
       "2235        1967  Graduation        Married  61223.0        0         1   \n",
       "2236        1946         PhD       Together  64014.0        2         1   \n",
       "2237        1981  Graduation       Divorced  56981.0        0         0   \n",
       "2238        1956      Master       Together  69245.0        0         1   \n",
       "2239        1954         PhD        Married  52869.0        1         1   \n",
       "\n",
       "     Dt_Customer  Recency  MntWines  MntFruits  ...  NumCatalogPurchases  \\\n",
       "0     2012-09-04       58       635         88  ...                   10   \n",
       "1     2014-03-08       38        11          1  ...                    1   \n",
       "2     2013-08-21       26       426         49  ...                    2   \n",
       "3     2014-02-10       26        11          4  ...                    0   \n",
       "4     2014-01-19       94       173         43  ...                    3   \n",
       "...          ...      ...       ...        ...  ...                  ...   \n",
       "2235  2013-06-13       46       709         43  ...                    3   \n",
       "2236  2014-06-10       56       406          0  ...                    2   \n",
       "2237  2014-01-25       91       908         48  ...                    3   \n",
       "2238  2014-01-24        8       428         30  ...                    5   \n",
       "2239  2012-10-15       40        84          3  ...                    1   \n",
       "\n",
       "      NumStorePurchases  NumWebVisitsMonth  AcceptedCmp3  AcceptedCmp4  \\\n",
       "0                     4                  7             0             0   \n",
       "1                     2                  5             0             0   \n",
       "2                    10                  4             0             0   \n",
       "3                     4                  6             0             0   \n",
       "4                     6                  5             0             0   \n",
       "...                 ...                ...           ...           ...   \n",
       "2235                  4                  5             0             0   \n",
       "2236                  5                  7             0             0   \n",
       "2237                 13                  6             0             1   \n",
       "2238                 10                  3             0             0   \n",
       "2239                  4                  7             0             0   \n",
       "\n",
       "      AcceptedCmp5  AcceptedCmp1  AcceptedCmp2  Complain  Response  \n",
       "0                0             0             0         0         1  \n",
       "1                0             0             0         0         0  \n",
       "2                0             0             0         0         0  \n",
       "3                0             0             0         0         0  \n",
       "4                0             0             0         0         0  \n",
       "...            ...           ...           ...       ...       ...  \n",
       "2235             0             0             0         0         0  \n",
       "2236             0             1             0         0         0  \n",
       "2237             0             0             0         0         0  \n",
       "2238             0             0             0         0         0  \n",
       "2239             0             0             0         0         1  \n",
       "\n",
       "[2216 rows x 26 columns]"
      ]
     },
     "execution_count": 15,
     "metadata": {},
     "output_type": "execute_result"
    }
   ],
   "source": [
    "df"
   ]
  },
  {
   "cell_type": "code",
   "execution_count": null,
   "metadata": {},
   "outputs": [],
   "source": [
    "# splitting the df.Dt_Customer and some insights on activity"
   ]
  },
  {
   "cell_type": "code",
   "execution_count": 16,
   "metadata": {},
   "outputs": [],
   "source": [
    "df.Dt_Customer = pd.to_datetime(df.Dt_Customer,dayfirst = False)"
   ]
  },
  {
   "cell_type": "code",
   "execution_count": 17,
   "metadata": {},
   "outputs": [
    {
     "name": "stdout",
     "output_type": "stream",
     "text": [
      "Newest Customer 2014-06-29\n",
      "Oldest Customer 2012-07-30\n"
     ]
    }
   ],
   "source": [
    "dates=[]\n",
    "for i in df['Dt_Customer']:\n",
    "    i=i.date()\n",
    "    dates.append(i)\n",
    "print(\"Newest Customer\",max(dates))\n",
    "print(\"Oldest Customer\",min(dates))"
   ]
  },
  {
   "cell_type": "code",
   "execution_count": 18,
   "metadata": {},
   "outputs": [],
   "source": [
    "df[['month']] = pd.DataFrame(df.Dt_Customer.dt.month)\n",
    "df[['day']] = pd.DataFrame(df.Dt_Customer.dt.day)\n",
    "df[['year']] = pd.DataFrame(df.Dt_Customer.dt.year)"
   ]
  },
  {
   "cell_type": "code",
   "execution_count": 19,
   "metadata": {},
   "outputs": [
    {
     "data": {
      "text/html": [
       "<div>\n",
       "<style scoped>\n",
       "    .dataframe tbody tr th:only-of-type {\n",
       "        vertical-align: middle;\n",
       "    }\n",
       "\n",
       "    .dataframe tbody tr th {\n",
       "        vertical-align: top;\n",
       "    }\n",
       "\n",
       "    .dataframe thead th {\n",
       "        text-align: right;\n",
       "    }\n",
       "</style>\n",
       "<table border=\"1\" class=\"dataframe\">\n",
       "  <thead>\n",
       "    <tr style=\"text-align: right;\">\n",
       "      <th></th>\n",
       "      <th>Year_Birth</th>\n",
       "      <th>Education</th>\n",
       "      <th>Marital_Status</th>\n",
       "      <th>Income</th>\n",
       "      <th>Kidhome</th>\n",
       "      <th>Teenhome</th>\n",
       "      <th>Recency</th>\n",
       "      <th>MntWines</th>\n",
       "      <th>MntFruits</th>\n",
       "      <th>MntMeatProducts</th>\n",
       "      <th>...</th>\n",
       "      <th>AcceptedCmp3</th>\n",
       "      <th>AcceptedCmp4</th>\n",
       "      <th>AcceptedCmp5</th>\n",
       "      <th>AcceptedCmp1</th>\n",
       "      <th>AcceptedCmp2</th>\n",
       "      <th>Complain</th>\n",
       "      <th>Response</th>\n",
       "      <th>month</th>\n",
       "      <th>day</th>\n",
       "      <th>year</th>\n",
       "    </tr>\n",
       "  </thead>\n",
       "  <tbody>\n",
       "    <tr>\n",
       "      <th>0</th>\n",
       "      <td>1957</td>\n",
       "      <td>Graduation</td>\n",
       "      <td>Single</td>\n",
       "      <td>58138.0</td>\n",
       "      <td>0</td>\n",
       "      <td>0</td>\n",
       "      <td>58</td>\n",
       "      <td>635</td>\n",
       "      <td>88</td>\n",
       "      <td>546</td>\n",
       "      <td>...</td>\n",
       "      <td>0</td>\n",
       "      <td>0</td>\n",
       "      <td>0</td>\n",
       "      <td>0</td>\n",
       "      <td>0</td>\n",
       "      <td>0</td>\n",
       "      <td>1</td>\n",
       "      <td>9</td>\n",
       "      <td>4</td>\n",
       "      <td>2012</td>\n",
       "    </tr>\n",
       "    <tr>\n",
       "      <th>1</th>\n",
       "      <td>1954</td>\n",
       "      <td>Graduation</td>\n",
       "      <td>Single</td>\n",
       "      <td>46344.0</td>\n",
       "      <td>1</td>\n",
       "      <td>1</td>\n",
       "      <td>38</td>\n",
       "      <td>11</td>\n",
       "      <td>1</td>\n",
       "      <td>6</td>\n",
       "      <td>...</td>\n",
       "      <td>0</td>\n",
       "      <td>0</td>\n",
       "      <td>0</td>\n",
       "      <td>0</td>\n",
       "      <td>0</td>\n",
       "      <td>0</td>\n",
       "      <td>0</td>\n",
       "      <td>3</td>\n",
       "      <td>8</td>\n",
       "      <td>2014</td>\n",
       "    </tr>\n",
       "    <tr>\n",
       "      <th>2</th>\n",
       "      <td>1965</td>\n",
       "      <td>Graduation</td>\n",
       "      <td>Together</td>\n",
       "      <td>71613.0</td>\n",
       "      <td>0</td>\n",
       "      <td>0</td>\n",
       "      <td>26</td>\n",
       "      <td>426</td>\n",
       "      <td>49</td>\n",
       "      <td>127</td>\n",
       "      <td>...</td>\n",
       "      <td>0</td>\n",
       "      <td>0</td>\n",
       "      <td>0</td>\n",
       "      <td>0</td>\n",
       "      <td>0</td>\n",
       "      <td>0</td>\n",
       "      <td>0</td>\n",
       "      <td>8</td>\n",
       "      <td>21</td>\n",
       "      <td>2013</td>\n",
       "    </tr>\n",
       "    <tr>\n",
       "      <th>3</th>\n",
       "      <td>1984</td>\n",
       "      <td>Graduation</td>\n",
       "      <td>Together</td>\n",
       "      <td>26646.0</td>\n",
       "      <td>1</td>\n",
       "      <td>0</td>\n",
       "      <td>26</td>\n",
       "      <td>11</td>\n",
       "      <td>4</td>\n",
       "      <td>20</td>\n",
       "      <td>...</td>\n",
       "      <td>0</td>\n",
       "      <td>0</td>\n",
       "      <td>0</td>\n",
       "      <td>0</td>\n",
       "      <td>0</td>\n",
       "      <td>0</td>\n",
       "      <td>0</td>\n",
       "      <td>2</td>\n",
       "      <td>10</td>\n",
       "      <td>2014</td>\n",
       "    </tr>\n",
       "    <tr>\n",
       "      <th>4</th>\n",
       "      <td>1981</td>\n",
       "      <td>PhD</td>\n",
       "      <td>Married</td>\n",
       "      <td>58293.0</td>\n",
       "      <td>1</td>\n",
       "      <td>0</td>\n",
       "      <td>94</td>\n",
       "      <td>173</td>\n",
       "      <td>43</td>\n",
       "      <td>118</td>\n",
       "      <td>...</td>\n",
       "      <td>0</td>\n",
       "      <td>0</td>\n",
       "      <td>0</td>\n",
       "      <td>0</td>\n",
       "      <td>0</td>\n",
       "      <td>0</td>\n",
       "      <td>0</td>\n",
       "      <td>1</td>\n",
       "      <td>19</td>\n",
       "      <td>2014</td>\n",
       "    </tr>\n",
       "    <tr>\n",
       "      <th>...</th>\n",
       "      <td>...</td>\n",
       "      <td>...</td>\n",
       "      <td>...</td>\n",
       "      <td>...</td>\n",
       "      <td>...</td>\n",
       "      <td>...</td>\n",
       "      <td>...</td>\n",
       "      <td>...</td>\n",
       "      <td>...</td>\n",
       "      <td>...</td>\n",
       "      <td>...</td>\n",
       "      <td>...</td>\n",
       "      <td>...</td>\n",
       "      <td>...</td>\n",
       "      <td>...</td>\n",
       "      <td>...</td>\n",
       "      <td>...</td>\n",
       "      <td>...</td>\n",
       "      <td>...</td>\n",
       "      <td>...</td>\n",
       "      <td>...</td>\n",
       "    </tr>\n",
       "    <tr>\n",
       "      <th>2235</th>\n",
       "      <td>1967</td>\n",
       "      <td>Graduation</td>\n",
       "      <td>Married</td>\n",
       "      <td>61223.0</td>\n",
       "      <td>0</td>\n",
       "      <td>1</td>\n",
       "      <td>46</td>\n",
       "      <td>709</td>\n",
       "      <td>43</td>\n",
       "      <td>182</td>\n",
       "      <td>...</td>\n",
       "      <td>0</td>\n",
       "      <td>0</td>\n",
       "      <td>0</td>\n",
       "      <td>0</td>\n",
       "      <td>0</td>\n",
       "      <td>0</td>\n",
       "      <td>0</td>\n",
       "      <td>6</td>\n",
       "      <td>13</td>\n",
       "      <td>2013</td>\n",
       "    </tr>\n",
       "    <tr>\n",
       "      <th>2236</th>\n",
       "      <td>1946</td>\n",
       "      <td>PhD</td>\n",
       "      <td>Together</td>\n",
       "      <td>64014.0</td>\n",
       "      <td>2</td>\n",
       "      <td>1</td>\n",
       "      <td>56</td>\n",
       "      <td>406</td>\n",
       "      <td>0</td>\n",
       "      <td>30</td>\n",
       "      <td>...</td>\n",
       "      <td>0</td>\n",
       "      <td>0</td>\n",
       "      <td>0</td>\n",
       "      <td>1</td>\n",
       "      <td>0</td>\n",
       "      <td>0</td>\n",
       "      <td>0</td>\n",
       "      <td>6</td>\n",
       "      <td>10</td>\n",
       "      <td>2014</td>\n",
       "    </tr>\n",
       "    <tr>\n",
       "      <th>2237</th>\n",
       "      <td>1981</td>\n",
       "      <td>Graduation</td>\n",
       "      <td>Divorced</td>\n",
       "      <td>56981.0</td>\n",
       "      <td>0</td>\n",
       "      <td>0</td>\n",
       "      <td>91</td>\n",
       "      <td>908</td>\n",
       "      <td>48</td>\n",
       "      <td>217</td>\n",
       "      <td>...</td>\n",
       "      <td>0</td>\n",
       "      <td>1</td>\n",
       "      <td>0</td>\n",
       "      <td>0</td>\n",
       "      <td>0</td>\n",
       "      <td>0</td>\n",
       "      <td>0</td>\n",
       "      <td>1</td>\n",
       "      <td>25</td>\n",
       "      <td>2014</td>\n",
       "    </tr>\n",
       "    <tr>\n",
       "      <th>2238</th>\n",
       "      <td>1956</td>\n",
       "      <td>Master</td>\n",
       "      <td>Together</td>\n",
       "      <td>69245.0</td>\n",
       "      <td>0</td>\n",
       "      <td>1</td>\n",
       "      <td>8</td>\n",
       "      <td>428</td>\n",
       "      <td>30</td>\n",
       "      <td>214</td>\n",
       "      <td>...</td>\n",
       "      <td>0</td>\n",
       "      <td>0</td>\n",
       "      <td>0</td>\n",
       "      <td>0</td>\n",
       "      <td>0</td>\n",
       "      <td>0</td>\n",
       "      <td>0</td>\n",
       "      <td>1</td>\n",
       "      <td>24</td>\n",
       "      <td>2014</td>\n",
       "    </tr>\n",
       "    <tr>\n",
       "      <th>2239</th>\n",
       "      <td>1954</td>\n",
       "      <td>PhD</td>\n",
       "      <td>Married</td>\n",
       "      <td>52869.0</td>\n",
       "      <td>1</td>\n",
       "      <td>1</td>\n",
       "      <td>40</td>\n",
       "      <td>84</td>\n",
       "      <td>3</td>\n",
       "      <td>61</td>\n",
       "      <td>...</td>\n",
       "      <td>0</td>\n",
       "      <td>0</td>\n",
       "      <td>0</td>\n",
       "      <td>0</td>\n",
       "      <td>0</td>\n",
       "      <td>0</td>\n",
       "      <td>1</td>\n",
       "      <td>10</td>\n",
       "      <td>15</td>\n",
       "      <td>2012</td>\n",
       "    </tr>\n",
       "  </tbody>\n",
       "</table>\n",
       "<p>2216 rows × 28 columns</p>\n",
       "</div>"
      ],
      "text/plain": [
       "      Year_Birth   Education Marital_Status   Income  Kidhome  Teenhome  \\\n",
       "0           1957  Graduation         Single  58138.0        0         0   \n",
       "1           1954  Graduation         Single  46344.0        1         1   \n",
       "2           1965  Graduation       Together  71613.0        0         0   \n",
       "3           1984  Graduation       Together  26646.0        1         0   \n",
       "4           1981         PhD        Married  58293.0        1         0   \n",
       "...          ...         ...            ...      ...      ...       ...   \n",
       "2235        1967  Graduation        Married  61223.0        0         1   \n",
       "2236        1946         PhD       Together  64014.0        2         1   \n",
       "2237        1981  Graduation       Divorced  56981.0        0         0   \n",
       "2238        1956      Master       Together  69245.0        0         1   \n",
       "2239        1954         PhD        Married  52869.0        1         1   \n",
       "\n",
       "      Recency  MntWines  MntFruits  MntMeatProducts  ...  AcceptedCmp3  \\\n",
       "0          58       635         88              546  ...             0   \n",
       "1          38        11          1                6  ...             0   \n",
       "2          26       426         49              127  ...             0   \n",
       "3          26        11          4               20  ...             0   \n",
       "4          94       173         43              118  ...             0   \n",
       "...       ...       ...        ...              ...  ...           ...   \n",
       "2235       46       709         43              182  ...             0   \n",
       "2236       56       406          0               30  ...             0   \n",
       "2237       91       908         48              217  ...             0   \n",
       "2238        8       428         30              214  ...             0   \n",
       "2239       40        84          3               61  ...             0   \n",
       "\n",
       "      AcceptedCmp4  AcceptedCmp5  AcceptedCmp1  AcceptedCmp2  Complain  \\\n",
       "0                0             0             0             0         0   \n",
       "1                0             0             0             0         0   \n",
       "2                0             0             0             0         0   \n",
       "3                0             0             0             0         0   \n",
       "4                0             0             0             0         0   \n",
       "...            ...           ...           ...           ...       ...   \n",
       "2235             0             0             0             0         0   \n",
       "2236             0             0             1             0         0   \n",
       "2237             1             0             0             0         0   \n",
       "2238             0             0             0             0         0   \n",
       "2239             0             0             0             0         0   \n",
       "\n",
       "      Response  month  day  year  \n",
       "0            1      9    4  2012  \n",
       "1            0      3    8  2014  \n",
       "2            0      8   21  2013  \n",
       "3            0      2   10  2014  \n",
       "4            0      1   19  2014  \n",
       "...        ...    ...  ...   ...  \n",
       "2235         0      6   13  2013  \n",
       "2236         0      6   10  2014  \n",
       "2237         0      1   25  2014  \n",
       "2238         0      1   24  2014  \n",
       "2239         1     10   15  2012  \n",
       "\n",
       "[2216 rows x 28 columns]"
      ]
     },
     "execution_count": 19,
     "metadata": {},
     "output_type": "execute_result"
    }
   ],
   "source": [
    "df.drop(columns = 'Dt_Customer',inplace = True)\n",
    "df"
   ]
  },
  {
   "cell_type": "code",
   "execution_count": 20,
   "metadata": {},
   "outputs": [
    {
     "data": {
      "text/html": [
       "<div>\n",
       "<style scoped>\n",
       "    .dataframe tbody tr th:only-of-type {\n",
       "        vertical-align: middle;\n",
       "    }\n",
       "\n",
       "    .dataframe tbody tr th {\n",
       "        vertical-align: top;\n",
       "    }\n",
       "\n",
       "    .dataframe thead th {\n",
       "        text-align: right;\n",
       "    }\n",
       "</style>\n",
       "<table border=\"1\" class=\"dataframe\">\n",
       "  <thead>\n",
       "    <tr style=\"text-align: right;\">\n",
       "      <th></th>\n",
       "      <th>Education</th>\n",
       "      <th>Marital_Status</th>\n",
       "      <th>Income</th>\n",
       "      <th>Kidhome</th>\n",
       "      <th>Teenhome</th>\n",
       "      <th>Recency</th>\n",
       "      <th>MntWines</th>\n",
       "      <th>MntFruits</th>\n",
       "      <th>MntMeatProducts</th>\n",
       "      <th>MntFishProducts</th>\n",
       "      <th>...</th>\n",
       "      <th>AcceptedCmp4</th>\n",
       "      <th>AcceptedCmp5</th>\n",
       "      <th>AcceptedCmp1</th>\n",
       "      <th>AcceptedCmp2</th>\n",
       "      <th>Complain</th>\n",
       "      <th>Response</th>\n",
       "      <th>month</th>\n",
       "      <th>day</th>\n",
       "      <th>year</th>\n",
       "      <th>Customer_age</th>\n",
       "    </tr>\n",
       "  </thead>\n",
       "  <tbody>\n",
       "    <tr>\n",
       "      <th>0</th>\n",
       "      <td>Graduation</td>\n",
       "      <td>Single</td>\n",
       "      <td>58138.0</td>\n",
       "      <td>0</td>\n",
       "      <td>0</td>\n",
       "      <td>58</td>\n",
       "      <td>635</td>\n",
       "      <td>88</td>\n",
       "      <td>546</td>\n",
       "      <td>172</td>\n",
       "      <td>...</td>\n",
       "      <td>0</td>\n",
       "      <td>0</td>\n",
       "      <td>0</td>\n",
       "      <td>0</td>\n",
       "      <td>0</td>\n",
       "      <td>1</td>\n",
       "      <td>9</td>\n",
       "      <td>4</td>\n",
       "      <td>2012</td>\n",
       "      <td>57</td>\n",
       "    </tr>\n",
       "    <tr>\n",
       "      <th>1</th>\n",
       "      <td>Graduation</td>\n",
       "      <td>Single</td>\n",
       "      <td>46344.0</td>\n",
       "      <td>1</td>\n",
       "      <td>1</td>\n",
       "      <td>38</td>\n",
       "      <td>11</td>\n",
       "      <td>1</td>\n",
       "      <td>6</td>\n",
       "      <td>2</td>\n",
       "      <td>...</td>\n",
       "      <td>0</td>\n",
       "      <td>0</td>\n",
       "      <td>0</td>\n",
       "      <td>0</td>\n",
       "      <td>0</td>\n",
       "      <td>0</td>\n",
       "      <td>3</td>\n",
       "      <td>8</td>\n",
       "      <td>2014</td>\n",
       "      <td>60</td>\n",
       "    </tr>\n",
       "    <tr>\n",
       "      <th>2</th>\n",
       "      <td>Graduation</td>\n",
       "      <td>Together</td>\n",
       "      <td>71613.0</td>\n",
       "      <td>0</td>\n",
       "      <td>0</td>\n",
       "      <td>26</td>\n",
       "      <td>426</td>\n",
       "      <td>49</td>\n",
       "      <td>127</td>\n",
       "      <td>111</td>\n",
       "      <td>...</td>\n",
       "      <td>0</td>\n",
       "      <td>0</td>\n",
       "      <td>0</td>\n",
       "      <td>0</td>\n",
       "      <td>0</td>\n",
       "      <td>0</td>\n",
       "      <td>8</td>\n",
       "      <td>21</td>\n",
       "      <td>2013</td>\n",
       "      <td>49</td>\n",
       "    </tr>\n",
       "    <tr>\n",
       "      <th>3</th>\n",
       "      <td>Graduation</td>\n",
       "      <td>Together</td>\n",
       "      <td>26646.0</td>\n",
       "      <td>1</td>\n",
       "      <td>0</td>\n",
       "      <td>26</td>\n",
       "      <td>11</td>\n",
       "      <td>4</td>\n",
       "      <td>20</td>\n",
       "      <td>10</td>\n",
       "      <td>...</td>\n",
       "      <td>0</td>\n",
       "      <td>0</td>\n",
       "      <td>0</td>\n",
       "      <td>0</td>\n",
       "      <td>0</td>\n",
       "      <td>0</td>\n",
       "      <td>2</td>\n",
       "      <td>10</td>\n",
       "      <td>2014</td>\n",
       "      <td>30</td>\n",
       "    </tr>\n",
       "    <tr>\n",
       "      <th>4</th>\n",
       "      <td>PhD</td>\n",
       "      <td>Married</td>\n",
       "      <td>58293.0</td>\n",
       "      <td>1</td>\n",
       "      <td>0</td>\n",
       "      <td>94</td>\n",
       "      <td>173</td>\n",
       "      <td>43</td>\n",
       "      <td>118</td>\n",
       "      <td>46</td>\n",
       "      <td>...</td>\n",
       "      <td>0</td>\n",
       "      <td>0</td>\n",
       "      <td>0</td>\n",
       "      <td>0</td>\n",
       "      <td>0</td>\n",
       "      <td>0</td>\n",
       "      <td>1</td>\n",
       "      <td>19</td>\n",
       "      <td>2014</td>\n",
       "      <td>33</td>\n",
       "    </tr>\n",
       "    <tr>\n",
       "      <th>...</th>\n",
       "      <td>...</td>\n",
       "      <td>...</td>\n",
       "      <td>...</td>\n",
       "      <td>...</td>\n",
       "      <td>...</td>\n",
       "      <td>...</td>\n",
       "      <td>...</td>\n",
       "      <td>...</td>\n",
       "      <td>...</td>\n",
       "      <td>...</td>\n",
       "      <td>...</td>\n",
       "      <td>...</td>\n",
       "      <td>...</td>\n",
       "      <td>...</td>\n",
       "      <td>...</td>\n",
       "      <td>...</td>\n",
       "      <td>...</td>\n",
       "      <td>...</td>\n",
       "      <td>...</td>\n",
       "      <td>...</td>\n",
       "      <td>...</td>\n",
       "    </tr>\n",
       "    <tr>\n",
       "      <th>2235</th>\n",
       "      <td>Graduation</td>\n",
       "      <td>Married</td>\n",
       "      <td>61223.0</td>\n",
       "      <td>0</td>\n",
       "      <td>1</td>\n",
       "      <td>46</td>\n",
       "      <td>709</td>\n",
       "      <td>43</td>\n",
       "      <td>182</td>\n",
       "      <td>42</td>\n",
       "      <td>...</td>\n",
       "      <td>0</td>\n",
       "      <td>0</td>\n",
       "      <td>0</td>\n",
       "      <td>0</td>\n",
       "      <td>0</td>\n",
       "      <td>0</td>\n",
       "      <td>6</td>\n",
       "      <td>13</td>\n",
       "      <td>2013</td>\n",
       "      <td>47</td>\n",
       "    </tr>\n",
       "    <tr>\n",
       "      <th>2236</th>\n",
       "      <td>PhD</td>\n",
       "      <td>Together</td>\n",
       "      <td>64014.0</td>\n",
       "      <td>2</td>\n",
       "      <td>1</td>\n",
       "      <td>56</td>\n",
       "      <td>406</td>\n",
       "      <td>0</td>\n",
       "      <td>30</td>\n",
       "      <td>0</td>\n",
       "      <td>...</td>\n",
       "      <td>0</td>\n",
       "      <td>0</td>\n",
       "      <td>1</td>\n",
       "      <td>0</td>\n",
       "      <td>0</td>\n",
       "      <td>0</td>\n",
       "      <td>6</td>\n",
       "      <td>10</td>\n",
       "      <td>2014</td>\n",
       "      <td>68</td>\n",
       "    </tr>\n",
       "    <tr>\n",
       "      <th>2237</th>\n",
       "      <td>Graduation</td>\n",
       "      <td>Divorced</td>\n",
       "      <td>56981.0</td>\n",
       "      <td>0</td>\n",
       "      <td>0</td>\n",
       "      <td>91</td>\n",
       "      <td>908</td>\n",
       "      <td>48</td>\n",
       "      <td>217</td>\n",
       "      <td>32</td>\n",
       "      <td>...</td>\n",
       "      <td>1</td>\n",
       "      <td>0</td>\n",
       "      <td>0</td>\n",
       "      <td>0</td>\n",
       "      <td>0</td>\n",
       "      <td>0</td>\n",
       "      <td>1</td>\n",
       "      <td>25</td>\n",
       "      <td>2014</td>\n",
       "      <td>33</td>\n",
       "    </tr>\n",
       "    <tr>\n",
       "      <th>2238</th>\n",
       "      <td>Master</td>\n",
       "      <td>Together</td>\n",
       "      <td>69245.0</td>\n",
       "      <td>0</td>\n",
       "      <td>1</td>\n",
       "      <td>8</td>\n",
       "      <td>428</td>\n",
       "      <td>30</td>\n",
       "      <td>214</td>\n",
       "      <td>80</td>\n",
       "      <td>...</td>\n",
       "      <td>0</td>\n",
       "      <td>0</td>\n",
       "      <td>0</td>\n",
       "      <td>0</td>\n",
       "      <td>0</td>\n",
       "      <td>0</td>\n",
       "      <td>1</td>\n",
       "      <td>24</td>\n",
       "      <td>2014</td>\n",
       "      <td>58</td>\n",
       "    </tr>\n",
       "    <tr>\n",
       "      <th>2239</th>\n",
       "      <td>PhD</td>\n",
       "      <td>Married</td>\n",
       "      <td>52869.0</td>\n",
       "      <td>1</td>\n",
       "      <td>1</td>\n",
       "      <td>40</td>\n",
       "      <td>84</td>\n",
       "      <td>3</td>\n",
       "      <td>61</td>\n",
       "      <td>2</td>\n",
       "      <td>...</td>\n",
       "      <td>0</td>\n",
       "      <td>0</td>\n",
       "      <td>0</td>\n",
       "      <td>0</td>\n",
       "      <td>0</td>\n",
       "      <td>1</td>\n",
       "      <td>10</td>\n",
       "      <td>15</td>\n",
       "      <td>2012</td>\n",
       "      <td>60</td>\n",
       "    </tr>\n",
       "  </tbody>\n",
       "</table>\n",
       "<p>2216 rows × 28 columns</p>\n",
       "</div>"
      ],
      "text/plain": [
       "       Education Marital_Status   Income  Kidhome  Teenhome  Recency  \\\n",
       "0     Graduation         Single  58138.0        0         0       58   \n",
       "1     Graduation         Single  46344.0        1         1       38   \n",
       "2     Graduation       Together  71613.0        0         0       26   \n",
       "3     Graduation       Together  26646.0        1         0       26   \n",
       "4            PhD        Married  58293.0        1         0       94   \n",
       "...          ...            ...      ...      ...       ...      ...   \n",
       "2235  Graduation        Married  61223.0        0         1       46   \n",
       "2236         PhD       Together  64014.0        2         1       56   \n",
       "2237  Graduation       Divorced  56981.0        0         0       91   \n",
       "2238      Master       Together  69245.0        0         1        8   \n",
       "2239         PhD        Married  52869.0        1         1       40   \n",
       "\n",
       "      MntWines  MntFruits  MntMeatProducts  MntFishProducts  ...  \\\n",
       "0          635         88              546              172  ...   \n",
       "1           11          1                6                2  ...   \n",
       "2          426         49              127              111  ...   \n",
       "3           11          4               20               10  ...   \n",
       "4          173         43              118               46  ...   \n",
       "...        ...        ...              ...              ...  ...   \n",
       "2235       709         43              182               42  ...   \n",
       "2236       406          0               30                0  ...   \n",
       "2237       908         48              217               32  ...   \n",
       "2238       428         30              214               80  ...   \n",
       "2239        84          3               61                2  ...   \n",
       "\n",
       "      AcceptedCmp4  AcceptedCmp5  AcceptedCmp1  AcceptedCmp2  Complain  \\\n",
       "0                0             0             0             0         0   \n",
       "1                0             0             0             0         0   \n",
       "2                0             0             0             0         0   \n",
       "3                0             0             0             0         0   \n",
       "4                0             0             0             0         0   \n",
       "...            ...           ...           ...           ...       ...   \n",
       "2235             0             0             0             0         0   \n",
       "2236             0             0             1             0         0   \n",
       "2237             1             0             0             0         0   \n",
       "2238             0             0             0             0         0   \n",
       "2239             0             0             0             0         0   \n",
       "\n",
       "      Response  month  day  year  Customer_age  \n",
       "0            1      9    4  2012            57  \n",
       "1            0      3    8  2014            60  \n",
       "2            0      8   21  2013            49  \n",
       "3            0      2   10  2014            30  \n",
       "4            0      1   19  2014            33  \n",
       "...        ...    ...  ...   ...           ...  \n",
       "2235         0      6   13  2013            47  \n",
       "2236         0      6   10  2014            68  \n",
       "2237         0      1   25  2014            33  \n",
       "2238         0      1   24  2014            58  \n",
       "2239         1     10   15  2012            60  \n",
       "\n",
       "[2216 rows x 28 columns]"
      ]
     },
     "execution_count": 20,
     "metadata": {},
     "output_type": "execute_result"
    }
   ],
   "source": [
    "# replace Year_Birth with Customer_age\n",
    "\n",
    "df['Customer_age'] = 2014 - df['Year_Birth']\n",
    "df.drop('Year_Birth', axis=1, inplace=True)\n",
    "df"
   ]
  },
  {
   "cell_type": "code",
   "execution_count": 21,
   "metadata": {},
   "outputs": [
    {
     "data": {
      "text/plain": [
       "0    1883\n",
       "1     333\n",
       "Name: Response, dtype: int64"
      ]
     },
     "execution_count": 21,
     "metadata": {},
     "output_type": "execute_result"
    }
   ],
   "source": [
    "df['Response'].value_counts()"
   ]
  },
  {
   "cell_type": "code",
   "execution_count": 22,
   "metadata": {},
   "outputs": [
    {
     "data": {
      "text/plain": [
       "2013    1173\n",
       "2014     553\n",
       "2012     490\n",
       "Name: year, dtype: int64"
      ]
     },
     "execution_count": 22,
     "metadata": {},
     "output_type": "execute_result"
    }
   ],
   "source": [
    "df['year'].value_counts()"
   ]
  },
  {
   "cell_type": "code",
   "execution_count": 23,
   "metadata": {},
   "outputs": [
    {
     "data": {
      "text/plain": [
       "12"
      ]
     },
     "execution_count": 23,
     "metadata": {},
     "output_type": "execute_result"
    }
   ],
   "source": [
    "# Checking that all days and months are present\n",
    "\n",
    "df['month'].nunique()"
   ]
  },
  {
   "cell_type": "code",
   "execution_count": 24,
   "metadata": {},
   "outputs": [
    {
     "data": {
      "text/plain": [
       "8     219\n",
       "5     213\n",
       "10    210\n",
       "3     209\n",
       "1     195\n",
       "9     191\n",
       "11    183\n",
       "4     181\n",
       "2     177\n",
       "12    175\n",
       "6     163\n",
       "7     100\n",
       "Name: month, dtype: int64"
      ]
     },
     "execution_count": 24,
     "metadata": {},
     "output_type": "execute_result"
    }
   ],
   "source": [
    "df['month'].value_counts()"
   ]
  },
  {
   "cell_type": "code",
   "execution_count": 25,
   "metadata": {},
   "outputs": [
    {
     "data": {
      "text/plain": [
       "31"
      ]
     },
     "execution_count": 25,
     "metadata": {},
     "output_type": "execute_result"
    }
   ],
   "source": [
    "df['day'].nunique()"
   ]
  },
  {
   "cell_type": "code",
   "execution_count": 26,
   "metadata": {},
   "outputs": [
    {
     "data": {
      "text/plain": [
       "12    101\n",
       "17     90\n",
       "22     89\n",
       "23     86\n",
       "7      83\n",
       "29     82\n",
       "11     81\n",
       "10     79\n",
       "2      77\n",
       "18     76\n",
       "28     74\n",
       "5      74\n",
       "25     73\n",
       "1      72\n",
       "20     72\n",
       "3      72\n",
       "16     71\n",
       "4      71\n",
       "8      71\n",
       "13     69\n",
       "19     68\n",
       "6      65\n",
       "21     62\n",
       "26     61\n",
       "24     60\n",
       "15     59\n",
       "9      59\n",
       "30     58\n",
       "14     57\n",
       "27     55\n",
       "31     49\n",
       "Name: day, dtype: int64"
      ]
     },
     "execution_count": 26,
     "metadata": {},
     "output_type": "execute_result"
    }
   ],
   "source": [
    "df['day'].value_counts()"
   ]
  },
  {
   "cell_type": "code",
   "execution_count": 27,
   "metadata": {},
   "outputs": [
    {
     "data": {
      "text/plain": [
       "Married     857\n",
       "Together    573\n",
       "Single      471\n",
       "Divorced    232\n",
       "Widow        76\n",
       "Alone         3\n",
       "Absurd        2\n",
       "YOLO          2\n",
       "Name: Marital_Status, dtype: int64"
      ]
     },
     "execution_count": 27,
     "metadata": {},
     "output_type": "execute_result"
    }
   ],
   "source": [
    "# Insights on the two categorical features\n",
    "\n",
    "df['Marital_Status'].value_counts()"
   ]
  },
  {
   "cell_type": "code",
   "execution_count": 28,
   "metadata": {},
   "outputs": [
    {
     "data": {
      "text/plain": [
       "Graduation    1116\n",
       "PhD            481\n",
       "Master         365\n",
       "2n Cycle       200\n",
       "Basic           54\n",
       "Name: Education, dtype: int64"
      ]
     },
     "execution_count": 28,
     "metadata": {},
     "output_type": "execute_result"
    }
   ],
   "source": [
    "df['Education'].value_counts()"
   ]
  },
  {
   "cell_type": "markdown",
   "metadata": {},
   "source": [
    "# Visualizations"
   ]
  },
  {
   "cell_type": "code",
   "execution_count": 29,
   "metadata": {},
   "outputs": [
    {
     "data": {
      "text/plain": [
       "<matplotlib.axes._subplots.AxesSubplot at 0x7f68cabe4d50>"
      ]
     },
     "execution_count": 29,
     "metadata": {},
     "output_type": "execute_result"
    },
    {
     "data": {
      "image/png": "[encoded data removed]",
      "text/plain": [
       "<Figure size 576x576 with 1 Axes>"
      ]
     },
     "metadata": {
      "needs_background": "light"
     },
     "output_type": "display_data"
    }
   ],
   "source": [
    "# relation between response & level of education\n",
    "\n",
    "pd.crosstab(index= df['Education'] , columns=df['Response']).plot(kind=\"bar\", \n",
    "                 figsize=(8,8),\n",
    "                 stacked=True)"
   ]
  },
  {
   "cell_type": "code",
   "execution_count": 30,
   "metadata": {},
   "outputs": [
    {
     "data": {
      "text/plain": [
       "<matplotlib.axes._subplots.AxesSubplot at 0x7f68c898a850>"
      ]
     },
     "execution_count": 30,
     "metadata": {},
     "output_type": "execute_result"
    },
    {
     "data": {
      "image/png": "[encoded data removed]",
      "text/plain": [
       "<Figure size 576x576 with 1 Axes>"
      ]
     },
     "metadata": {
      "needs_background": "light"
     },
     "output_type": "display_data"
    }
   ],
   "source": [
    "# relation between response & social status\n",
    "\n",
    "\n",
    "pd.crosstab(index= df['Marital_Status'] , columns=df['Response']).plot(kind=\"bar\", \n",
    "                 figsize=(8,8),\n",
    "                 stacked=True)"
   ]
  },
  {
   "cell_type": "code",
   "execution_count": 31,
   "metadata": {},
   "outputs": [
    {
     "data": {
      "text/plain": [
       "<matplotlib.axes._subplots.AxesSubplot at 0x7f68c8a48c90>"
      ]
     },
     "execution_count": 31,
     "metadata": {},
     "output_type": "execute_result"
    },
    {
     "data": {
      "image/png": "[encoded data removed]",
      "text/plain": [
       "<Figure size 576x576 with 1 Axes>"
      ]
     },
     "metadata": {
      "needs_background": "light"
     },
     "output_type": "display_data"
    }
   ],
   "source": [
    "# relation between response & year\n",
    "\n",
    "pd.crosstab(index= df['year'] , columns=df['Response']).plot(kind=\"bar\", \n",
    "                 figsize=(8,8),\n",
    "                 stacked=True)"
   ]
  },
  {
   "cell_type": "code",
   "execution_count": 32,
   "metadata": {},
   "outputs": [
    {
     "data": {
      "text/plain": [
       "<matplotlib.axes._subplots.AxesSubplot at 0x7f68c89c5a10>"
      ]
     },
     "execution_count": 32,
     "metadata": {},
     "output_type": "execute_result"
    },
    {
     "data": {
      "image/png": "[encoded data removed]",
      "text/plain": [
       "<Figure size 576x576 with 1 Axes>"
      ]
     },
     "metadata": {
      "needs_background": "light"
     },
     "output_type": "display_data"
    }
   ],
   "source": [
    "# relation between response & no. of kids at home\n",
    "\n",
    "\n",
    "pd.crosstab(index= df['Kidhome'] , columns=df['Response']).plot(kind=\"bar\", \n",
    "                 figsize=(8,8),\n",
    "                 stacked=True)"
   ]
  },
  {
   "cell_type": "code",
   "execution_count": 33,
   "metadata": {},
   "outputs": [
    {
     "data": {
      "text/plain": [
       "Text(0, 0.5, 'Count')"
      ]
     },
     "execution_count": 33,
     "metadata": {},
     "output_type": "execute_result"
    },
    {
     "data": {
      "image/png": "[encoded data removed]",
      "text/plain": [
       "<Figure size 576x288 with 1 Axes>"
      ]
     },
     "metadata": {
      "needs_background": "light"
     },
     "output_type": "display_data"
    }
   ],
   "source": [
    "# relation between customer's ages & their count \n",
    "\n",
    "\n",
    "df['Customer_age'].hist()\n",
    "plt.title(\"Age\", fontsize =14)\n",
    "plt.xlabel(\"Average age\", fontsize = 12)\n",
    "plt.ylabel(\"Count\", fontsize = 12)"
   ]
  },
  {
   "cell_type": "markdown",
   "metadata": {},
   "source": [
    "# Clustering "
   ]
  },
  {
   "cell_type": "code",
   "execution_count": 34,
   "metadata": {},
   "outputs": [],
   "source": [
    "df1 = df.copy()"
   ]
  },
  {
   "cell_type": "code",
   "execution_count": 35,
   "metadata": {},
   "outputs": [],
   "source": [
    "df1['TotalProduct'] = (df1['MntWines'] + df1['MntFruits'] + df1['MntMeatProducts'] + df1['MntFishProducts'] + df1['MntSweetProducts'] + df1['MntGoldProds'])\n",
    "df1['TotalPurchases'] = (df1['NumDealsPurchases'] + df1['NumWebPurchases'] + df1['NumCatalogPurchases'] + df1['NumStorePurchases'])"
   ]
  },
  {
   "cell_type": "code",
   "execution_count": 36,
   "metadata": {},
   "outputs": [
    {
     "name": "stdout",
     "output_type": "stream",
     "text": [
      "<class 'pandas.core.frame.DataFrame'>\n",
      "Int64Index: 2216 entries, 0 to 2239\n",
      "Data columns (total 30 columns):\n",
      " #   Column               Non-Null Count  Dtype  \n",
      "---  ------               --------------  -----  \n",
      " 0   Education            2216 non-null   object \n",
      " 1   Marital_Status       2216 non-null   object \n",
      " 2   Income               2216 non-null   float64\n",
      " 3   Kidhome              2216 non-null   int64  \n",
      " 4   Teenhome             2216 non-null   int64  \n",
      " 5   Recency              2216 non-null   int64  \n",
      " 6   MntWines             2216 non-null   int64  \n",
      " 7   MntFruits            2216 non-null   int64  \n",
      " 8   MntMeatProducts      2216 non-null   int64  \n",
      " 9   MntFishProducts      2216 non-null   int64  \n",
      " 10  MntSweetProducts     2216 non-null   int64  \n",
      " 11  MntGoldProds         2216 non-null   int64  \n",
      " 12  NumDealsPurchases    2216 non-null   int64  \n",
      " 13  NumWebPurchases      2216 non-null   int64  \n",
      " 14  NumCatalogPurchases  2216 non-null   int64  \n",
      " 15  NumStorePurchases    2216 non-null   int64  \n",
      " 16  NumWebVisitsMonth    2216 non-null   int64  \n",
      " 17  AcceptedCmp3         2216 non-null   int64  \n",
      " 18  AcceptedCmp4         2216 non-null   int64  \n",
      " 19  AcceptedCmp5         2216 non-null   int64  \n",
      " 20  AcceptedCmp1         2216 non-null   int64  \n",
      " 21  AcceptedCmp2         2216 non-null   int64  \n",
      " 22  Complain             2216 non-null   int64  \n",
      " 23  Response             2216 non-null   int64  \n",
      " 24  month                2216 non-null   int64  \n",
      " 25  day                  2216 non-null   int64  \n",
      " 26  year                 2216 non-null   int64  \n",
      " 27  Customer_age         2216 non-null   int64  \n",
      " 28  TotalProduct         2216 non-null   int64  \n",
      " 29  TotalPurchases       2216 non-null   int64  \n",
      "dtypes: float64(1), int64(27), object(2)\n",
      "memory usage: 536.7+ KB\n"
     ]
    }
   ],
   "source": [
    "df1.info()"
   ]
  },
  {
   "cell_type": "code",
   "execution_count": 37,
   "metadata": {},
   "outputs": [],
   "source": [
    "df1_cluster = df1[['Income','TotalProduct','TotalPurchases','Recency']].reset_index(drop =True)"
   ]
  },
  {
   "cell_type": "code",
   "execution_count": 38,
   "metadata": {},
   "outputs": [
    {
     "data": {
      "text/html": [
       "<div>\n",
       "<style scoped>\n",
       "    .dataframe tbody tr th:only-of-type {\n",
       "        vertical-align: middle;\n",
       "    }\n",
       "\n",
       "    .dataframe tbody tr th {\n",
       "        vertical-align: top;\n",
       "    }\n",
       "\n",
       "    .dataframe thead th {\n",
       "        text-align: right;\n",
       "    }\n",
       "</style>\n",
       "<table border=\"1\" class=\"dataframe\">\n",
       "  <thead>\n",
       "    <tr style=\"text-align: right;\">\n",
       "      <th></th>\n",
       "      <th>Income</th>\n",
       "      <th>TotalProduct</th>\n",
       "      <th>TotalPurchases</th>\n",
       "      <th>Recency</th>\n",
       "    </tr>\n",
       "  </thead>\n",
       "  <tbody>\n",
       "    <tr>\n",
       "      <th>0</th>\n",
       "      <td>58138.0</td>\n",
       "      <td>1617</td>\n",
       "      <td>25</td>\n",
       "      <td>58</td>\n",
       "    </tr>\n",
       "    <tr>\n",
       "      <th>1</th>\n",
       "      <td>46344.0</td>\n",
       "      <td>27</td>\n",
       "      <td>6</td>\n",
       "      <td>38</td>\n",
       "    </tr>\n",
       "    <tr>\n",
       "      <th>2</th>\n",
       "      <td>71613.0</td>\n",
       "      <td>776</td>\n",
       "      <td>21</td>\n",
       "      <td>26</td>\n",
       "    </tr>\n",
       "    <tr>\n",
       "      <th>3</th>\n",
       "      <td>26646.0</td>\n",
       "      <td>53</td>\n",
       "      <td>8</td>\n",
       "      <td>26</td>\n",
       "    </tr>\n",
       "    <tr>\n",
       "      <th>4</th>\n",
       "      <td>58293.0</td>\n",
       "      <td>422</td>\n",
       "      <td>19</td>\n",
       "      <td>94</td>\n",
       "    </tr>\n",
       "    <tr>\n",
       "      <th>...</th>\n",
       "      <td>...</td>\n",
       "      <td>...</td>\n",
       "      <td>...</td>\n",
       "      <td>...</td>\n",
       "    </tr>\n",
       "    <tr>\n",
       "      <th>2211</th>\n",
       "      <td>61223.0</td>\n",
       "      <td>1341</td>\n",
       "      <td>18</td>\n",
       "      <td>46</td>\n",
       "    </tr>\n",
       "    <tr>\n",
       "      <th>2212</th>\n",
       "      <td>64014.0</td>\n",
       "      <td>444</td>\n",
       "      <td>22</td>\n",
       "      <td>56</td>\n",
       "    </tr>\n",
       "    <tr>\n",
       "      <th>2213</th>\n",
       "      <td>56981.0</td>\n",
       "      <td>1241</td>\n",
       "      <td>19</td>\n",
       "      <td>91</td>\n",
       "    </tr>\n",
       "    <tr>\n",
       "      <th>2214</th>\n",
       "      <td>69245.0</td>\n",
       "      <td>843</td>\n",
       "      <td>23</td>\n",
       "      <td>8</td>\n",
       "    </tr>\n",
       "    <tr>\n",
       "      <th>2215</th>\n",
       "      <td>52869.0</td>\n",
       "      <td>172</td>\n",
       "      <td>11</td>\n",
       "      <td>40</td>\n",
       "    </tr>\n",
       "  </tbody>\n",
       "</table>\n",
       "<p>2216 rows × 4 columns</p>\n",
       "</div>"
      ],
      "text/plain": [
       "       Income  TotalProduct  TotalPurchases  Recency\n",
       "0     58138.0          1617              25       58\n",
       "1     46344.0            27               6       38\n",
       "2     71613.0           776              21       26\n",
       "3     26646.0            53               8       26\n",
       "4     58293.0           422              19       94\n",
       "...       ...           ...             ...      ...\n",
       "2211  61223.0          1341              18       46\n",
       "2212  64014.0           444              22       56\n",
       "2213  56981.0          1241              19       91\n",
       "2214  69245.0           843              23        8\n",
       "2215  52869.0           172              11       40\n",
       "\n",
       "[2216 rows x 4 columns]"
      ]
     },
     "execution_count": 38,
     "metadata": {},
     "output_type": "execute_result"
    }
   ],
   "source": [
    "df1_cluster"
   ]
  },
  {
   "cell_type": "code",
   "execution_count": 39,
   "metadata": {},
   "outputs": [],
   "source": [
    "X = df1_cluster[['TotalProduct','TotalPurchases','Recency']]"
   ]
  },
  {
   "cell_type": "markdown",
   "metadata": {},
   "source": [
    "# K-Means"
   ]
  },
  {
   "cell_type": "code",
   "execution_count": 40,
   "metadata": {},
   "outputs": [
    {
     "data": {
      "image/png": "[encoded data removed]",
      "text/plain": [
       "<Figure size 576x288 with 1 Axes>"
      ]
     },
     "metadata": {
      "needs_background": "light"
     },
     "output_type": "display_data"
    }
   ],
   "source": [
    "# The elbow method to determine suitable no. of clusters\n",
    "\n",
    "from sklearn.cluster import KMeans\n",
    "wcss = []\n",
    "for i in range(1, 11):\n",
    "    kmeans = KMeans(n_clusters = i, init = 'k-means++', random_state = 42)\n",
    "    kmeans.fit(X)\n",
    "    wcss.append(kmeans.inertia_)\n",
    "plt.plot(range(1, 11), wcss)\n",
    "plt.title('The Elbow Method')\n",
    "plt.xlabel('Number of clusters')\n",
    "plt.ylabel('WCSS')\n",
    "plt.show()"
   ]
  },
  {
   "cell_type": "code",
   "execution_count": 41,
   "metadata": {},
   "outputs": [],
   "source": [
    "kmeans = KMeans(n_clusters = 3, init = 'k-means++', random_state = 42)\n",
    "y_kmeans = kmeans.fit_predict(X)"
   ]
  },
  {
   "cell_type": "code",
   "execution_count": 42,
   "metadata": {},
   "outputs": [
    {
     "data": {
      "image/png": "[encoded data removed]",
      "text/plain": [
       "<Figure size 576x288 with 1 Axes>"
      ]
     },
     "metadata": {
      "needs_background": "light"
     },
     "output_type": "display_data"
    }
   ],
   "source": [
    "X = np.array(X)\n",
    "plt.scatter(X[y_kmeans == 0, 0], X[y_kmeans == 0, 1], s = 100, c = 'red', label = 'Cluster 1')\n",
    "plt.scatter(X[y_kmeans == 1, 0], X[y_kmeans == 1, 1], s = 100, c = 'blue', label = 'Cluster 2')\n",
    "plt.scatter(X[y_kmeans == 2, 0], X[y_kmeans == 2, 1], s = 100, c = 'green', label = 'Cluster 3')\n",
    "\n",
    "plt.scatter(kmeans.cluster_centers_[:, 0], kmeans.cluster_centers_[:, 1], s = 300, c = 'yellow', label = 'Centroids')\n",
    "plt.title('Clusters of customers')\n",
    "plt.xlabel('Income')\n",
    "plt.ylabel('Total Buy Product')\n",
    "plt.legend()\n",
    "plt.show()"
   ]
  },
  {
   "cell_type": "markdown",
   "metadata": {},
   "source": [
    "# Hierarchial"
   ]
  },
  {
   "cell_type": "code",
   "execution_count": 43,
   "metadata": {},
   "outputs": [
    {
     "data": {
      "image/png": "[encoded data removed]",
      "text/plain": [
       "<Figure size 576x288 with 1 Axes>"
      ]
     },
     "metadata": {
      "needs_background": "light"
     },
     "output_type": "display_data"
    }
   ],
   "source": [
    "import scipy.cluster.hierarchy as sch\n",
    "dendrogram = sch.dendrogram(sch.linkage(X, method = 'ward'))\n",
    "plt.title('Dendrogram')\n",
    "plt.xlabel('Customers')\n",
    "plt.ylabel('Euclidean distances')\n",
    "plt.show()"
   ]
  },
  {
   "cell_type": "code",
   "execution_count": 44,
   "metadata": {},
   "outputs": [],
   "source": [
    "from sklearn.cluster import AgglomerativeClustering\n",
    "hc = AgglomerativeClustering(n_clusters = 3, affinity = 'euclidean', linkage = 'ward')\n",
    "y_hc = hc.fit_predict(X)"
   ]
  },
  {
   "cell_type": "code",
   "execution_count": 45,
   "metadata": {},
   "outputs": [
    {
     "data": {
      "image/png": "[encoded data removed]",
      "text/plain": [
       "<Figure size 576x288 with 1 Axes>"
      ]
     },
     "metadata": {
      "needs_background": "light"
     },
     "output_type": "display_data"
    }
   ],
   "source": [
    "X = np.array(X)\n",
    "plt.scatter(X[y_kmeans == 0, 0], X[y_kmeans == 0, 1], s = 100, c = 'red', label = 'Cluster 1')\n",
    "plt.scatter(X[y_kmeans == 1, 0], X[y_kmeans == 1, 1], s = 100, c = 'blue', label = 'Cluster 2')\n",
    "plt.scatter(X[y_kmeans == 2, 0], X[y_kmeans == 2, 1], s = 100, c = 'green', label = 'Cluster 3')\n",
    "plt.scatter(kmeans.cluster_centers_[:, 0], kmeans.cluster_centers_[:, 1], s = 300, c = 'yellow', label = 'Centroids')\n",
    "plt.title('Clusters of customers')\n",
    "plt.xlabel('Income')\n",
    "plt.ylabel('Total Buy Product')\n",
    "plt.legend()\n",
    "plt.show()"
   ]
  },
  {
   "cell_type": "markdown",
   "metadata": {},
   "source": [
    "# Encoding the two categorical columns"
   ]
  },
  {
   "cell_type": "code",
   "execution_count": 46,
   "metadata": {},
   "outputs": [],
   "source": [
    "from sklearn.preprocessing import LabelEncoder\n",
    "le = LabelEncoder()\n",
    "df['Education'] = le.fit_transform(df['Education'].values.reshape(-1,1))\n",
    "df['Marital_Status'] = le.fit_transform(df['Marital_Status'].values.reshape(-1,1))"
   ]
  },
  {
   "cell_type": "markdown",
   "metadata": {},
   "source": [
    "# Split train and test set"
   ]
  },
  {
   "cell_type": "code",
   "execution_count": 47,
   "metadata": {},
   "outputs": [],
   "source": [
    "# Split df into X and y\n",
    "X = df.drop('Response', axis = 1)\n",
    "y = df['Response']    \n",
    "# Train-test split\n",
    "from sklearn.model_selection import train_test_split\n",
    "X_train, X_test, y_train, y_test = train_test_split(X, y, train_size = 0.8, shuffle = True, random_state = 1)"
   ]
  },
  {
   "cell_type": "markdown",
   "metadata": {},
   "source": [
    "# Prediction"
   ]
  },
  {
   "cell_type": "markdown",
   "metadata": {},
   "source": [
    "# Support Vector Machine"
   ]
  },
  {
   "cell_type": "code",
   "execution_count": 48,
   "metadata": {},
   "outputs": [
    {
     "data": {
      "text/plain": [
       "SVC(C=1.0, break_ties=False, cache_size=200, class_weight=None, coef0=0.0,\n",
       "    decision_function_shape='ovr', degree=3, gamma='scale', kernel='rbf',\n",
       "    max_iter=-1, probability=False, random_state=0, shrinking=True, tol=0.001,\n",
       "    verbose=False)"
      ]
     },
     "execution_count": 48,
     "metadata": {},
     "output_type": "execute_result"
    }
   ],
   "source": [
    "from sklearn.svm import SVC\n",
    "classifier = SVC(kernel = 'rbf', random_state = 0)\n",
    "classifier.fit(X_train, y_train)"
   ]
  },
  {
   "cell_type": "code",
   "execution_count": 49,
   "metadata": {},
   "outputs": [
    {
     "name": "stdout",
     "output_type": "stream",
     "text": [
      "[[385   0]\n",
      " [ 59   0]]\n"
     ]
    },
    {
     "data": {
      "text/plain": [
       "0.8671171171171171"
      ]
     },
     "execution_count": 49,
     "metadata": {},
     "output_type": "execute_result"
    }
   ],
   "source": [
    "from sklearn.metrics import confusion_matrix, accuracy_score\n",
    "y_pred = classifier.predict(X_test)\n",
    "cm = confusion_matrix(y_test, y_pred)\n",
    "print(cm)\n",
    "accuracy_score(y_test, y_pred)"
   ]
  },
  {
   "cell_type": "markdown",
   "metadata": {},
   "source": [
    "# KNN"
   ]
  },
  {
   "cell_type": "code",
   "execution_count": 50,
   "metadata": {},
   "outputs": [
    {
     "data": {
      "text/plain": [
       "KNeighborsClassifier(algorithm='auto', leaf_size=30, metric='minkowski',\n",
       "                     metric_params=None, n_jobs=None, n_neighbors=5, p=2,\n",
       "                     weights='uniform')"
      ]
     },
     "execution_count": 50,
     "metadata": {},
     "output_type": "execute_result"
    }
   ],
   "source": [
    "from sklearn.neighbors import KNeighborsClassifier\n",
    "classifier = KNeighborsClassifier(n_neighbors = 5, metric = 'minkowski', p = 2)\n",
    "classifier.fit(X_train, y_train)"
   ]
  },
  {
   "cell_type": "code",
   "execution_count": 51,
   "metadata": {},
   "outputs": [
    {
     "name": "stdout",
     "output_type": "stream",
     "text": [
      "[[370  15]\n",
      " [ 47  12]]\n"
     ]
    },
    {
     "data": {
      "text/plain": [
       "0.8603603603603603"
      ]
     },
     "execution_count": 51,
     "metadata": {},
     "output_type": "execute_result"
    }
   ],
   "source": [
    "y_pred = classifier.predict(X_test)\n",
    "cm = confusion_matrix(y_test, y_pred)\n",
    "print(cm)\n",
    "accuracy_score(y_test, y_pred)"
   ]
  },
  {
   "cell_type": "markdown",
   "metadata": {},
   "source": [
    "# Logistic Regression"
   ]
  },
  {
   "cell_type": "code",
   "execution_count": 52,
   "metadata": {},
   "outputs": [
    {
     "data": {
      "text/plain": [
       "LogisticRegression(C=1.0, class_weight=None, dual=False, fit_intercept=True,\n",
       "                   intercept_scaling=1, l1_ratio=None, max_iter=100,\n",
       "                   multi_class='auto', n_jobs=None, penalty='l2',\n",
       "                   random_state=0, solver='lbfgs', tol=0.0001, verbose=0,\n",
       "                   warm_start=False)"
      ]
     },
     "execution_count": 52,
     "metadata": {},
     "output_type": "execute_result"
    }
   ],
   "source": [
    "from sklearn.linear_model import LogisticRegression\n",
    "classifier = LogisticRegression(random_state = 0)\n",
    "classifier.fit(X_train, y_train)"
   ]
  },
  {
   "cell_type": "code",
   "execution_count": 53,
   "metadata": {},
   "outputs": [
    {
     "name": "stdout",
     "output_type": "stream",
     "text": [
      "[[377   8]\n",
      " [ 48  11]]\n"
     ]
    },
    {
     "data": {
      "text/plain": [
       "0.8738738738738738"
      ]
     },
     "execution_count": 53,
     "metadata": {},
     "output_type": "execute_result"
    }
   ],
   "source": [
    "y_pred = classifier.predict(X_test)\n",
    "cm = confusion_matrix(y_test, y_pred)\n",
    "print(cm)\n",
    "accuracy_score(y_test, y_pred)"
   ]
  },
  {
   "cell_type": "markdown",
   "metadata": {},
   "source": [
    "# Naive Bayes"
   ]
  },
  {
   "cell_type": "code",
   "execution_count": 54,
   "metadata": {},
   "outputs": [
    {
     "data": {
      "text/plain": [
       "GaussianNB(priors=None, var_smoothing=1e-09)"
      ]
     },
     "execution_count": 54,
     "metadata": {},
     "output_type": "execute_result"
    }
   ],
   "source": [
    "from sklearn.naive_bayes import GaussianNB\n",
    "classifier = GaussianNB()\n",
    "classifier.fit(X_train, y_train)"
   ]
  },
  {
   "cell_type": "code",
   "execution_count": 55,
   "metadata": {},
   "outputs": [
    {
     "name": "stdout",
     "output_type": "stream",
     "text": [
      "[[320  65]\n",
      " [ 26  33]]\n"
     ]
    },
    {
     "data": {
      "text/plain": [
       "0.795045045045045"
      ]
     },
     "execution_count": 55,
     "metadata": {},
     "output_type": "execute_result"
    }
   ],
   "source": [
    "y_pred = classifier.predict(X_test)\n",
    "cm = confusion_matrix(y_test, y_pred)\n",
    "print(cm)\n",
    "accuracy_score(y_test, y_pred)"
   ]
  },
  {
   "cell_type": "markdown",
   "metadata": {},
   "source": [
    "# Support Vector Machine"
   ]
  },
  {
   "cell_type": "code",
   "execution_count": 56,
   "metadata": {},
   "outputs": [
    {
     "data": {
      "text/plain": [
       "SVC(C=1.0, break_ties=False, cache_size=200, class_weight=None, coef0=0.0,\n",
       "    decision_function_shape='ovr', degree=3, gamma='scale', kernel='linear',\n",
       "    max_iter=-1, probability=False, random_state=0, shrinking=True, tol=0.001,\n",
       "    verbose=False)"
      ]
     },
     "execution_count": 56,
     "metadata": {},
     "output_type": "execute_result"
    }
   ],
   "source": [
    "from sklearn.svm import SVC\n",
    "classifier = SVC(kernel = 'linear', random_state = 0)\n",
    "classifier.fit(X_train, y_train)"
   ]
  },
  {
   "cell_type": "code",
   "execution_count": 57,
   "metadata": {},
   "outputs": [
    {
     "name": "stdout",
     "output_type": "stream",
     "text": [
      "[[374  11]\n",
      " [ 49  10]]\n"
     ]
    },
    {
     "data": {
      "text/plain": [
       "0.8648648648648649"
      ]
     },
     "execution_count": 57,
     "metadata": {},
     "output_type": "execute_result"
    }
   ],
   "source": [
    "y_pred = classifier.predict(X_test)\n",
    "cm = confusion_matrix(y_test, y_pred)\n",
    "print(cm)\n",
    "accuracy_score(y_test, y_pred)"
   ]
  },
  {
   "cell_type": "markdown",
   "metadata": {},
   "source": [
    "# Random Forest Classification"
   ]
  },
  {
   "cell_type": "code",
   "execution_count": 58,
   "metadata": {},
   "outputs": [
    {
     "data": {
      "text/plain": [
       "RandomForestClassifier(bootstrap=True, ccp_alpha=0.0, class_weight=None,\n",
       "                       criterion='entropy', max_depth=None, max_features='auto',\n",
       "                       max_leaf_nodes=None, max_samples=None,\n",
       "                       min_impurity_decrease=0.0, min_impurity_split=None,\n",
       "                       min_samples_leaf=1, min_samples_split=2,\n",
       "                       min_weight_fraction_leaf=0.0, n_estimators=10,\n",
       "                       n_jobs=None, oob_score=False, random_state=0, verbose=0,\n",
       "                       warm_start=False)"
      ]
     },
     "execution_count": 58,
     "metadata": {},
     "output_type": "execute_result"
    }
   ],
   "source": [
    "from sklearn.ensemble import RandomForestClassifier\n",
    "classifier = RandomForestClassifier(n_estimators = 10, criterion = 'entropy', random_state = 0)\n",
    "classifier.fit(X_train, y_train)"
   ]
  },
  {
   "cell_type": "code",
   "execution_count": 59,
   "metadata": {},
   "outputs": [
    {
     "name": "stdout",
     "output_type": "stream",
     "text": [
      "[[373  12]\n",
      " [ 44  15]]\n"
     ]
    },
    {
     "data": {
      "text/plain": [
       "0.8738738738738738"
      ]
     },
     "execution_count": 59,
     "metadata": {},
     "output_type": "execute_result"
    }
   ],
   "source": [
    "y_pred = classifier.predict(X_test)\n",
    "cm = confusion_matrix(y_test, y_pred)\n",
    "print(cm)\n",
    "accuracy_score(y_test, y_pred)"
   ]
  },
  {
   "cell_type": "markdown",
   "metadata": {},
   "source": [
    "# Decision Tree Classification"
   ]
  },
  {
   "cell_type": "code",
   "execution_count": 60,
   "metadata": {},
   "outputs": [
    {
     "data": {
      "text/plain": [
       "DecisionTreeClassifier(ccp_alpha=0.0, class_weight=None, criterion='entropy',\n",
       "                       max_depth=None, max_features=None, max_leaf_nodes=None,\n",
       "                       min_impurity_decrease=0.0, min_impurity_split=None,\n",
       "                       min_samples_leaf=1, min_samples_split=2,\n",
       "                       min_weight_fraction_leaf=0.0, presort='deprecated',\n",
       "                       random_state=0, splitter='best')"
      ]
     },
     "execution_count": 60,
     "metadata": {},
     "output_type": "execute_result"
    }
   ],
   "source": [
    "from sklearn.tree import DecisionTreeClassifier\n",
    "classifier = DecisionTreeClassifier(criterion = 'entropy', random_state = 0)\n",
    "classifier.fit(X_train, y_train)"
   ]
  },
  {
   "cell_type": "code",
   "execution_count": 61,
   "metadata": {},
   "outputs": [
    {
     "name": "stdout",
     "output_type": "stream",
     "text": [
      "[[373  12]\n",
      " [ 44  15]]\n"
     ]
    },
    {
     "data": {
      "text/plain": [
       "0.8738738738738738"
      ]
     },
     "execution_count": 61,
     "metadata": {},
     "output_type": "execute_result"
    }
   ],
   "source": [
    "cm = confusion_matrix(y_test, y_pred)\n",
    "print(cm)\n",
    "accuracy_score(y_test, y_pred)"
   ]
  },
  {
   "cell_type": "markdown",
   "metadata": {},
   "source": [
    "# Apply PCA with Logistic Regression"
   ]
  },
  {
   "cell_type": "code",
   "execution_count": 63,
   "metadata": {},
   "outputs": [],
   "source": [
    "from sklearn.decomposition import PCA\n",
    "pca = PCA(n_components = 2)\n",
    "X_train = pca.fit_transform(X_train)\n",
    "X_test = pca.transform(X_test)"
   ]
  },
  {
   "cell_type": "code",
   "execution_count": 64,
   "metadata": {},
   "outputs": [
    {
     "data": {
      "text/plain": [
       "LogisticRegression(C=1.0, class_weight=None, dual=False, fit_intercept=True,\n",
       "                   intercept_scaling=1, l1_ratio=None, max_iter=100,\n",
       "                   multi_class='auto', n_jobs=None, penalty='l2',\n",
       "                   random_state=0, solver='lbfgs', tol=0.0001, verbose=0,\n",
       "                   warm_start=False)"
      ]
     },
     "execution_count": 64,
     "metadata": {},
     "output_type": "execute_result"
    }
   ],
   "source": [
    "classifier = LogisticRegression(random_state = 0)\n",
    "classifier.fit(X_train, y_train)"
   ]
  },
  {
   "cell_type": "code",
   "execution_count": 65,
   "metadata": {},
   "outputs": [
    {
     "name": "stdout",
     "output_type": "stream",
     "text": [
      "[[382   3]\n",
      " [ 56   3]]\n"
     ]
    },
    {
     "data": {
      "text/plain": [
       "0.8671171171171171"
      ]
     },
     "execution_count": 65,
     "metadata": {},
     "output_type": "execute_result"
    }
   ],
   "source": [
    "y_pred = classifier.predict(X_test)\n",
    "cm = confusion_matrix(y_test, y_pred)\n",
    "print(cm)\n",
    "accuracy_score(y_test, y_pred)"
   ]
  },
  {
   "cell_type": "markdown",
   "metadata": {},
   "source": [
    "# Apply LDA with Logistic Regression"
   ]
  },
  {
   "cell_type": "code",
   "execution_count": 66,
   "metadata": {},
   "outputs": [],
   "source": [
    "from sklearn.discriminant_analysis import LinearDiscriminantAnalysis as LDA\n",
    "lda = LDA(n_components = 2)\n",
    "X_train = lda.fit_transform(X_train, y_train)\n",
    "X_test = lda.transform(X_test)"
   ]
  },
  {
   "cell_type": "code",
   "execution_count": 67,
   "metadata": {},
   "outputs": [
    {
     "data": {
      "text/plain": [
       "LogisticRegression(C=1.0, class_weight=None, dual=False, fit_intercept=True,\n",
       "                   intercept_scaling=1, l1_ratio=None, max_iter=100,\n",
       "                   multi_class='auto', n_jobs=None, penalty='l2',\n",
       "                   random_state=0, solver='lbfgs', tol=0.0001, verbose=0,\n",
       "                   warm_start=False)"
      ]
     },
     "execution_count": 67,
     "metadata": {},
     "output_type": "execute_result"
    }
   ],
   "source": [
    "from sklearn.linear_model import LogisticRegression\n",
    "classifier = LogisticRegression(random_state = 0)\n",
    "classifier.fit(X_train, y_train)"
   ]
  },
  {
   "cell_type": "code",
   "execution_count": 68,
   "metadata": {},
   "outputs": [
    {
     "name": "stdout",
     "output_type": "stream",
     "text": [
      "[[382   3]\n",
      " [ 56   3]]\n"
     ]
    },
    {
     "data": {
      "text/plain": [
       "0.8671171171171171"
      ]
     },
     "execution_count": 68,
     "metadata": {},
     "output_type": "execute_result"
    }
   ],
   "source": [
    "y_pred = classifier.predict(X_test)\n",
    "cm = confusion_matrix(y_test, y_pred)\n",
    "print(cm)\n",
    "accuracy_score(y_test, y_pred)"
   ]
  },
  {
   "cell_type": "markdown",
   "metadata": {},
   "source": [
    "# Apply Kernel PCA with Logistic Regression"
   ]
  },
  {
   "cell_type": "code",
   "execution_count": 69,
   "metadata": {},
   "outputs": [],
   "source": [
    "from sklearn.decomposition import KernelPCA\n",
    "kpca = KernelPCA(n_components = 2, kernel = 'rbf')\n",
    "X_train = kpca.fit_transform(X_train)\n",
    "X_test = kpca.transform(X_test)"
   ]
  },
  {
   "cell_type": "code",
   "execution_count": 70,
   "metadata": {},
   "outputs": [
    {
     "data": {
      "text/plain": [
       "LogisticRegression(C=1.0, class_weight=None, dual=False, fit_intercept=True,\n",
       "                   intercept_scaling=1, l1_ratio=None, max_iter=100,\n",
       "                   multi_class='auto', n_jobs=None, penalty='l2',\n",
       "                   random_state=0, solver='lbfgs', tol=0.0001, verbose=0,\n",
       "                   warm_start=False)"
      ]
     },
     "execution_count": 70,
     "metadata": {},
     "output_type": "execute_result"
    }
   ],
   "source": [
    "classifier = LogisticRegression(random_state = 0)\n",
    "classifier.fit(X_train, y_train)"
   ]
  },
  {
   "cell_type": "code",
   "execution_count": 71,
   "metadata": {},
   "outputs": [
    {
     "name": "stdout",
     "output_type": "stream",
     "text": [
      "[[385   0]\n",
      " [ 59   0]]\n"
     ]
    },
    {
     "data": {
      "text/plain": [
       "0.8671171171171171"
      ]
     },
     "execution_count": 71,
     "metadata": {},
     "output_type": "execute_result"
    }
   ],
   "source": [
    "y_pred = classifier.predict(X_test)\n",
    "cm = confusion_matrix(y_test, y_pred)\n",
    "print(cm)\n",
    "accuracy_score(y_test, y_pred)"
   ]
  },
  {
   "cell_type": "markdown",
   "metadata": {},
   "source": [
    "# Catboost"
   ]
  },
  {
   "cell_type": "code",
   "execution_count": 73,
   "metadata": {},
   "outputs": [
    {
     "name": "stdout",
     "output_type": "stream",
     "text": [
      "Collecting catboost\n",
      "  Downloading catboost-1.0.6-cp37-none-manylinux1_x86_64.whl (76.6 MB)\n",
      "\u001b[2K     \u001b[38;2;114;156;31m━━━━━━━━━━━━━━━━━━━━━━━━━━━━━━━━━━━━━━━\u001b[0m \u001b[32m76.6/76.6 MB\u001b[0m \u001b[31m380.8 kB/s\u001b[0m eta \u001b[36m0:00:00\u001b[0mm eta \u001b[36m0:00:01\u001b[0m[36m0:00:05\u001b[0m\n",
      "\u001b[?25hCollecting plotly\n",
      "  Downloading plotly-5.8.1-py2.py3-none-any.whl (15.2 MB)\n",
      "\u001b[2K     \u001b[38;2;114;156;31m━━━━━━━━━━━━━━━━━━━━━━━━━━━━━━━━━━━━━━━\u001b[0m \u001b[32m15.2/15.2 MB\u001b[0m \u001b[31m420.6 kB/s\u001b[0m eta \u001b[36m0:00:00\u001b[0mm eta \u001b[36m0:00:01\u001b[0m[36m0:00:01\u001b[0m\n",
      "\u001b[?25hRequirement already satisfied: pandas>=0.24.0 in /home/ahmdsroor/anaconda3/lib/python3.7/site-packages (from catboost) (1.3.5)\n",
      "Requirement already satisfied: six in /home/ahmdsroor/anaconda3/lib/python3.7/site-packages (from catboost) (1.16.0)\n",
      "Requirement already satisfied: numpy>=1.16.0 in /home/ahmdsroor/anaconda3/lib/python3.7/site-packages (from catboost) (1.21.6)\n",
      "Requirement already satisfied: matplotlib in /home/ahmdsroor/anaconda3/lib/python3.7/site-packages (from catboost) (3.1.3)\n",
      "Requirement already satisfied: scipy in /home/ahmdsroor/anaconda3/lib/python3.7/site-packages (from catboost) (1.4.1)\n",
      "Collecting graphviz\n",
      "  Downloading graphviz-0.20-py3-none-any.whl (46 kB)\n",
      "\u001b[2K     \u001b[38;2;114;156;31m━━━━━━━━━━━━━━━━━━━━━━━━━━━━━━━━━━━━━━━\u001b[0m \u001b[32m47.0/47.0 kB\u001b[0m \u001b[31m117.4 kB/s\u001b[0m eta \u001b[36m0:00:00\u001b[0m1m419.6 kB/s\u001b[0m eta \u001b[36m0:00:01\u001b[0m\n",
      "\u001b[?25hRequirement already satisfied: python-dateutil>=2.7.3 in /home/ahmdsroor/anaconda3/lib/python3.7/site-packages (from pandas>=0.24.0->catboost) (2.8.1)\n",
      "Requirement already satisfied: pytz>=2017.3 in /home/ahmdsroor/anaconda3/lib/python3.7/site-packages (from pandas>=0.24.0->catboost) (2019.3)\n",
      "Requirement already satisfied: pyparsing!=2.0.4,!=2.1.2,!=2.1.6,>=2.0.1 in /home/ahmdsroor/anaconda3/lib/python3.7/site-packages (from matplotlib->catboost) (3.0.7)\n",
      "Requirement already satisfied: cycler>=0.10 in /home/ahmdsroor/anaconda3/lib/python3.7/site-packages (from matplotlib->catboost) (0.10.0)\n",
      "Requirement already satisfied: kiwisolver>=1.0.1 in /home/ahmdsroor/anaconda3/lib/python3.7/site-packages (from matplotlib->catboost) (1.1.0)\n",
      "Collecting tenacity>=6.2.0\n",
      "  Downloading tenacity-8.0.1-py3-none-any.whl (24 kB)\n",
      "Requirement already satisfied: setuptools in /home/ahmdsroor/anaconda3/lib/python3.7/site-packages (from kiwisolver>=1.0.1->matplotlib->catboost) (62.0.0)\n",
      "Installing collected packages: tenacity, graphviz, plotly, catboost\n",
      "Successfully installed catboost-1.0.6 graphviz-0.20 plotly-5.8.1 tenacity-8.0.1\n"
     ]
    }
   ],
   "source": [
    "!pip install catboost"
   ]
  },
  {
   "cell_type": "code",
   "execution_count": 74,
   "metadata": {},
   "outputs": [
    {
     "name": "stdout",
     "output_type": "stream",
     "text": [
      "Learning rate set to 0.013153\n",
      "0:\tlearn: 0.6840691\ttotal: 49.8ms\tremaining: 49.7s\n",
      "1:\tlearn: 0.6749799\ttotal: 52.5ms\tremaining: 26.2s\n",
      "2:\tlearn: 0.6662720\ttotal: 55.2ms\tremaining: 18.3s\n",
      "3:\tlearn: 0.6576694\ttotal: 57ms\tremaining: 14.2s\n",
      "4:\tlearn: 0.6495290\ttotal: 58.8ms\tremaining: 11.7s\n",
      "5:\tlearn: 0.6415989\ttotal: 60.6ms\tremaining: 10s\n",
      "6:\tlearn: 0.6339144\ttotal: 62.3ms\tremaining: 8.84s\n",
      "7:\tlearn: 0.6263838\ttotal: 64.2ms\tremaining: 7.96s\n",
      "8:\tlearn: 0.6193327\ttotal: 65.9ms\tremaining: 7.26s\n",
      "9:\tlearn: 0.6124035\ttotal: 67.7ms\tremaining: 6.7s\n",
      "10:\tlearn: 0.6056373\ttotal: 69.5ms\tremaining: 6.25s\n",
      "11:\tlearn: 0.5991905\ttotal: 71.3ms\tremaining: 5.87s\n",
      "12:\tlearn: 0.5928360\ttotal: 73.1ms\tremaining: 5.55s\n",
      "13:\tlearn: 0.5866131\ttotal: 74.8ms\tremaining: 5.27s\n",
      "14:\tlearn: 0.5805716\ttotal: 76.6ms\tremaining: 5.03s\n",
      "15:\tlearn: 0.5747217\ttotal: 78.4ms\tremaining: 4.82s\n",
      "16:\tlearn: 0.5691153\ttotal: 80.1ms\tremaining: 4.63s\n",
      "17:\tlearn: 0.5634897\ttotal: 81.9ms\tremaining: 4.47s\n",
      "18:\tlearn: 0.5581436\ttotal: 83.7ms\tremaining: 4.32s\n",
      "19:\tlearn: 0.5529833\ttotal: 85.5ms\tremaining: 4.19s\n",
      "20:\tlearn: 0.5480379\ttotal: 87.3ms\tremaining: 4.07s\n",
      "21:\tlearn: 0.5434822\ttotal: 89ms\tremaining: 3.96s\n",
      "22:\tlearn: 0.5389621\ttotal: 90.8ms\tremaining: 3.86s\n",
      "23:\tlearn: 0.5344282\ttotal: 92.6ms\tremaining: 3.77s\n",
      "24:\tlearn: 0.5302162\ttotal: 94.4ms\tremaining: 3.68s\n",
      "25:\tlearn: 0.5258405\ttotal: 96.1ms\tremaining: 3.6s\n",
      "26:\tlearn: 0.5218316\ttotal: 98ms\tremaining: 3.53s\n",
      "27:\tlearn: 0.5179911\ttotal: 99.7ms\tremaining: 3.46s\n",
      "28:\tlearn: 0.5141422\ttotal: 101ms\tremaining: 3.4s\n",
      "29:\tlearn: 0.5104892\ttotal: 103ms\tremaining: 3.34s\n",
      "30:\tlearn: 0.5069229\ttotal: 105ms\tremaining: 3.28s\n",
      "31:\tlearn: 0.5034494\ttotal: 107ms\tremaining: 3.23s\n",
      "32:\tlearn: 0.5001305\ttotal: 109ms\tremaining: 3.18s\n",
      "33:\tlearn: 0.4967731\ttotal: 110ms\tremaining: 3.13s\n",
      "34:\tlearn: 0.4938222\ttotal: 112ms\tremaining: 3.09s\n",
      "35:\tlearn: 0.4908771\ttotal: 114ms\tremaining: 3.05s\n",
      "36:\tlearn: 0.4878669\ttotal: 116ms\tremaining: 3.01s\n",
      "37:\tlearn: 0.4849336\ttotal: 117ms\tremaining: 2.97s\n",
      "38:\tlearn: 0.4820545\ttotal: 119ms\tremaining: 2.94s\n",
      "39:\tlearn: 0.4793901\ttotal: 121ms\tremaining: 2.9s\n",
      "40:\tlearn: 0.4767501\ttotal: 123ms\tremaining: 2.87s\n",
      "41:\tlearn: 0.4742032\ttotal: 124ms\tremaining: 2.84s\n",
      "42:\tlearn: 0.4719661\ttotal: 126ms\tremaining: 2.81s\n",
      "43:\tlearn: 0.4694737\ttotal: 128ms\tremaining: 2.78s\n",
      "44:\tlearn: 0.4672335\ttotal: 130ms\tremaining: 2.76s\n",
      "45:\tlearn: 0.4650252\ttotal: 132ms\tremaining: 2.73s\n",
      "46:\tlearn: 0.4628163\ttotal: 133ms\tremaining: 2.71s\n",
      "47:\tlearn: 0.4606646\ttotal: 135ms\tremaining: 2.68s\n",
      "48:\tlearn: 0.4585977\ttotal: 137ms\tremaining: 2.66s\n",
      "49:\tlearn: 0.4566076\ttotal: 139ms\tremaining: 2.63s\n",
      "50:\tlearn: 0.4546576\ttotal: 140ms\tremaining: 2.61s\n",
      "51:\tlearn: 0.4526676\ttotal: 142ms\tremaining: 2.59s\n",
      "52:\tlearn: 0.4509678\ttotal: 144ms\tremaining: 2.57s\n",
      "53:\tlearn: 0.4492794\ttotal: 146ms\tremaining: 2.55s\n",
      "54:\tlearn: 0.4474795\ttotal: 148ms\tremaining: 2.54s\n",
      "55:\tlearn: 0.4460313\ttotal: 149ms\tremaining: 2.52s\n",
      "56:\tlearn: 0.4444396\ttotal: 151ms\tremaining: 2.5s\n",
      "57:\tlearn: 0.4429630\ttotal: 153ms\tremaining: 2.48s\n",
      "58:\tlearn: 0.4415437\ttotal: 154ms\tremaining: 2.46s\n",
      "59:\tlearn: 0.4400531\ttotal: 156ms\tremaining: 2.45s\n",
      "60:\tlearn: 0.4385559\ttotal: 158ms\tremaining: 2.43s\n",
      "61:\tlearn: 0.4370522\ttotal: 160ms\tremaining: 2.42s\n",
      "62:\tlearn: 0.4356832\ttotal: 162ms\tremaining: 2.4s\n",
      "63:\tlearn: 0.4344939\ttotal: 163ms\tremaining: 2.39s\n",
      "64:\tlearn: 0.4331530\ttotal: 165ms\tremaining: 2.38s\n",
      "65:\tlearn: 0.4318731\ttotal: 167ms\tremaining: 2.36s\n",
      "66:\tlearn: 0.4306886\ttotal: 169ms\tremaining: 2.35s\n",
      "67:\tlearn: 0.4295207\ttotal: 171ms\tremaining: 2.34s\n",
      "68:\tlearn: 0.4283534\ttotal: 172ms\tremaining: 2.32s\n",
      "69:\tlearn: 0.4272023\ttotal: 174ms\tremaining: 2.31s\n",
      "70:\tlearn: 0.4262080\ttotal: 176ms\tremaining: 2.3s\n",
      "71:\tlearn: 0.4251393\ttotal: 177ms\tremaining: 2.29s\n",
      "72:\tlearn: 0.4240661\ttotal: 179ms\tremaining: 2.27s\n",
      "73:\tlearn: 0.4230601\ttotal: 181ms\tremaining: 2.26s\n",
      "74:\tlearn: 0.4220848\ttotal: 183ms\tremaining: 2.25s\n",
      "75:\tlearn: 0.4210793\ttotal: 184ms\tremaining: 2.24s\n",
      "76:\tlearn: 0.4202283\ttotal: 186ms\tremaining: 2.23s\n",
      "77:\tlearn: 0.4193639\ttotal: 188ms\tremaining: 2.22s\n",
      "78:\tlearn: 0.4185077\ttotal: 190ms\tremaining: 2.22s\n",
      "79:\tlearn: 0.4177305\ttotal: 192ms\tremaining: 2.21s\n",
      "80:\tlearn: 0.4168945\ttotal: 194ms\tremaining: 2.2s\n",
      "81:\tlearn: 0.4161092\ttotal: 196ms\tremaining: 2.19s\n",
      "82:\tlearn: 0.4153766\ttotal: 198ms\tremaining: 2.19s\n",
      "83:\tlearn: 0.4145894\ttotal: 200ms\tremaining: 2.18s\n",
      "84:\tlearn: 0.4138638\ttotal: 202ms\tremaining: 2.17s\n",
      "85:\tlearn: 0.4131425\ttotal: 204ms\tremaining: 2.17s\n",
      "86:\tlearn: 0.4125393\ttotal: 206ms\tremaining: 2.16s\n",
      "87:\tlearn: 0.4118459\ttotal: 208ms\tremaining: 2.15s\n",
      "88:\tlearn: 0.4111563\ttotal: 210ms\tremaining: 2.15s\n",
      "89:\tlearn: 0.4105192\ttotal: 212ms\tremaining: 2.14s\n",
      "90:\tlearn: 0.4100781\ttotal: 213ms\tremaining: 2.13s\n",
      "91:\tlearn: 0.4094603\ttotal: 215ms\tremaining: 2.12s\n",
      "92:\tlearn: 0.4088639\ttotal: 217ms\tremaining: 2.11s\n",
      "93:\tlearn: 0.4084196\ttotal: 219ms\tremaining: 2.11s\n",
      "94:\tlearn: 0.4078214\ttotal: 221ms\tremaining: 2.1s\n",
      "95:\tlearn: 0.4073701\ttotal: 222ms\tremaining: 2.09s\n",
      "96:\tlearn: 0.4068766\ttotal: 224ms\tremaining: 2.08s\n",
      "97:\tlearn: 0.4064245\ttotal: 226ms\tremaining: 2.08s\n",
      "98:\tlearn: 0.4058395\ttotal: 228ms\tremaining: 2.07s\n",
      "99:\tlearn: 0.4054630\ttotal: 230ms\tremaining: 2.07s\n",
      "100:\tlearn: 0.4049874\ttotal: 232ms\tremaining: 2.06s\n",
      "101:\tlearn: 0.4045834\ttotal: 234ms\tremaining: 2.06s\n",
      "102:\tlearn: 0.4042018\ttotal: 235ms\tremaining: 2.05s\n",
      "103:\tlearn: 0.4037914\ttotal: 237ms\tremaining: 2.04s\n",
      "104:\tlearn: 0.4033967\ttotal: 239ms\tremaining: 2.04s\n",
      "105:\tlearn: 0.4030028\ttotal: 241ms\tremaining: 2.03s\n",
      "106:\tlearn: 0.4026401\ttotal: 243ms\tremaining: 2.02s\n",
      "107:\tlearn: 0.4021952\ttotal: 244ms\tremaining: 2.02s\n",
      "108:\tlearn: 0.4017956\ttotal: 247ms\tremaining: 2.02s\n",
      "109:\tlearn: 0.4013866\ttotal: 249ms\tremaining: 2.01s\n",
      "110:\tlearn: 0.4010409\ttotal: 251ms\tremaining: 2.01s\n",
      "111:\tlearn: 0.4007165\ttotal: 252ms\tremaining: 2s\n",
      "112:\tlearn: 0.4003733\ttotal: 254ms\tremaining: 1.99s\n",
      "113:\tlearn: 0.4000550\ttotal: 256ms\tremaining: 1.99s\n",
      "114:\tlearn: 0.3997090\ttotal: 258ms\tremaining: 1.98s\n",
      "115:\tlearn: 0.3993445\ttotal: 259ms\tremaining: 1.98s\n",
      "116:\tlearn: 0.3989937\ttotal: 261ms\tremaining: 1.97s\n",
      "117:\tlearn: 0.3986341\ttotal: 263ms\tremaining: 1.97s\n",
      "118:\tlearn: 0.3982772\ttotal: 265ms\tremaining: 1.96s\n",
      "119:\tlearn: 0.3979635\ttotal: 266ms\tremaining: 1.95s\n",
      "120:\tlearn: 0.3976682\ttotal: 268ms\tremaining: 1.95s\n",
      "121:\tlearn: 0.3973704\ttotal: 270ms\tremaining: 1.94s\n",
      "122:\tlearn: 0.3971518\ttotal: 271ms\tremaining: 1.94s\n",
      "123:\tlearn: 0.3968824\ttotal: 273ms\tremaining: 1.93s\n",
      "124:\tlearn: 0.3966261\ttotal: 275ms\tremaining: 1.92s\n",
      "125:\tlearn: 0.3963584\ttotal: 277ms\tremaining: 1.92s\n",
      "126:\tlearn: 0.3961372\ttotal: 279ms\tremaining: 1.92s\n",
      "127:\tlearn: 0.3958482\ttotal: 280ms\tremaining: 1.91s\n",
      "128:\tlearn: 0.3956041\ttotal: 282ms\tremaining: 1.91s\n",
      "129:\tlearn: 0.3953272\ttotal: 284ms\tremaining: 1.9s\n",
      "130:\tlearn: 0.3950608\ttotal: 286ms\tremaining: 1.9s\n",
      "131:\tlearn: 0.3949146\ttotal: 288ms\tremaining: 1.89s\n",
      "132:\tlearn: 0.3947425\ttotal: 289ms\tremaining: 1.89s\n",
      "133:\tlearn: 0.3945177\ttotal: 291ms\tremaining: 1.88s\n",
      "134:\tlearn: 0.3942820\ttotal: 293ms\tremaining: 1.88s\n",
      "135:\tlearn: 0.3940976\ttotal: 295ms\tremaining: 1.87s\n",
      "136:\tlearn: 0.3938167\ttotal: 297ms\tremaining: 1.87s\n",
      "137:\tlearn: 0.3935487\ttotal: 299ms\tremaining: 1.87s\n",
      "138:\tlearn: 0.3933933\ttotal: 301ms\tremaining: 1.86s\n",
      "139:\tlearn: 0.3931217\ttotal: 303ms\tremaining: 1.86s\n",
      "140:\tlearn: 0.3928911\ttotal: 305ms\tremaining: 1.85s\n",
      "141:\tlearn: 0.3926757\ttotal: 306ms\tremaining: 1.85s\n",
      "142:\tlearn: 0.3924842\ttotal: 308ms\tremaining: 1.85s\n",
      "143:\tlearn: 0.3923198\ttotal: 310ms\tremaining: 1.84s\n",
      "144:\tlearn: 0.3921637\ttotal: 312ms\tremaining: 1.84s\n",
      "145:\tlearn: 0.3919629\ttotal: 314ms\tremaining: 1.84s\n",
      "146:\tlearn: 0.3918289\ttotal: 316ms\tremaining: 1.83s\n",
      "147:\tlearn: 0.3916734\ttotal: 318ms\tremaining: 1.83s\n",
      "148:\tlearn: 0.3915135\ttotal: 320ms\tremaining: 1.82s\n",
      "149:\tlearn: 0.3913373\ttotal: 322ms\tremaining: 1.82s\n",
      "150:\tlearn: 0.3911725\ttotal: 324ms\tremaining: 1.82s\n",
      "151:\tlearn: 0.3910133\ttotal: 326ms\tremaining: 1.82s\n",
      "152:\tlearn: 0.3908822\ttotal: 328ms\tremaining: 1.81s\n",
      "153:\tlearn: 0.3907568\ttotal: 330ms\tremaining: 1.81s\n",
      "154:\tlearn: 0.3906178\ttotal: 332ms\tremaining: 1.81s\n",
      "155:\tlearn: 0.3904984\ttotal: 333ms\tremaining: 1.8s\n",
      "156:\tlearn: 0.3903803\ttotal: 335ms\tremaining: 1.8s\n",
      "157:\tlearn: 0.3901779\ttotal: 337ms\tremaining: 1.8s\n",
      "158:\tlearn: 0.3900373\ttotal: 339ms\tremaining: 1.79s\n",
      "159:\tlearn: 0.3899161\ttotal: 341ms\tremaining: 1.79s\n",
      "160:\tlearn: 0.3898191\ttotal: 343ms\tremaining: 1.79s\n",
      "161:\tlearn: 0.3896819\ttotal: 345ms\tremaining: 1.78s\n",
      "162:\tlearn: 0.3895284\ttotal: 347ms\tremaining: 1.78s\n",
      "163:\tlearn: 0.3893878\ttotal: 349ms\tremaining: 1.78s\n",
      "164:\tlearn: 0.3892658\ttotal: 351ms\tremaining: 1.77s\n",
      "165:\tlearn: 0.3891577\ttotal: 353ms\tremaining: 1.77s\n",
      "166:\tlearn: 0.3890546\ttotal: 355ms\tremaining: 1.77s\n",
      "167:\tlearn: 0.3889690\ttotal: 357ms\tremaining: 1.76s\n",
      "168:\tlearn: 0.3888925\ttotal: 358ms\tremaining: 1.76s\n",
      "169:\tlearn: 0.3887817\ttotal: 360ms\tremaining: 1.76s\n",
      "170:\tlearn: 0.3886617\ttotal: 362ms\tremaining: 1.75s\n",
      "171:\tlearn: 0.3885259\ttotal: 364ms\tremaining: 1.75s\n",
      "172:\tlearn: 0.3884071\ttotal: 366ms\tremaining: 1.75s\n",
      "173:\tlearn: 0.3883045\ttotal: 368ms\tremaining: 1.75s\n",
      "174:\tlearn: 0.3882287\ttotal: 370ms\tremaining: 1.74s\n",
      "175:\tlearn: 0.3880859\ttotal: 372ms\tremaining: 1.74s\n",
      "176:\tlearn: 0.3879811\ttotal: 374ms\tremaining: 1.74s\n"
     ]
    },
    {
     "name": "stdout",
     "output_type": "stream",
     "text": [
      "177:\tlearn: 0.3879023\ttotal: 376ms\tremaining: 1.74s\n",
      "178:\tlearn: 0.3878273\ttotal: 378ms\tremaining: 1.73s\n",
      "179:\tlearn: 0.3877642\ttotal: 380ms\tremaining: 1.73s\n",
      "180:\tlearn: 0.3876499\ttotal: 382ms\tremaining: 1.73s\n",
      "181:\tlearn: 0.3875455\ttotal: 385ms\tremaining: 1.73s\n",
      "182:\tlearn: 0.3874829\ttotal: 387ms\tremaining: 1.73s\n",
      "183:\tlearn: 0.3874073\ttotal: 390ms\tremaining: 1.73s\n",
      "184:\tlearn: 0.3873615\ttotal: 392ms\tremaining: 1.73s\n",
      "185:\tlearn: 0.3872695\ttotal: 395ms\tremaining: 1.73s\n",
      "186:\tlearn: 0.3872001\ttotal: 397ms\tremaining: 1.73s\n",
      "187:\tlearn: 0.3871431\ttotal: 399ms\tremaining: 1.72s\n",
      "188:\tlearn: 0.3870745\ttotal: 401ms\tremaining: 1.72s\n",
      "189:\tlearn: 0.3869834\ttotal: 408ms\tremaining: 1.74s\n",
      "190:\tlearn: 0.3869190\ttotal: 410ms\tremaining: 1.74s\n",
      "191:\tlearn: 0.3868214\ttotal: 413ms\tremaining: 1.74s\n",
      "192:\tlearn: 0.3867623\ttotal: 417ms\tremaining: 1.75s\n",
      "193:\tlearn: 0.3866664\ttotal: 420ms\tremaining: 1.74s\n",
      "194:\tlearn: 0.3865907\ttotal: 422ms\tremaining: 1.74s\n",
      "195:\tlearn: 0.3864941\ttotal: 424ms\tremaining: 1.74s\n",
      "196:\tlearn: 0.3863971\ttotal: 427ms\tremaining: 1.74s\n",
      "197:\tlearn: 0.3863144\ttotal: 430ms\tremaining: 1.74s\n",
      "198:\tlearn: 0.3862617\ttotal: 433ms\tremaining: 1.74s\n",
      "199:\tlearn: 0.3861791\ttotal: 435ms\tremaining: 1.74s\n",
      "200:\tlearn: 0.3860860\ttotal: 437ms\tremaining: 1.74s\n",
      "201:\tlearn: 0.3860211\ttotal: 439ms\tremaining: 1.74s\n",
      "202:\tlearn: 0.3859158\ttotal: 442ms\tremaining: 1.73s\n",
      "203:\tlearn: 0.3858156\ttotal: 443ms\tremaining: 1.73s\n",
      "204:\tlearn: 0.3857335\ttotal: 446ms\tremaining: 1.73s\n",
      "205:\tlearn: 0.3856985\ttotal: 448ms\tremaining: 1.73s\n",
      "206:\tlearn: 0.3856358\ttotal: 451ms\tremaining: 1.73s\n",
      "207:\tlearn: 0.3855702\ttotal: 453ms\tremaining: 1.72s\n",
      "208:\tlearn: 0.3855007\ttotal: 455ms\tremaining: 1.72s\n",
      "209:\tlearn: 0.3854257\ttotal: 457ms\tremaining: 1.72s\n",
      "210:\tlearn: 0.3853122\ttotal: 463ms\tremaining: 1.73s\n",
      "211:\tlearn: 0.3852538\ttotal: 466ms\tremaining: 1.73s\n",
      "212:\tlearn: 0.3851136\ttotal: 468ms\tremaining: 1.73s\n",
      "213:\tlearn: 0.3849432\ttotal: 469ms\tremaining: 1.72s\n",
      "214:\tlearn: 0.3848375\ttotal: 471ms\tremaining: 1.72s\n",
      "215:\tlearn: 0.3847301\ttotal: 473ms\tremaining: 1.72s\n",
      "216:\tlearn: 0.3846152\ttotal: 475ms\tremaining: 1.72s\n",
      "217:\tlearn: 0.3845599\ttotal: 478ms\tremaining: 1.71s\n",
      "218:\tlearn: 0.3845044\ttotal: 480ms\tremaining: 1.71s\n",
      "219:\tlearn: 0.3844440\ttotal: 482ms\tremaining: 1.71s\n",
      "220:\tlearn: 0.3843528\ttotal: 484ms\tremaining: 1.71s\n",
      "221:\tlearn: 0.3842658\ttotal: 486ms\tremaining: 1.7s\n",
      "222:\tlearn: 0.3842013\ttotal: 488ms\tremaining: 1.7s\n",
      "223:\tlearn: 0.3841166\ttotal: 489ms\tremaining: 1.7s\n",
      "224:\tlearn: 0.3840225\ttotal: 493ms\tremaining: 1.7s\n",
      "225:\tlearn: 0.3839591\ttotal: 496ms\tremaining: 1.7s\n",
      "226:\tlearn: 0.3839270\ttotal: 498ms\tremaining: 1.69s\n",
      "227:\tlearn: 0.3838898\ttotal: 499ms\tremaining: 1.69s\n",
      "228:\tlearn: 0.3838360\ttotal: 502ms\tremaining: 1.69s\n",
      "229:\tlearn: 0.3837666\ttotal: 503ms\tremaining: 1.69s\n",
      "230:\tlearn: 0.3836875\ttotal: 505ms\tremaining: 1.68s\n",
      "231:\tlearn: 0.3836192\ttotal: 507ms\tremaining: 1.68s\n",
      "232:\tlearn: 0.3835115\ttotal: 509ms\tremaining: 1.68s\n",
      "233:\tlearn: 0.3834478\ttotal: 512ms\tremaining: 1.68s\n",
      "234:\tlearn: 0.3833799\ttotal: 514ms\tremaining: 1.67s\n",
      "235:\tlearn: 0.3832973\ttotal: 516ms\tremaining: 1.67s\n",
      "236:\tlearn: 0.3832382\ttotal: 518ms\tremaining: 1.67s\n",
      "237:\tlearn: 0.3831852\ttotal: 520ms\tremaining: 1.66s\n",
      "238:\tlearn: 0.3831022\ttotal: 524ms\tremaining: 1.67s\n",
      "239:\tlearn: 0.3829704\ttotal: 526ms\tremaining: 1.67s\n",
      "240:\tlearn: 0.3829269\ttotal: 528ms\tremaining: 1.66s\n",
      "241:\tlearn: 0.3828475\ttotal: 530ms\tremaining: 1.66s\n",
      "242:\tlearn: 0.3827890\ttotal: 532ms\tremaining: 1.66s\n",
      "243:\tlearn: 0.3827217\ttotal: 534ms\tremaining: 1.65s\n",
      "244:\tlearn: 0.3826410\ttotal: 536ms\tremaining: 1.65s\n",
      "245:\tlearn: 0.3825592\ttotal: 538ms\tremaining: 1.65s\n",
      "246:\tlearn: 0.3824689\ttotal: 540ms\tremaining: 1.65s\n",
      "247:\tlearn: 0.3824365\ttotal: 542ms\tremaining: 1.64s\n",
      "248:\tlearn: 0.3824035\ttotal: 544ms\tremaining: 1.64s\n",
      "249:\tlearn: 0.3823597\ttotal: 546ms\tremaining: 1.64s\n",
      "250:\tlearn: 0.3822889\ttotal: 551ms\tremaining: 1.64s\n",
      "251:\tlearn: 0.3822226\ttotal: 553ms\tremaining: 1.64s\n",
      "252:\tlearn: 0.3821451\ttotal: 555ms\tremaining: 1.64s\n",
      "253:\tlearn: 0.3821155\ttotal: 557ms\tremaining: 1.64s\n",
      "254:\tlearn: 0.3820470\ttotal: 559ms\tremaining: 1.63s\n",
      "255:\tlearn: 0.3819788\ttotal: 561ms\tremaining: 1.63s\n",
      "256:\tlearn: 0.3819059\ttotal: 563ms\tremaining: 1.63s\n",
      "257:\tlearn: 0.3818698\ttotal: 565ms\tremaining: 1.63s\n",
      "258:\tlearn: 0.3818283\ttotal: 567ms\tremaining: 1.62s\n",
      "259:\tlearn: 0.3817747\ttotal: 569ms\tremaining: 1.62s\n",
      "260:\tlearn: 0.3817415\ttotal: 573ms\tremaining: 1.62s\n",
      "261:\tlearn: 0.3817049\ttotal: 575ms\tremaining: 1.62s\n",
      "262:\tlearn: 0.3816870\ttotal: 577ms\tremaining: 1.61s\n",
      "263:\tlearn: 0.3816630\ttotal: 579ms\tremaining: 1.61s\n",
      "264:\tlearn: 0.3816022\ttotal: 580ms\tremaining: 1.61s\n",
      "265:\tlearn: 0.3815502\ttotal: 582ms\tremaining: 1.61s\n",
      "266:\tlearn: 0.3815068\ttotal: 584ms\tremaining: 1.6s\n",
      "267:\tlearn: 0.3814624\ttotal: 586ms\tremaining: 1.6s\n",
      "268:\tlearn: 0.3814347\ttotal: 588ms\tremaining: 1.6s\n",
      "269:\tlearn: 0.3813137\ttotal: 590ms\tremaining: 1.59s\n",
      "270:\tlearn: 0.3812807\ttotal: 592ms\tremaining: 1.59s\n",
      "271:\tlearn: 0.3812097\ttotal: 594ms\tremaining: 1.59s\n",
      "272:\tlearn: 0.3811492\ttotal: 596ms\tremaining: 1.59s\n",
      "273:\tlearn: 0.3811117\ttotal: 599ms\tremaining: 1.58s\n",
      "274:\tlearn: 0.3810253\ttotal: 600ms\tremaining: 1.58s\n",
      "275:\tlearn: 0.3809400\ttotal: 603ms\tremaining: 1.58s\n",
      "276:\tlearn: 0.3809092\ttotal: 605ms\tremaining: 1.58s\n",
      "277:\tlearn: 0.3808518\ttotal: 607ms\tremaining: 1.58s\n",
      "278:\tlearn: 0.3808011\ttotal: 609ms\tremaining: 1.57s\n",
      "279:\tlearn: 0.3807548\ttotal: 612ms\tremaining: 1.57s\n",
      "280:\tlearn: 0.3806811\ttotal: 614ms\tremaining: 1.57s\n",
      "281:\tlearn: 0.3806277\ttotal: 616ms\tremaining: 1.57s\n",
      "282:\tlearn: 0.3805838\ttotal: 618ms\tremaining: 1.56s\n",
      "283:\tlearn: 0.3805476\ttotal: 619ms\tremaining: 1.56s\n",
      "284:\tlearn: 0.3805348\ttotal: 621ms\tremaining: 1.56s\n",
      "285:\tlearn: 0.3804596\ttotal: 623ms\tremaining: 1.55s\n",
      "286:\tlearn: 0.3804303\ttotal: 625ms\tremaining: 1.55s\n",
      "287:\tlearn: 0.3803934\ttotal: 627ms\tremaining: 1.55s\n",
      "288:\tlearn: 0.3803374\ttotal: 628ms\tremaining: 1.55s\n",
      "289:\tlearn: 0.3802867\ttotal: 630ms\tremaining: 1.54s\n",
      "290:\tlearn: 0.3802744\ttotal: 632ms\tremaining: 1.54s\n",
      "291:\tlearn: 0.3802421\ttotal: 634ms\tremaining: 1.54s\n",
      "292:\tlearn: 0.3802014\ttotal: 636ms\tremaining: 1.53s\n",
      "293:\tlearn: 0.3800965\ttotal: 638ms\tremaining: 1.53s\n",
      "294:\tlearn: 0.3800553\ttotal: 639ms\tremaining: 1.53s\n",
      "295:\tlearn: 0.3799856\ttotal: 641ms\tremaining: 1.52s\n",
      "296:\tlearn: 0.3799001\ttotal: 643ms\tremaining: 1.52s\n",
      "297:\tlearn: 0.3798619\ttotal: 645ms\tremaining: 1.52s\n",
      "298:\tlearn: 0.3798368\ttotal: 647ms\tremaining: 1.52s\n",
      "299:\tlearn: 0.3797854\ttotal: 649ms\tremaining: 1.51s\n",
      "300:\tlearn: 0.3797368\ttotal: 651ms\tremaining: 1.51s\n",
      "301:\tlearn: 0.3796966\ttotal: 653ms\tremaining: 1.51s\n",
      "302:\tlearn: 0.3796609\ttotal: 654ms\tremaining: 1.5s\n",
      "303:\tlearn: 0.3795969\ttotal: 656ms\tremaining: 1.5s\n",
      "304:\tlearn: 0.3795474\ttotal: 658ms\tremaining: 1.5s\n",
      "305:\tlearn: 0.3794950\ttotal: 660ms\tremaining: 1.5s\n",
      "306:\tlearn: 0.3794819\ttotal: 662ms\tremaining: 1.49s\n",
      "307:\tlearn: 0.3794267\ttotal: 664ms\tremaining: 1.49s\n",
      "308:\tlearn: 0.3793370\ttotal: 665ms\tremaining: 1.49s\n",
      "309:\tlearn: 0.3792830\ttotal: 667ms\tremaining: 1.49s\n",
      "310:\tlearn: 0.3792244\ttotal: 669ms\tremaining: 1.48s\n",
      "311:\tlearn: 0.3791593\ttotal: 671ms\tremaining: 1.48s\n",
      "312:\tlearn: 0.3791123\ttotal: 674ms\tremaining: 1.48s\n",
      "313:\tlearn: 0.3790600\ttotal: 676ms\tremaining: 1.48s\n",
      "314:\tlearn: 0.3789996\ttotal: 677ms\tremaining: 1.47s\n",
      "315:\tlearn: 0.3789706\ttotal: 679ms\tremaining: 1.47s\n",
      "316:\tlearn: 0.3788851\ttotal: 681ms\tremaining: 1.47s\n",
      "317:\tlearn: 0.3788433\ttotal: 683ms\tremaining: 1.46s\n",
      "318:\tlearn: 0.3787980\ttotal: 685ms\tremaining: 1.46s\n",
      "319:\tlearn: 0.3787720\ttotal: 687ms\tremaining: 1.46s\n",
      "320:\tlearn: 0.3786786\ttotal: 689ms\tremaining: 1.46s\n",
      "321:\tlearn: 0.3786382\ttotal: 691ms\tremaining: 1.46s\n",
      "322:\tlearn: 0.3785761\ttotal: 693ms\tremaining: 1.45s\n",
      "323:\tlearn: 0.3785160\ttotal: 695ms\tremaining: 1.45s\n",
      "324:\tlearn: 0.3784716\ttotal: 697ms\tremaining: 1.45s\n",
      "325:\tlearn: 0.3783979\ttotal: 698ms\tremaining: 1.44s\n",
      "326:\tlearn: 0.3783814\ttotal: 700ms\tremaining: 1.44s\n",
      "327:\tlearn: 0.3783301\ttotal: 702ms\tremaining: 1.44s\n",
      "328:\tlearn: 0.3782917\ttotal: 704ms\tremaining: 1.44s\n",
      "329:\tlearn: 0.3782330\ttotal: 706ms\tremaining: 1.43s\n",
      "330:\tlearn: 0.3782043\ttotal: 708ms\tremaining: 1.43s\n",
      "331:\tlearn: 0.3781757\ttotal: 710ms\tremaining: 1.43s\n",
      "332:\tlearn: 0.3781510\ttotal: 712ms\tremaining: 1.43s\n",
      "333:\tlearn: 0.3780683\ttotal: 714ms\tremaining: 1.42s\n",
      "334:\tlearn: 0.3780560\ttotal: 716ms\tremaining: 1.42s\n",
      "335:\tlearn: 0.3779904\ttotal: 719ms\tremaining: 1.42s\n",
      "336:\tlearn: 0.3779359\ttotal: 720ms\tremaining: 1.42s\n",
      "337:\tlearn: 0.3779138\ttotal: 722ms\tremaining: 1.41s\n",
      "338:\tlearn: 0.3778783\ttotal: 724ms\tremaining: 1.41s\n",
      "339:\tlearn: 0.3778114\ttotal: 726ms\tremaining: 1.41s\n",
      "340:\tlearn: 0.3777785\ttotal: 728ms\tremaining: 1.41s\n",
      "341:\tlearn: 0.3777145\ttotal: 730ms\tremaining: 1.4s\n",
      "342:\tlearn: 0.3776499\ttotal: 731ms\tremaining: 1.4s\n",
      "343:\tlearn: 0.3776286\ttotal: 734ms\tremaining: 1.4s\n",
      "344:\tlearn: 0.3775752\ttotal: 736ms\tremaining: 1.4s\n",
      "345:\tlearn: 0.3775233\ttotal: 738ms\tremaining: 1.39s\n",
      "346:\tlearn: 0.3774898\ttotal: 740ms\tremaining: 1.39s\n",
      "347:\tlearn: 0.3774384\ttotal: 741ms\tremaining: 1.39s\n",
      "348:\tlearn: 0.3773979\ttotal: 743ms\tremaining: 1.39s\n",
      "349:\tlearn: 0.3773187\ttotal: 745ms\tremaining: 1.38s\n",
      "350:\tlearn: 0.3772936\ttotal: 747ms\tremaining: 1.38s\n",
      "351:\tlearn: 0.3772201\ttotal: 749ms\tremaining: 1.38s\n",
      "352:\tlearn: 0.3771690\ttotal: 751ms\tremaining: 1.38s\n",
      "353:\tlearn: 0.3771264\ttotal: 752ms\tremaining: 1.37s\n",
      "354:\tlearn: 0.3770576\ttotal: 754ms\tremaining: 1.37s\n",
      "355:\tlearn: 0.3770325\ttotal: 756ms\tremaining: 1.37s\n"
     ]
    },
    {
     "name": "stdout",
     "output_type": "stream",
     "text": [
      "356:\tlearn: 0.3770119\ttotal: 760ms\tremaining: 1.37s\n",
      "357:\tlearn: 0.3769743\ttotal: 762ms\tremaining: 1.37s\n",
      "358:\tlearn: 0.3769068\ttotal: 764ms\tremaining: 1.36s\n",
      "359:\tlearn: 0.3768404\ttotal: 766ms\tremaining: 1.36s\n",
      "360:\tlearn: 0.3767776\ttotal: 768ms\tremaining: 1.36s\n",
      "361:\tlearn: 0.3767497\ttotal: 770ms\tremaining: 1.36s\n",
      "362:\tlearn: 0.3767244\ttotal: 772ms\tremaining: 1.35s\n",
      "363:\tlearn: 0.3766452\ttotal: 774ms\tremaining: 1.35s\n",
      "364:\tlearn: 0.3765996\ttotal: 776ms\tremaining: 1.35s\n",
      "365:\tlearn: 0.3765727\ttotal: 777ms\tremaining: 1.35s\n",
      "366:\tlearn: 0.3765490\ttotal: 780ms\tremaining: 1.34s\n",
      "367:\tlearn: 0.3765207\ttotal: 781ms\tremaining: 1.34s\n",
      "368:\tlearn: 0.3765036\ttotal: 783ms\tremaining: 1.34s\n",
      "369:\tlearn: 0.3764449\ttotal: 785ms\tremaining: 1.34s\n",
      "370:\tlearn: 0.3763840\ttotal: 787ms\tremaining: 1.33s\n",
      "371:\tlearn: 0.3763562\ttotal: 789ms\tremaining: 1.33s\n",
      "372:\tlearn: 0.3762489\ttotal: 791ms\tremaining: 1.33s\n",
      "373:\tlearn: 0.3761737\ttotal: 792ms\tremaining: 1.33s\n",
      "374:\tlearn: 0.3761147\ttotal: 794ms\tremaining: 1.32s\n",
      "375:\tlearn: 0.3760390\ttotal: 796ms\tremaining: 1.32s\n",
      "376:\tlearn: 0.3759886\ttotal: 798ms\tremaining: 1.32s\n",
      "377:\tlearn: 0.3759654\ttotal: 800ms\tremaining: 1.32s\n",
      "378:\tlearn: 0.3758984\ttotal: 802ms\tremaining: 1.31s\n",
      "379:\tlearn: 0.3758589\ttotal: 804ms\tremaining: 1.31s\n",
      "380:\tlearn: 0.3758070\ttotal: 806ms\tremaining: 1.31s\n",
      "381:\tlearn: 0.3757802\ttotal: 808ms\tremaining: 1.31s\n",
      "382:\tlearn: 0.3757452\ttotal: 810ms\tremaining: 1.3s\n",
      "383:\tlearn: 0.3756934\ttotal: 812ms\tremaining: 1.3s\n",
      "384:\tlearn: 0.3756486\ttotal: 814ms\tremaining: 1.3s\n",
      "385:\tlearn: 0.3755827\ttotal: 816ms\tremaining: 1.3s\n",
      "386:\tlearn: 0.3755337\ttotal: 817ms\tremaining: 1.29s\n",
      "387:\tlearn: 0.3754633\ttotal: 819ms\tremaining: 1.29s\n",
      "388:\tlearn: 0.3754156\ttotal: 821ms\tremaining: 1.29s\n",
      "389:\tlearn: 0.3753857\ttotal: 823ms\tremaining: 1.29s\n",
      "390:\tlearn: 0.3752987\ttotal: 825ms\tremaining: 1.28s\n",
      "391:\tlearn: 0.3752649\ttotal: 827ms\tremaining: 1.28s\n",
      "392:\tlearn: 0.3752102\ttotal: 829ms\tremaining: 1.28s\n",
      "393:\tlearn: 0.3751663\ttotal: 830ms\tremaining: 1.28s\n",
      "394:\tlearn: 0.3751310\ttotal: 832ms\tremaining: 1.27s\n",
      "395:\tlearn: 0.3751103\ttotal: 834ms\tremaining: 1.27s\n",
      "396:\tlearn: 0.3750571\ttotal: 836ms\tremaining: 1.27s\n",
      "397:\tlearn: 0.3749436\ttotal: 837ms\tremaining: 1.27s\n",
      "398:\tlearn: 0.3748972\ttotal: 839ms\tremaining: 1.26s\n",
      "399:\tlearn: 0.3748710\ttotal: 841ms\tremaining: 1.26s\n",
      "400:\tlearn: 0.3748327\ttotal: 843ms\tremaining: 1.26s\n",
      "401:\tlearn: 0.3747822\ttotal: 845ms\tremaining: 1.26s\n",
      "402:\tlearn: 0.3747500\ttotal: 846ms\tremaining: 1.25s\n",
      "403:\tlearn: 0.3747137\ttotal: 848ms\tremaining: 1.25s\n",
      "404:\tlearn: 0.3746752\ttotal: 850ms\tremaining: 1.25s\n",
      "405:\tlearn: 0.3745590\ttotal: 852ms\tremaining: 1.25s\n",
      "406:\tlearn: 0.3745234\ttotal: 854ms\tremaining: 1.24s\n",
      "407:\tlearn: 0.3745143\ttotal: 855ms\tremaining: 1.24s\n",
      "408:\tlearn: 0.3744919\ttotal: 857ms\tremaining: 1.24s\n",
      "409:\tlearn: 0.3744680\ttotal: 859ms\tremaining: 1.24s\n",
      "410:\tlearn: 0.3744215\ttotal: 861ms\tremaining: 1.23s\n",
      "411:\tlearn: 0.3743859\ttotal: 863ms\tremaining: 1.23s\n",
      "412:\tlearn: 0.3743351\ttotal: 865ms\tremaining: 1.23s\n",
      "413:\tlearn: 0.3742789\ttotal: 866ms\tremaining: 1.23s\n",
      "414:\tlearn: 0.3742418\ttotal: 868ms\tremaining: 1.22s\n",
      "415:\tlearn: 0.3741823\ttotal: 870ms\tremaining: 1.22s\n",
      "416:\tlearn: 0.3741724\ttotal: 871ms\tremaining: 1.22s\n",
      "417:\tlearn: 0.3741095\ttotal: 873ms\tremaining: 1.22s\n",
      "418:\tlearn: 0.3740531\ttotal: 875ms\tremaining: 1.21s\n",
      "419:\tlearn: 0.3740127\ttotal: 877ms\tremaining: 1.21s\n",
      "420:\tlearn: 0.3739565\ttotal: 879ms\tremaining: 1.21s\n",
      "421:\tlearn: 0.3739256\ttotal: 880ms\tremaining: 1.21s\n",
      "422:\tlearn: 0.3738869\ttotal: 882ms\tremaining: 1.2s\n",
      "423:\tlearn: 0.3738460\ttotal: 884ms\tremaining: 1.2s\n",
      "424:\tlearn: 0.3737891\ttotal: 885ms\tremaining: 1.2s\n",
      "425:\tlearn: 0.3737197\ttotal: 887ms\tremaining: 1.2s\n",
      "426:\tlearn: 0.3736899\ttotal: 889ms\tremaining: 1.19s\n",
      "427:\tlearn: 0.3736366\ttotal: 891ms\tremaining: 1.19s\n",
      "428:\tlearn: 0.3736179\ttotal: 892ms\tremaining: 1.19s\n",
      "429:\tlearn: 0.3735552\ttotal: 894ms\tremaining: 1.19s\n",
      "430:\tlearn: 0.3735392\ttotal: 896ms\tremaining: 1.18s\n",
      "431:\tlearn: 0.3734929\ttotal: 898ms\tremaining: 1.18s\n",
      "432:\tlearn: 0.3734929\ttotal: 899ms\tremaining: 1.18s\n",
      "433:\tlearn: 0.3734591\ttotal: 901ms\tremaining: 1.17s\n",
      "434:\tlearn: 0.3733859\ttotal: 902ms\tremaining: 1.17s\n",
      "435:\tlearn: 0.3733420\ttotal: 904ms\tremaining: 1.17s\n",
      "436:\tlearn: 0.3733044\ttotal: 906ms\tremaining: 1.17s\n",
      "437:\tlearn: 0.3732673\ttotal: 908ms\tremaining: 1.17s\n",
      "438:\tlearn: 0.3732185\ttotal: 910ms\tremaining: 1.16s\n",
      "439:\tlearn: 0.3731833\ttotal: 912ms\tremaining: 1.16s\n",
      "440:\tlearn: 0.3731339\ttotal: 913ms\tremaining: 1.16s\n",
      "441:\tlearn: 0.3730863\ttotal: 915ms\tremaining: 1.16s\n",
      "442:\tlearn: 0.3730352\ttotal: 917ms\tremaining: 1.15s\n",
      "443:\tlearn: 0.3730068\ttotal: 919ms\tremaining: 1.15s\n",
      "444:\tlearn: 0.3729737\ttotal: 921ms\tremaining: 1.15s\n",
      "445:\tlearn: 0.3729377\ttotal: 922ms\tremaining: 1.15s\n",
      "446:\tlearn: 0.3729060\ttotal: 924ms\tremaining: 1.14s\n",
      "447:\tlearn: 0.3728699\ttotal: 926ms\tremaining: 1.14s\n",
      "448:\tlearn: 0.3728247\ttotal: 928ms\tremaining: 1.14s\n",
      "449:\tlearn: 0.3727761\ttotal: 930ms\tremaining: 1.14s\n",
      "450:\tlearn: 0.3726582\ttotal: 931ms\tremaining: 1.13s\n",
      "451:\tlearn: 0.3725952\ttotal: 935ms\tremaining: 1.13s\n",
      "452:\tlearn: 0.3725641\ttotal: 937ms\tremaining: 1.13s\n",
      "453:\tlearn: 0.3725137\ttotal: 938ms\tremaining: 1.13s\n",
      "454:\tlearn: 0.3724156\ttotal: 940ms\tremaining: 1.13s\n",
      "455:\tlearn: 0.3723708\ttotal: 942ms\tremaining: 1.12s\n",
      "456:\tlearn: 0.3723412\ttotal: 944ms\tremaining: 1.12s\n",
      "457:\tlearn: 0.3722875\ttotal: 946ms\tremaining: 1.12s\n",
      "458:\tlearn: 0.3722663\ttotal: 948ms\tremaining: 1.12s\n",
      "459:\tlearn: 0.3722226\ttotal: 950ms\tremaining: 1.11s\n",
      "460:\tlearn: 0.3721937\ttotal: 952ms\tremaining: 1.11s\n",
      "461:\tlearn: 0.3721574\ttotal: 954ms\tremaining: 1.11s\n",
      "462:\tlearn: 0.3721094\ttotal: 955ms\tremaining: 1.11s\n",
      "463:\tlearn: 0.3720574\ttotal: 957ms\tremaining: 1.1s\n",
      "464:\tlearn: 0.3720205\ttotal: 959ms\tremaining: 1.1s\n",
      "465:\tlearn: 0.3719460\ttotal: 960ms\tremaining: 1.1s\n",
      "466:\tlearn: 0.3719145\ttotal: 962ms\tremaining: 1.1s\n",
      "467:\tlearn: 0.3718711\ttotal: 964ms\tremaining: 1.09s\n",
      "468:\tlearn: 0.3718301\ttotal: 966ms\tremaining: 1.09s\n",
      "469:\tlearn: 0.3717974\ttotal: 968ms\tremaining: 1.09s\n",
      "470:\tlearn: 0.3717719\ttotal: 970ms\tremaining: 1.09s\n",
      "471:\tlearn: 0.3717085\ttotal: 971ms\tremaining: 1.09s\n",
      "472:\tlearn: 0.3716494\ttotal: 973ms\tremaining: 1.08s\n",
      "473:\tlearn: 0.3716097\ttotal: 975ms\tremaining: 1.08s\n",
      "474:\tlearn: 0.3715614\ttotal: 977ms\tremaining: 1.08s\n",
      "475:\tlearn: 0.3715105\ttotal: 979ms\tremaining: 1.08s\n",
      "476:\tlearn: 0.3714723\ttotal: 981ms\tremaining: 1.08s\n",
      "477:\tlearn: 0.3714688\ttotal: 983ms\tremaining: 1.07s\n",
      "478:\tlearn: 0.3714228\ttotal: 985ms\tremaining: 1.07s\n",
      "479:\tlearn: 0.3713771\ttotal: 987ms\tremaining: 1.07s\n",
      "480:\tlearn: 0.3713157\ttotal: 989ms\tremaining: 1.07s\n",
      "481:\tlearn: 0.3712601\ttotal: 991ms\tremaining: 1.06s\n",
      "482:\tlearn: 0.3712189\ttotal: 993ms\tremaining: 1.06s\n",
      "483:\tlearn: 0.3711640\ttotal: 995ms\tremaining: 1.06s\n",
      "484:\tlearn: 0.3711433\ttotal: 997ms\tremaining: 1.06s\n",
      "485:\tlearn: 0.3711086\ttotal: 999ms\tremaining: 1.06s\n",
      "486:\tlearn: 0.3710725\ttotal: 1s\tremaining: 1.05s\n",
      "487:\tlearn: 0.3710213\ttotal: 1s\tremaining: 1.05s\n",
      "488:\tlearn: 0.3709664\ttotal: 1s\tremaining: 1.05s\n",
      "489:\tlearn: 0.3709256\ttotal: 1.01s\tremaining: 1.05s\n",
      "490:\tlearn: 0.3708813\ttotal: 1.01s\tremaining: 1.04s\n",
      "491:\tlearn: 0.3708234\ttotal: 1.01s\tremaining: 1.04s\n",
      "492:\tlearn: 0.3707753\ttotal: 1.01s\tremaining: 1.04s\n",
      "493:\tlearn: 0.3706814\ttotal: 1.01s\tremaining: 1.04s\n",
      "494:\tlearn: 0.3705770\ttotal: 1.02s\tremaining: 1.04s\n",
      "495:\tlearn: 0.3705160\ttotal: 1.02s\tremaining: 1.03s\n",
      "496:\tlearn: 0.3704836\ttotal: 1.02s\tremaining: 1.03s\n",
      "497:\tlearn: 0.3704014\ttotal: 1.02s\tremaining: 1.03s\n",
      "498:\tlearn: 0.3703740\ttotal: 1.02s\tremaining: 1.03s\n",
      "499:\tlearn: 0.3703218\ttotal: 1.03s\tremaining: 1.03s\n",
      "500:\tlearn: 0.3702476\ttotal: 1.03s\tremaining: 1.02s\n",
      "501:\tlearn: 0.3701855\ttotal: 1.03s\tremaining: 1.02s\n",
      "502:\tlearn: 0.3701313\ttotal: 1.03s\tremaining: 1.02s\n",
      "503:\tlearn: 0.3700629\ttotal: 1.04s\tremaining: 1.02s\n",
      "504:\tlearn: 0.3699926\ttotal: 1.04s\tremaining: 1.02s\n",
      "505:\tlearn: 0.3699411\ttotal: 1.04s\tremaining: 1.01s\n",
      "506:\tlearn: 0.3699026\ttotal: 1.04s\tremaining: 1.01s\n",
      "507:\tlearn: 0.3698560\ttotal: 1.04s\tremaining: 1.01s\n",
      "508:\tlearn: 0.3697000\ttotal: 1.05s\tremaining: 1.01s\n",
      "509:\tlearn: 0.3696372\ttotal: 1.05s\tremaining: 1.01s\n",
      "510:\tlearn: 0.3695963\ttotal: 1.05s\tremaining: 1.01s\n",
      "511:\tlearn: 0.3695580\ttotal: 1.05s\tremaining: 1s\n",
      "512:\tlearn: 0.3695140\ttotal: 1.06s\tremaining: 1s\n",
      "513:\tlearn: 0.3694954\ttotal: 1.06s\tremaining: 1s\n",
      "514:\tlearn: 0.3694457\ttotal: 1.06s\tremaining: 999ms\n",
      "515:\tlearn: 0.3694158\ttotal: 1.06s\tremaining: 997ms\n",
      "516:\tlearn: 0.3693722\ttotal: 1.06s\tremaining: 994ms\n",
      "517:\tlearn: 0.3693463\ttotal: 1.07s\tremaining: 992ms\n",
      "518:\tlearn: 0.3693005\ttotal: 1.07s\tremaining: 990ms\n",
      "519:\tlearn: 0.3692678\ttotal: 1.07s\tremaining: 989ms\n",
      "520:\tlearn: 0.3691716\ttotal: 1.07s\tremaining: 986ms\n",
      "521:\tlearn: 0.3691283\ttotal: 1.07s\tremaining: 985ms\n",
      "522:\tlearn: 0.3690916\ttotal: 1.08s\tremaining: 983ms\n",
      "523:\tlearn: 0.3690416\ttotal: 1.08s\tremaining: 981ms\n",
      "524:\tlearn: 0.3690093\ttotal: 1.08s\tremaining: 978ms\n",
      "525:\tlearn: 0.3689642\ttotal: 1.08s\tremaining: 976ms\n",
      "526:\tlearn: 0.3689174\ttotal: 1.08s\tremaining: 974ms\n",
      "527:\tlearn: 0.3688709\ttotal: 1.09s\tremaining: 971ms\n",
      "528:\tlearn: 0.3688410\ttotal: 1.09s\tremaining: 969ms\n",
      "529:\tlearn: 0.3687783\ttotal: 1.09s\tremaining: 967ms\n",
      "530:\tlearn: 0.3687470\ttotal: 1.09s\tremaining: 965ms\n",
      "531:\tlearn: 0.3687200\ttotal: 1.09s\tremaining: 962ms\n",
      "532:\tlearn: 0.3686540\ttotal: 1.09s\tremaining: 960ms\n",
      "533:\tlearn: 0.3686224\ttotal: 1.1s\tremaining: 958ms\n",
      "534:\tlearn: 0.3685736\ttotal: 1.1s\tremaining: 956ms\n",
      "535:\tlearn: 0.3685576\ttotal: 1.1s\tremaining: 953ms\n",
      "536:\tlearn: 0.3685070\ttotal: 1.1s\tremaining: 951ms\n",
      "537:\tlearn: 0.3684652\ttotal: 1.1s\tremaining: 949ms\n",
      "538:\tlearn: 0.3684178\ttotal: 1.11s\tremaining: 947ms\n",
      "539:\tlearn: 0.3683548\ttotal: 1.11s\tremaining: 944ms\n",
      "540:\tlearn: 0.3683222\ttotal: 1.11s\tremaining: 942ms\n",
      "541:\tlearn: 0.3682965\ttotal: 1.11s\tremaining: 940ms\n",
      "542:\tlearn: 0.3682493\ttotal: 1.11s\tremaining: 938ms\n",
      "543:\tlearn: 0.3682268\ttotal: 1.12s\tremaining: 936ms\n",
      "544:\tlearn: 0.3682057\ttotal: 1.12s\tremaining: 933ms\n",
      "545:\tlearn: 0.3681167\ttotal: 1.12s\tremaining: 931ms\n",
      "546:\tlearn: 0.3680762\ttotal: 1.12s\tremaining: 929ms\n",
      "547:\tlearn: 0.3680272\ttotal: 1.12s\tremaining: 927ms\n",
      "548:\tlearn: 0.3680124\ttotal: 1.13s\tremaining: 925ms\n",
      "549:\tlearn: 0.3679657\ttotal: 1.13s\tremaining: 923ms\n",
      "550:\tlearn: 0.3679420\ttotal: 1.13s\tremaining: 920ms\n",
      "551:\tlearn: 0.3679122\ttotal: 1.13s\tremaining: 918ms\n",
      "552:\tlearn: 0.3678520\ttotal: 1.13s\tremaining: 916ms\n",
      "553:\tlearn: 0.3677973\ttotal: 1.14s\tremaining: 914ms\n"
     ]
    },
    {
     "name": "stdout",
     "output_type": "stream",
     "text": [
      "554:\tlearn: 0.3677431\ttotal: 1.14s\tremaining: 912ms\n",
      "555:\tlearn: 0.3677100\ttotal: 1.14s\tremaining: 910ms\n",
      "556:\tlearn: 0.3676139\ttotal: 1.14s\tremaining: 908ms\n",
      "557:\tlearn: 0.3674904\ttotal: 1.14s\tremaining: 906ms\n",
      "558:\tlearn: 0.3674540\ttotal: 1.15s\tremaining: 904ms\n",
      "559:\tlearn: 0.3674133\ttotal: 1.15s\tremaining: 901ms\n",
      "560:\tlearn: 0.3673775\ttotal: 1.15s\tremaining: 899ms\n",
      "561:\tlearn: 0.3673266\ttotal: 1.15s\tremaining: 897ms\n",
      "562:\tlearn: 0.3672988\ttotal: 1.15s\tremaining: 895ms\n",
      "563:\tlearn: 0.3672545\ttotal: 1.15s\tremaining: 893ms\n",
      "564:\tlearn: 0.3672197\ttotal: 1.16s\tremaining: 890ms\n",
      "565:\tlearn: 0.3671305\ttotal: 1.16s\tremaining: 888ms\n",
      "566:\tlearn: 0.3670823\ttotal: 1.16s\tremaining: 886ms\n",
      "567:\tlearn: 0.3670254\ttotal: 1.16s\tremaining: 885ms\n",
      "568:\tlearn: 0.3669669\ttotal: 1.17s\tremaining: 883ms\n",
      "569:\tlearn: 0.3669221\ttotal: 1.17s\tremaining: 881ms\n",
      "570:\tlearn: 0.3668486\ttotal: 1.17s\tremaining: 878ms\n",
      "571:\tlearn: 0.3667644\ttotal: 1.17s\tremaining: 876ms\n",
      "572:\tlearn: 0.3667141\ttotal: 1.17s\tremaining: 874ms\n",
      "573:\tlearn: 0.3666761\ttotal: 1.18s\tremaining: 872ms\n",
      "574:\tlearn: 0.3666425\ttotal: 1.18s\tremaining: 870ms\n",
      "575:\tlearn: 0.3665849\ttotal: 1.18s\tremaining: 869ms\n",
      "576:\tlearn: 0.3664643\ttotal: 1.18s\tremaining: 867ms\n",
      "577:\tlearn: 0.3664218\ttotal: 1.18s\tremaining: 865ms\n",
      "578:\tlearn: 0.3663535\ttotal: 1.19s\tremaining: 862ms\n",
      "579:\tlearn: 0.3662834\ttotal: 1.19s\tremaining: 860ms\n",
      "580:\tlearn: 0.3662164\ttotal: 1.19s\tremaining: 858ms\n",
      "581:\tlearn: 0.3661480\ttotal: 1.19s\tremaining: 856ms\n",
      "582:\tlearn: 0.3661328\ttotal: 1.2s\tremaining: 855ms\n",
      "583:\tlearn: 0.3660944\ttotal: 1.2s\tremaining: 853ms\n",
      "584:\tlearn: 0.3660466\ttotal: 1.2s\tremaining: 851ms\n",
      "585:\tlearn: 0.3660107\ttotal: 1.2s\tremaining: 849ms\n",
      "586:\tlearn: 0.3659216\ttotal: 1.2s\tremaining: 847ms\n",
      "587:\tlearn: 0.3658811\ttotal: 1.21s\tremaining: 845ms\n",
      "588:\tlearn: 0.3658051\ttotal: 1.21s\tremaining: 843ms\n",
      "589:\tlearn: 0.3657547\ttotal: 1.21s\tremaining: 840ms\n",
      "590:\tlearn: 0.3657002\ttotal: 1.21s\tremaining: 838ms\n",
      "591:\tlearn: 0.3656570\ttotal: 1.21s\tremaining: 836ms\n",
      "592:\tlearn: 0.3656064\ttotal: 1.21s\tremaining: 834ms\n",
      "593:\tlearn: 0.3654955\ttotal: 1.22s\tremaining: 832ms\n",
      "594:\tlearn: 0.3654104\ttotal: 1.22s\tremaining: 829ms\n",
      "595:\tlearn: 0.3653584\ttotal: 1.22s\tremaining: 827ms\n",
      "596:\tlearn: 0.3653222\ttotal: 1.22s\tremaining: 825ms\n",
      "597:\tlearn: 0.3652660\ttotal: 1.22s\tremaining: 823ms\n",
      "598:\tlearn: 0.3652289\ttotal: 1.23s\tremaining: 820ms\n",
      "599:\tlearn: 0.3651808\ttotal: 1.23s\tremaining: 818ms\n",
      "600:\tlearn: 0.3651348\ttotal: 1.23s\tremaining: 816ms\n",
      "601:\tlearn: 0.3650617\ttotal: 1.23s\tremaining: 814ms\n",
      "602:\tlearn: 0.3649686\ttotal: 1.23s\tremaining: 811ms\n",
      "603:\tlearn: 0.3648945\ttotal: 1.23s\tremaining: 809ms\n",
      "604:\tlearn: 0.3648170\ttotal: 1.24s\tremaining: 807ms\n",
      "605:\tlearn: 0.3647784\ttotal: 1.24s\tremaining: 805ms\n",
      "606:\tlearn: 0.3646939\ttotal: 1.24s\tremaining: 803ms\n",
      "607:\tlearn: 0.3646282\ttotal: 1.24s\tremaining: 800ms\n",
      "608:\tlearn: 0.3645397\ttotal: 1.24s\tremaining: 798ms\n",
      "609:\tlearn: 0.3644570\ttotal: 1.25s\tremaining: 796ms\n",
      "610:\tlearn: 0.3644008\ttotal: 1.25s\tremaining: 794ms\n",
      "611:\tlearn: 0.3643118\ttotal: 1.25s\tremaining: 792ms\n",
      "612:\tlearn: 0.3642535\ttotal: 1.25s\tremaining: 789ms\n",
      "613:\tlearn: 0.3641971\ttotal: 1.25s\tremaining: 787ms\n",
      "614:\tlearn: 0.3641429\ttotal: 1.25s\tremaining: 785ms\n",
      "615:\tlearn: 0.3640480\ttotal: 1.25s\tremaining: 783ms\n",
      "616:\tlearn: 0.3639651\ttotal: 1.26s\tremaining: 781ms\n",
      "617:\tlearn: 0.3638903\ttotal: 1.26s\tremaining: 778ms\n",
      "618:\tlearn: 0.3638014\ttotal: 1.26s\tremaining: 776ms\n",
      "619:\tlearn: 0.3637571\ttotal: 1.26s\tremaining: 774ms\n",
      "620:\tlearn: 0.3636990\ttotal: 1.26s\tremaining: 772ms\n",
      "621:\tlearn: 0.3636240\ttotal: 1.27s\tremaining: 770ms\n",
      "622:\tlearn: 0.3635572\ttotal: 1.27s\tremaining: 767ms\n",
      "623:\tlearn: 0.3634705\ttotal: 1.27s\tremaining: 765ms\n",
      "624:\tlearn: 0.3634068\ttotal: 1.27s\tremaining: 763ms\n",
      "625:\tlearn: 0.3633351\ttotal: 1.27s\tremaining: 761ms\n",
      "626:\tlearn: 0.3632310\ttotal: 1.27s\tremaining: 759ms\n",
      "627:\tlearn: 0.3631407\ttotal: 1.28s\tremaining: 756ms\n",
      "628:\tlearn: 0.3630965\ttotal: 1.28s\tremaining: 754ms\n",
      "629:\tlearn: 0.3630322\ttotal: 1.28s\tremaining: 752ms\n",
      "630:\tlearn: 0.3629803\ttotal: 1.28s\tremaining: 750ms\n",
      "631:\tlearn: 0.3629252\ttotal: 1.28s\tremaining: 748ms\n",
      "632:\tlearn: 0.3628688\ttotal: 1.28s\tremaining: 745ms\n",
      "633:\tlearn: 0.3628141\ttotal: 1.29s\tremaining: 743ms\n",
      "634:\tlearn: 0.3627530\ttotal: 1.29s\tremaining: 741ms\n",
      "635:\tlearn: 0.3626746\ttotal: 1.29s\tremaining: 739ms\n",
      "636:\tlearn: 0.3626152\ttotal: 1.29s\tremaining: 737ms\n",
      "637:\tlearn: 0.3625520\ttotal: 1.29s\tremaining: 734ms\n",
      "638:\tlearn: 0.3624998\ttotal: 1.3s\tremaining: 732ms\n",
      "639:\tlearn: 0.3624365\ttotal: 1.3s\tremaining: 730ms\n",
      "640:\tlearn: 0.3623336\ttotal: 1.3s\tremaining: 728ms\n",
      "641:\tlearn: 0.3622567\ttotal: 1.3s\tremaining: 726ms\n",
      "642:\tlearn: 0.3621771\ttotal: 1.3s\tremaining: 723ms\n",
      "643:\tlearn: 0.3621198\ttotal: 1.3s\tremaining: 721ms\n",
      "644:\tlearn: 0.3620647\ttotal: 1.31s\tremaining: 719ms\n",
      "645:\tlearn: 0.3620168\ttotal: 1.31s\tremaining: 717ms\n",
      "646:\tlearn: 0.3619494\ttotal: 1.31s\tremaining: 715ms\n",
      "647:\tlearn: 0.3618556\ttotal: 1.31s\tremaining: 713ms\n",
      "648:\tlearn: 0.3617986\ttotal: 1.31s\tremaining: 710ms\n",
      "649:\tlearn: 0.3617201\ttotal: 1.31s\tremaining: 708ms\n",
      "650:\tlearn: 0.3616784\ttotal: 1.32s\tremaining: 706ms\n",
      "651:\tlearn: 0.3616156\ttotal: 1.32s\tremaining: 704ms\n",
      "652:\tlearn: 0.3615478\ttotal: 1.32s\tremaining: 702ms\n",
      "653:\tlearn: 0.3614671\ttotal: 1.32s\tremaining: 700ms\n",
      "654:\tlearn: 0.3613598\ttotal: 1.32s\tremaining: 698ms\n",
      "655:\tlearn: 0.3612828\ttotal: 1.33s\tremaining: 697ms\n",
      "656:\tlearn: 0.3612241\ttotal: 1.33s\tremaining: 695ms\n",
      "657:\tlearn: 0.3611297\ttotal: 1.33s\tremaining: 693ms\n",
      "658:\tlearn: 0.3611010\ttotal: 1.33s\tremaining: 691ms\n",
      "659:\tlearn: 0.3610252\ttotal: 1.34s\tremaining: 689ms\n",
      "660:\tlearn: 0.3609913\ttotal: 1.34s\tremaining: 686ms\n",
      "661:\tlearn: 0.3609414\ttotal: 1.34s\tremaining: 684ms\n",
      "662:\tlearn: 0.3608734\ttotal: 1.34s\tremaining: 682ms\n",
      "663:\tlearn: 0.3608335\ttotal: 1.34s\tremaining: 680ms\n",
      "664:\tlearn: 0.3607695\ttotal: 1.34s\tremaining: 678ms\n",
      "665:\tlearn: 0.3607112\ttotal: 1.35s\tremaining: 676ms\n",
      "666:\tlearn: 0.3606177\ttotal: 1.35s\tremaining: 674ms\n",
      "667:\tlearn: 0.3605312\ttotal: 1.35s\tremaining: 672ms\n",
      "668:\tlearn: 0.3604822\ttotal: 1.35s\tremaining: 670ms\n",
      "669:\tlearn: 0.3604305\ttotal: 1.36s\tremaining: 668ms\n",
      "670:\tlearn: 0.3603573\ttotal: 1.36s\tremaining: 666ms\n",
      "671:\tlearn: 0.3602888\ttotal: 1.36s\tremaining: 664ms\n",
      "672:\tlearn: 0.3602398\ttotal: 1.36s\tremaining: 662ms\n",
      "673:\tlearn: 0.3601832\ttotal: 1.36s\tremaining: 659ms\n",
      "674:\tlearn: 0.3601265\ttotal: 1.36s\tremaining: 657ms\n",
      "675:\tlearn: 0.3600552\ttotal: 1.37s\tremaining: 655ms\n",
      "676:\tlearn: 0.3600078\ttotal: 1.37s\tremaining: 653ms\n",
      "677:\tlearn: 0.3599529\ttotal: 1.37s\tremaining: 651ms\n",
      "678:\tlearn: 0.3599065\ttotal: 1.37s\tremaining: 649ms\n",
      "679:\tlearn: 0.3597999\ttotal: 1.37s\tremaining: 647ms\n",
      "680:\tlearn: 0.3597406\ttotal: 1.38s\tremaining: 644ms\n",
      "681:\tlearn: 0.3596791\ttotal: 1.38s\tremaining: 642ms\n",
      "682:\tlearn: 0.3596353\ttotal: 1.38s\tremaining: 640ms\n",
      "683:\tlearn: 0.3595691\ttotal: 1.38s\tremaining: 638ms\n",
      "684:\tlearn: 0.3595200\ttotal: 1.38s\tremaining: 636ms\n",
      "685:\tlearn: 0.3594520\ttotal: 1.38s\tremaining: 634ms\n",
      "686:\tlearn: 0.3593789\ttotal: 1.39s\tremaining: 632ms\n",
      "687:\tlearn: 0.3592905\ttotal: 1.39s\tremaining: 630ms\n",
      "688:\tlearn: 0.3591983\ttotal: 1.39s\tremaining: 627ms\n",
      "689:\tlearn: 0.3591752\ttotal: 1.39s\tremaining: 625ms\n",
      "690:\tlearn: 0.3590869\ttotal: 1.39s\tremaining: 623ms\n",
      "691:\tlearn: 0.3590267\ttotal: 1.4s\tremaining: 621ms\n",
      "692:\tlearn: 0.3590022\ttotal: 1.4s\tremaining: 619ms\n",
      "693:\tlearn: 0.3589150\ttotal: 1.4s\tremaining: 617ms\n",
      "694:\tlearn: 0.3588742\ttotal: 1.4s\tremaining: 615ms\n",
      "695:\tlearn: 0.3588322\ttotal: 1.4s\tremaining: 613ms\n",
      "696:\tlearn: 0.3587454\ttotal: 1.4s\tremaining: 610ms\n",
      "697:\tlearn: 0.3586609\ttotal: 1.41s\tremaining: 608ms\n",
      "698:\tlearn: 0.3586428\ttotal: 1.41s\tremaining: 606ms\n",
      "699:\tlearn: 0.3585933\ttotal: 1.41s\tremaining: 604ms\n",
      "700:\tlearn: 0.3585359\ttotal: 1.41s\tremaining: 602ms\n",
      "701:\tlearn: 0.3584873\ttotal: 1.41s\tremaining: 600ms\n",
      "702:\tlearn: 0.3584194\ttotal: 1.41s\tremaining: 598ms\n",
      "703:\tlearn: 0.3583532\ttotal: 1.42s\tremaining: 596ms\n",
      "704:\tlearn: 0.3582980\ttotal: 1.42s\tremaining: 594ms\n",
      "705:\tlearn: 0.3582342\ttotal: 1.42s\tremaining: 591ms\n",
      "706:\tlearn: 0.3581798\ttotal: 1.42s\tremaining: 589ms\n",
      "707:\tlearn: 0.3581139\ttotal: 1.42s\tremaining: 587ms\n",
      "708:\tlearn: 0.3580500\ttotal: 1.43s\tremaining: 585ms\n",
      "709:\tlearn: 0.3580163\ttotal: 1.43s\tremaining: 583ms\n",
      "710:\tlearn: 0.3579551\ttotal: 1.43s\tremaining: 581ms\n",
      "711:\tlearn: 0.3578833\ttotal: 1.43s\tremaining: 579ms\n",
      "712:\tlearn: 0.3578201\ttotal: 1.43s\tremaining: 577ms\n",
      "713:\tlearn: 0.3577598\ttotal: 1.43s\tremaining: 575ms\n",
      "714:\tlearn: 0.3576953\ttotal: 1.44s\tremaining: 573ms\n",
      "715:\tlearn: 0.3576067\ttotal: 1.44s\tremaining: 571ms\n",
      "716:\tlearn: 0.3575307\ttotal: 1.44s\tremaining: 568ms\n",
      "717:\tlearn: 0.3574809\ttotal: 1.44s\tremaining: 566ms\n",
      "718:\tlearn: 0.3574396\ttotal: 1.44s\tremaining: 564ms\n",
      "719:\tlearn: 0.3573788\ttotal: 1.45s\tremaining: 562ms\n",
      "720:\tlearn: 0.3572938\ttotal: 1.45s\tremaining: 560ms\n",
      "721:\tlearn: 0.3572604\ttotal: 1.45s\tremaining: 558ms\n",
      "722:\tlearn: 0.3571924\ttotal: 1.45s\tremaining: 556ms\n",
      "723:\tlearn: 0.3571353\ttotal: 1.45s\tremaining: 554ms\n",
      "724:\tlearn: 0.3570884\ttotal: 1.45s\tremaining: 552ms\n",
      "725:\tlearn: 0.3570506\ttotal: 1.46s\tremaining: 550ms\n",
      "726:\tlearn: 0.3569889\ttotal: 1.46s\tremaining: 547ms\n",
      "727:\tlearn: 0.3569412\ttotal: 1.46s\tremaining: 545ms\n",
      "728:\tlearn: 0.3568546\ttotal: 1.46s\tremaining: 543ms\n",
      "729:\tlearn: 0.3568067\ttotal: 1.46s\tremaining: 541ms\n",
      "730:\tlearn: 0.3567442\ttotal: 1.46s\tremaining: 539ms\n",
      "731:\tlearn: 0.3566964\ttotal: 1.47s\tremaining: 537ms\n",
      "732:\tlearn: 0.3565691\ttotal: 1.47s\tremaining: 535ms\n",
      "733:\tlearn: 0.3565114\ttotal: 1.47s\tremaining: 533ms\n",
      "734:\tlearn: 0.3564788\ttotal: 1.47s\tremaining: 531ms\n",
      "735:\tlearn: 0.3564265\ttotal: 1.47s\tremaining: 529ms\n",
      "736:\tlearn: 0.3563357\ttotal: 1.48s\tremaining: 527ms\n",
      "737:\tlearn: 0.3562610\ttotal: 1.48s\tremaining: 525ms\n",
      "738:\tlearn: 0.3562136\ttotal: 1.48s\tremaining: 522ms\n",
      "739:\tlearn: 0.3561393\ttotal: 1.48s\tremaining: 520ms\n",
      "740:\tlearn: 0.3560848\ttotal: 1.48s\tremaining: 518ms\n",
      "741:\tlearn: 0.3560102\ttotal: 1.48s\tremaining: 516ms\n",
      "742:\tlearn: 0.3559108\ttotal: 1.49s\tremaining: 514ms\n",
      "743:\tlearn: 0.3558419\ttotal: 1.49s\tremaining: 512ms\n",
      "744:\tlearn: 0.3558065\ttotal: 1.49s\tremaining: 510ms\n",
      "745:\tlearn: 0.3557300\ttotal: 1.49s\tremaining: 508ms\n",
      "746:\tlearn: 0.3557087\ttotal: 1.49s\tremaining: 506ms\n",
      "747:\tlearn: 0.3556721\ttotal: 1.5s\tremaining: 504ms\n",
      "748:\tlearn: 0.3556271\ttotal: 1.5s\tremaining: 502ms\n",
      "749:\tlearn: 0.3555702\ttotal: 1.5s\tremaining: 500ms\n",
      "750:\tlearn: 0.3554728\ttotal: 1.5s\tremaining: 498ms\n",
      "751:\tlearn: 0.3554059\ttotal: 1.5s\tremaining: 495ms\n",
      "752:\tlearn: 0.3553524\ttotal: 1.5s\tremaining: 493ms\n",
      "753:\tlearn: 0.3553195\ttotal: 1.5s\tremaining: 491ms\n",
      "754:\tlearn: 0.3552792\ttotal: 1.51s\tremaining: 489ms\n",
      "755:\tlearn: 0.3552043\ttotal: 1.51s\tremaining: 487ms\n",
      "756:\tlearn: 0.3551375\ttotal: 1.51s\tremaining: 485ms\n",
      "757:\tlearn: 0.3550839\ttotal: 1.51s\tremaining: 483ms\n"
     ]
    },
    {
     "name": "stdout",
     "output_type": "stream",
     "text": [
      "758:\tlearn: 0.3550403\ttotal: 1.52s\tremaining: 481ms\n",
      "759:\tlearn: 0.3549887\ttotal: 1.52s\tremaining: 479ms\n",
      "760:\tlearn: 0.3549065\ttotal: 1.52s\tremaining: 477ms\n",
      "761:\tlearn: 0.3548036\ttotal: 1.52s\tremaining: 475ms\n",
      "762:\tlearn: 0.3547557\ttotal: 1.52s\tremaining: 473ms\n",
      "763:\tlearn: 0.3547140\ttotal: 1.52s\tremaining: 471ms\n",
      "764:\tlearn: 0.3546066\ttotal: 1.53s\tremaining: 469ms\n",
      "765:\tlearn: 0.3545217\ttotal: 1.53s\tremaining: 467ms\n",
      "766:\tlearn: 0.3544565\ttotal: 1.53s\tremaining: 465ms\n",
      "767:\tlearn: 0.3543623\ttotal: 1.53s\tremaining: 463ms\n",
      "768:\tlearn: 0.3543016\ttotal: 1.53s\tremaining: 461ms\n",
      "769:\tlearn: 0.3542347\ttotal: 1.54s\tremaining: 459ms\n",
      "770:\tlearn: 0.3541416\ttotal: 1.54s\tremaining: 457ms\n",
      "771:\tlearn: 0.3540698\ttotal: 1.54s\tremaining: 455ms\n",
      "772:\tlearn: 0.3540269\ttotal: 1.54s\tremaining: 453ms\n",
      "773:\tlearn: 0.3539866\ttotal: 1.54s\tremaining: 451ms\n",
      "774:\tlearn: 0.3539171\ttotal: 1.55s\tremaining: 449ms\n",
      "775:\tlearn: 0.3538424\ttotal: 1.55s\tremaining: 447ms\n",
      "776:\tlearn: 0.3537720\ttotal: 1.55s\tremaining: 445ms\n",
      "777:\tlearn: 0.3537234\ttotal: 1.55s\tremaining: 443ms\n",
      "778:\tlearn: 0.3535673\ttotal: 1.55s\tremaining: 441ms\n",
      "779:\tlearn: 0.3534994\ttotal: 1.56s\tremaining: 439ms\n",
      "780:\tlearn: 0.3534427\ttotal: 1.56s\tremaining: 437ms\n",
      "781:\tlearn: 0.3533747\ttotal: 1.56s\tremaining: 435ms\n",
      "782:\tlearn: 0.3533156\ttotal: 1.56s\tremaining: 433ms\n",
      "783:\tlearn: 0.3532621\ttotal: 1.56s\tremaining: 431ms\n",
      "784:\tlearn: 0.3532163\ttotal: 1.57s\tremaining: 429ms\n",
      "785:\tlearn: 0.3531660\ttotal: 1.57s\tremaining: 427ms\n",
      "786:\tlearn: 0.3531019\ttotal: 1.57s\tremaining: 425ms\n",
      "787:\tlearn: 0.3530569\ttotal: 1.57s\tremaining: 423ms\n",
      "788:\tlearn: 0.3529585\ttotal: 1.57s\tremaining: 421ms\n",
      "789:\tlearn: 0.3529444\ttotal: 1.57s\tremaining: 419ms\n",
      "790:\tlearn: 0.3529176\ttotal: 1.58s\tremaining: 417ms\n",
      "791:\tlearn: 0.3528238\ttotal: 1.58s\tremaining: 415ms\n",
      "792:\tlearn: 0.3527829\ttotal: 1.58s\tremaining: 413ms\n",
      "793:\tlearn: 0.3526694\ttotal: 1.58s\tremaining: 411ms\n",
      "794:\tlearn: 0.3526062\ttotal: 1.58s\tremaining: 409ms\n",
      "795:\tlearn: 0.3525684\ttotal: 1.59s\tremaining: 407ms\n",
      "796:\tlearn: 0.3525269\ttotal: 1.59s\tremaining: 405ms\n",
      "797:\tlearn: 0.3524480\ttotal: 1.59s\tremaining: 403ms\n",
      "798:\tlearn: 0.3524030\ttotal: 1.59s\tremaining: 400ms\n",
      "799:\tlearn: 0.3523554\ttotal: 1.59s\tremaining: 398ms\n",
      "800:\tlearn: 0.3522790\ttotal: 1.59s\tremaining: 396ms\n",
      "801:\tlearn: 0.3522295\ttotal: 1.6s\tremaining: 394ms\n",
      "802:\tlearn: 0.3521674\ttotal: 1.6s\tremaining: 392ms\n",
      "803:\tlearn: 0.3521154\ttotal: 1.6s\tremaining: 390ms\n",
      "804:\tlearn: 0.3520504\ttotal: 1.6s\tremaining: 388ms\n",
      "805:\tlearn: 0.3519881\ttotal: 1.6s\tremaining: 386ms\n",
      "806:\tlearn: 0.3519506\ttotal: 1.61s\tremaining: 384ms\n",
      "807:\tlearn: 0.3518889\ttotal: 1.61s\tremaining: 382ms\n",
      "808:\tlearn: 0.3518268\ttotal: 1.61s\tremaining: 380ms\n",
      "809:\tlearn: 0.3517163\ttotal: 1.61s\tremaining: 378ms\n",
      "810:\tlearn: 0.3516912\ttotal: 1.61s\tremaining: 376ms\n",
      "811:\tlearn: 0.3516536\ttotal: 1.62s\tremaining: 374ms\n",
      "812:\tlearn: 0.3516133\ttotal: 1.62s\tremaining: 372ms\n",
      "813:\tlearn: 0.3515834\ttotal: 1.62s\tremaining: 370ms\n",
      "814:\tlearn: 0.3515492\ttotal: 1.62s\tremaining: 368ms\n",
      "815:\tlearn: 0.3514607\ttotal: 1.62s\tremaining: 366ms\n",
      "816:\tlearn: 0.3513652\ttotal: 1.62s\tremaining: 364ms\n",
      "817:\tlearn: 0.3512789\ttotal: 1.63s\tremaining: 362ms\n",
      "818:\tlearn: 0.3512150\ttotal: 1.63s\tremaining: 360ms\n",
      "819:\tlearn: 0.3511695\ttotal: 1.63s\tremaining: 358ms\n",
      "820:\tlearn: 0.3511178\ttotal: 1.63s\tremaining: 356ms\n",
      "821:\tlearn: 0.3510569\ttotal: 1.63s\tremaining: 354ms\n",
      "822:\tlearn: 0.3509787\ttotal: 1.64s\tremaining: 352ms\n",
      "823:\tlearn: 0.3508642\ttotal: 1.64s\tremaining: 350ms\n",
      "824:\tlearn: 0.3508110\ttotal: 1.64s\tremaining: 348ms\n",
      "825:\tlearn: 0.3507622\ttotal: 1.64s\tremaining: 346ms\n",
      "826:\tlearn: 0.3506667\ttotal: 1.64s\tremaining: 344ms\n",
      "827:\tlearn: 0.3506271\ttotal: 1.65s\tremaining: 342ms\n",
      "828:\tlearn: 0.3505871\ttotal: 1.65s\tremaining: 340ms\n",
      "829:\tlearn: 0.3505299\ttotal: 1.65s\tremaining: 338ms\n",
      "830:\tlearn: 0.3504827\ttotal: 1.65s\tremaining: 336ms\n",
      "831:\tlearn: 0.3504389\ttotal: 1.65s\tremaining: 334ms\n",
      "832:\tlearn: 0.3503805\ttotal: 1.66s\tremaining: 332ms\n",
      "833:\tlearn: 0.3503360\ttotal: 1.66s\tremaining: 330ms\n",
      "834:\tlearn: 0.3502786\ttotal: 1.66s\tremaining: 328ms\n",
      "835:\tlearn: 0.3502210\ttotal: 1.66s\tremaining: 326ms\n",
      "836:\tlearn: 0.3501694\ttotal: 1.66s\tremaining: 324ms\n",
      "837:\tlearn: 0.3500853\ttotal: 1.67s\tremaining: 322ms\n",
      "838:\tlearn: 0.3500284\ttotal: 1.67s\tremaining: 320ms\n",
      "839:\tlearn: 0.3500017\ttotal: 1.67s\tremaining: 318ms\n",
      "840:\tlearn: 0.3499637\ttotal: 1.67s\tremaining: 316ms\n",
      "841:\tlearn: 0.3498527\ttotal: 1.67s\tremaining: 314ms\n",
      "842:\tlearn: 0.3498164\ttotal: 1.68s\tremaining: 312ms\n",
      "843:\tlearn: 0.3496944\ttotal: 1.68s\tremaining: 310ms\n",
      "844:\tlearn: 0.3496389\ttotal: 1.68s\tremaining: 308ms\n",
      "845:\tlearn: 0.3496093\ttotal: 1.68s\tremaining: 306ms\n",
      "846:\tlearn: 0.3495203\ttotal: 1.68s\tremaining: 304ms\n",
      "847:\tlearn: 0.3494215\ttotal: 1.69s\tremaining: 302ms\n",
      "848:\tlearn: 0.3493591\ttotal: 1.69s\tremaining: 300ms\n",
      "849:\tlearn: 0.3493190\ttotal: 1.69s\tremaining: 298ms\n",
      "850:\tlearn: 0.3492729\ttotal: 1.69s\tremaining: 296ms\n",
      "851:\tlearn: 0.3492253\ttotal: 1.69s\tremaining: 294ms\n",
      "852:\tlearn: 0.3491723\ttotal: 1.7s\tremaining: 292ms\n",
      "853:\tlearn: 0.3491293\ttotal: 1.7s\tremaining: 290ms\n",
      "854:\tlearn: 0.3490162\ttotal: 1.7s\tremaining: 288ms\n",
      "855:\tlearn: 0.3489706\ttotal: 1.7s\tremaining: 287ms\n",
      "856:\tlearn: 0.3489384\ttotal: 1.71s\tremaining: 285ms\n",
      "857:\tlearn: 0.3489101\ttotal: 1.71s\tremaining: 283ms\n",
      "858:\tlearn: 0.3488201\ttotal: 1.71s\tremaining: 281ms\n",
      "859:\tlearn: 0.3487552\ttotal: 1.71s\tremaining: 279ms\n",
      "860:\tlearn: 0.3487244\ttotal: 1.71s\tremaining: 277ms\n",
      "861:\tlearn: 0.3486762\ttotal: 1.72s\tremaining: 275ms\n",
      "862:\tlearn: 0.3486281\ttotal: 1.72s\tremaining: 273ms\n",
      "863:\tlearn: 0.3485963\ttotal: 1.72s\tremaining: 271ms\n",
      "864:\tlearn: 0.3485269\ttotal: 1.72s\tremaining: 269ms\n",
      "865:\tlearn: 0.3484894\ttotal: 1.72s\tremaining: 267ms\n",
      "866:\tlearn: 0.3484437\ttotal: 1.73s\tremaining: 265ms\n",
      "867:\tlearn: 0.3483930\ttotal: 1.73s\tremaining: 263ms\n",
      "868:\tlearn: 0.3483615\ttotal: 1.73s\tremaining: 261ms\n",
      "869:\tlearn: 0.3482779\ttotal: 1.73s\tremaining: 259ms\n",
      "870:\tlearn: 0.3482408\ttotal: 1.73s\tremaining: 257ms\n",
      "871:\tlearn: 0.3482001\ttotal: 1.73s\tremaining: 255ms\n",
      "872:\tlearn: 0.3481452\ttotal: 1.74s\tremaining: 253ms\n",
      "873:\tlearn: 0.3480464\ttotal: 1.74s\tremaining: 251ms\n",
      "874:\tlearn: 0.3479498\ttotal: 1.74s\tremaining: 249ms\n",
      "875:\tlearn: 0.3479106\ttotal: 1.75s\tremaining: 247ms\n",
      "876:\tlearn: 0.3478005\ttotal: 1.75s\tremaining: 245ms\n",
      "877:\tlearn: 0.3477499\ttotal: 1.75s\tremaining: 243ms\n",
      "878:\tlearn: 0.3476861\ttotal: 1.75s\tremaining: 241ms\n",
      "879:\tlearn: 0.3475696\ttotal: 1.75s\tremaining: 239ms\n",
      "880:\tlearn: 0.3474786\ttotal: 1.75s\tremaining: 237ms\n",
      "881:\tlearn: 0.3474376\ttotal: 1.76s\tremaining: 235ms\n",
      "882:\tlearn: 0.3473759\ttotal: 1.76s\tremaining: 233ms\n",
      "883:\tlearn: 0.3473247\ttotal: 1.76s\tremaining: 231ms\n",
      "884:\tlearn: 0.3472844\ttotal: 1.76s\tremaining: 229ms\n",
      "885:\tlearn: 0.3471680\ttotal: 1.76s\tremaining: 227ms\n",
      "886:\tlearn: 0.3471441\ttotal: 1.77s\tremaining: 225ms\n",
      "887:\tlearn: 0.3471204\ttotal: 1.77s\tremaining: 223ms\n",
      "888:\tlearn: 0.3470979\ttotal: 1.77s\tremaining: 221ms\n",
      "889:\tlearn: 0.3470802\ttotal: 1.77s\tremaining: 219ms\n",
      "890:\tlearn: 0.3470393\ttotal: 1.77s\tremaining: 217ms\n",
      "891:\tlearn: 0.3470136\ttotal: 1.77s\tremaining: 215ms\n",
      "892:\tlearn: 0.3469760\ttotal: 1.78s\tremaining: 213ms\n",
      "893:\tlearn: 0.3469161\ttotal: 1.78s\tremaining: 211ms\n",
      "894:\tlearn: 0.3468736\ttotal: 1.78s\tremaining: 209ms\n",
      "895:\tlearn: 0.3467828\ttotal: 1.78s\tremaining: 207ms\n",
      "896:\tlearn: 0.3467586\ttotal: 1.78s\tremaining: 205ms\n",
      "897:\tlearn: 0.3466710\ttotal: 1.79s\tremaining: 203ms\n",
      "898:\tlearn: 0.3465815\ttotal: 1.79s\tremaining: 201ms\n",
      "899:\tlearn: 0.3465539\ttotal: 1.79s\tremaining: 199ms\n",
      "900:\tlearn: 0.3465247\ttotal: 1.79s\tremaining: 197ms\n",
      "901:\tlearn: 0.3464601\ttotal: 1.79s\tremaining: 195ms\n",
      "902:\tlearn: 0.3463718\ttotal: 1.79s\tremaining: 193ms\n",
      "903:\tlearn: 0.3462763\ttotal: 1.8s\tremaining: 191ms\n",
      "904:\tlearn: 0.3462406\ttotal: 1.8s\tremaining: 189ms\n",
      "905:\tlearn: 0.3461842\ttotal: 1.8s\tremaining: 187ms\n",
      "906:\tlearn: 0.3461440\ttotal: 1.8s\tremaining: 185ms\n",
      "907:\tlearn: 0.3461139\ttotal: 1.8s\tremaining: 183ms\n",
      "908:\tlearn: 0.3460679\ttotal: 1.81s\tremaining: 181ms\n",
      "909:\tlearn: 0.3460552\ttotal: 1.81s\tremaining: 179ms\n",
      "910:\tlearn: 0.3460160\ttotal: 1.81s\tremaining: 177ms\n",
      "911:\tlearn: 0.3459301\ttotal: 1.81s\tremaining: 175ms\n",
      "912:\tlearn: 0.3458317\ttotal: 1.81s\tremaining: 173ms\n",
      "913:\tlearn: 0.3457837\ttotal: 1.81s\tremaining: 171ms\n",
      "914:\tlearn: 0.3456997\ttotal: 1.82s\tremaining: 169ms\n",
      "915:\tlearn: 0.3456161\ttotal: 1.82s\tremaining: 167ms\n",
      "916:\tlearn: 0.3455296\ttotal: 1.82s\tremaining: 165ms\n",
      "917:\tlearn: 0.3455132\ttotal: 1.82s\tremaining: 163ms\n",
      "918:\tlearn: 0.3454864\ttotal: 1.82s\tremaining: 161ms\n",
      "919:\tlearn: 0.3454293\ttotal: 1.82s\tremaining: 159ms\n",
      "920:\tlearn: 0.3453374\ttotal: 1.83s\tremaining: 157ms\n",
      "921:\tlearn: 0.3453030\ttotal: 1.83s\tremaining: 155ms\n",
      "922:\tlearn: 0.3452104\ttotal: 1.83s\tremaining: 153ms\n",
      "923:\tlearn: 0.3451657\ttotal: 1.83s\tremaining: 151ms\n",
      "924:\tlearn: 0.3450678\ttotal: 1.83s\tremaining: 149ms\n",
      "925:\tlearn: 0.3450118\ttotal: 1.84s\tremaining: 147ms\n",
      "926:\tlearn: 0.3449075\ttotal: 1.84s\tremaining: 145ms\n",
      "927:\tlearn: 0.3448805\ttotal: 1.84s\tremaining: 143ms\n",
      "928:\tlearn: 0.3448356\ttotal: 1.84s\tremaining: 141ms\n",
      "929:\tlearn: 0.3447909\ttotal: 1.84s\tremaining: 139ms\n",
      "930:\tlearn: 0.3447469\ttotal: 1.84s\tremaining: 137ms\n",
      "931:\tlearn: 0.3446871\ttotal: 1.85s\tremaining: 135ms\n",
      "932:\tlearn: 0.3446140\ttotal: 1.85s\tremaining: 133ms\n",
      "933:\tlearn: 0.3445885\ttotal: 1.85s\tremaining: 131ms\n",
      "934:\tlearn: 0.3445506\ttotal: 1.85s\tremaining: 129ms\n",
      "935:\tlearn: 0.3445281\ttotal: 1.85s\tremaining: 127ms\n",
      "936:\tlearn: 0.3444553\ttotal: 1.85s\tremaining: 125ms\n",
      "937:\tlearn: 0.3443589\ttotal: 1.86s\tremaining: 123ms\n",
      "938:\tlearn: 0.3442441\ttotal: 1.86s\tremaining: 121ms\n",
      "939:\tlearn: 0.3441935\ttotal: 1.86s\tremaining: 119ms\n",
      "940:\tlearn: 0.3441471\ttotal: 1.87s\tremaining: 117ms\n",
      "941:\tlearn: 0.3440282\ttotal: 1.87s\tremaining: 115ms\n",
      "942:\tlearn: 0.3439948\ttotal: 1.87s\tremaining: 113ms\n",
      "943:\tlearn: 0.3439005\ttotal: 1.87s\tremaining: 111ms\n",
      "944:\tlearn: 0.3438221\ttotal: 1.87s\tremaining: 109ms\n",
      "945:\tlearn: 0.3437424\ttotal: 1.88s\tremaining: 107ms\n",
      "946:\tlearn: 0.3437272\ttotal: 1.88s\tremaining: 105ms\n",
      "947:\tlearn: 0.3436932\ttotal: 1.88s\tremaining: 103ms\n",
      "948:\tlearn: 0.3436036\ttotal: 1.88s\tremaining: 101ms\n",
      "949:\tlearn: 0.3435573\ttotal: 1.88s\tremaining: 99.1ms\n",
      "950:\tlearn: 0.3435205\ttotal: 1.88s\tremaining: 97.1ms\n",
      "951:\tlearn: 0.3434839\ttotal: 1.89s\tremaining: 95.1ms\n",
      "952:\tlearn: 0.3433779\ttotal: 1.89s\tremaining: 93.1ms\n"
     ]
    },
    {
     "name": "stdout",
     "output_type": "stream",
     "text": [
      "953:\tlearn: 0.3433422\ttotal: 1.89s\tremaining: 91.3ms\n",
      "954:\tlearn: 0.3432536\ttotal: 1.89s\tremaining: 89.3ms\n",
      "955:\tlearn: 0.3431701\ttotal: 1.9s\tremaining: 87.3ms\n",
      "956:\tlearn: 0.3430683\ttotal: 1.9s\tremaining: 85.3ms\n",
      "957:\tlearn: 0.3429937\ttotal: 1.9s\tremaining: 83.3ms\n",
      "958:\tlearn: 0.3429585\ttotal: 1.9s\tremaining: 81.3ms\n",
      "959:\tlearn: 0.3428827\ttotal: 1.9s\tremaining: 79.3ms\n",
      "960:\tlearn: 0.3427889\ttotal: 1.91s\tremaining: 77.3ms\n",
      "961:\tlearn: 0.3427138\ttotal: 1.91s\tremaining: 75.5ms\n",
      "962:\tlearn: 0.3426561\ttotal: 1.91s\tremaining: 73.5ms\n",
      "963:\tlearn: 0.3425872\ttotal: 1.91s\tremaining: 71.5ms\n",
      "964:\tlearn: 0.3425515\ttotal: 1.92s\tremaining: 69.5ms\n",
      "965:\tlearn: 0.3424624\ttotal: 1.92s\tremaining: 67.5ms\n",
      "966:\tlearn: 0.3424577\ttotal: 1.92s\tremaining: 65.5ms\n",
      "967:\tlearn: 0.3424302\ttotal: 1.93s\tremaining: 63.8ms\n",
      "968:\tlearn: 0.3423826\ttotal: 1.93s\tremaining: 61.8ms\n",
      "969:\tlearn: 0.3423536\ttotal: 1.93s\tremaining: 59.8ms\n",
      "970:\tlearn: 0.3423253\ttotal: 1.94s\tremaining: 57.9ms\n",
      "971:\tlearn: 0.3422670\ttotal: 1.94s\tremaining: 56ms\n",
      "972:\tlearn: 0.3422267\ttotal: 1.94s\tremaining: 54ms\n",
      "973:\tlearn: 0.3421927\ttotal: 1.95s\tremaining: 52ms\n",
      "974:\tlearn: 0.3421411\ttotal: 1.95s\tremaining: 50ms\n",
      "975:\tlearn: 0.3421096\ttotal: 1.95s\tremaining: 48ms\n",
      "976:\tlearn: 0.3420569\ttotal: 1.95s\tremaining: 46ms\n",
      "977:\tlearn: 0.3419944\ttotal: 1.95s\tremaining: 44ms\n",
      "978:\tlearn: 0.3419608\ttotal: 1.96s\tremaining: 41.9ms\n",
      "979:\tlearn: 0.3419332\ttotal: 1.96s\tremaining: 39.9ms\n",
      "980:\tlearn: 0.3418801\ttotal: 1.96s\tremaining: 37.9ms\n",
      "981:\tlearn: 0.3418389\ttotal: 1.96s\tremaining: 35.9ms\n",
      "982:\tlearn: 0.3417939\ttotal: 1.96s\tremaining: 33.9ms\n",
      "983:\tlearn: 0.3417655\ttotal: 1.96s\tremaining: 31.9ms\n",
      "984:\tlearn: 0.3417133\ttotal: 1.97s\tremaining: 29.9ms\n",
      "985:\tlearn: 0.3416877\ttotal: 1.97s\tremaining: 27.9ms\n",
      "986:\tlearn: 0.3416427\ttotal: 1.97s\tremaining: 25.9ms\n",
      "987:\tlearn: 0.3416084\ttotal: 1.97s\tremaining: 23.9ms\n",
      "988:\tlearn: 0.3415897\ttotal: 1.97s\tremaining: 21.9ms\n",
      "989:\tlearn: 0.3415150\ttotal: 1.98s\tremaining: 20ms\n",
      "990:\tlearn: 0.3414584\ttotal: 1.98s\tremaining: 18ms\n",
      "991:\tlearn: 0.3414074\ttotal: 1.98s\tremaining: 16ms\n",
      "992:\tlearn: 0.3413864\ttotal: 1.98s\tremaining: 14ms\n",
      "993:\tlearn: 0.3413462\ttotal: 1.98s\tremaining: 12ms\n",
      "994:\tlearn: 0.3413299\ttotal: 1.98s\tremaining: 9.97ms\n",
      "995:\tlearn: 0.3412455\ttotal: 1.99s\tremaining: 7.98ms\n",
      "996:\tlearn: 0.3411700\ttotal: 1.99s\tremaining: 5.98ms\n",
      "997:\tlearn: 0.3411364\ttotal: 1.99s\tremaining: 3.99ms\n",
      "998:\tlearn: 0.3411096\ttotal: 1.99s\tremaining: 1.99ms\n",
      "999:\tlearn: 0.3410738\ttotal: 1.99s\tremaining: 0us\n"
     ]
    },
    {
     "data": {
      "text/plain": [
       "<catboost.core.CatBoostClassifier at 0x7f68c63fb3d0>"
      ]
     },
     "execution_count": 74,
     "metadata": {},
     "output_type": "execute_result"
    }
   ],
   "source": [
    "from catboost import CatBoostClassifier\n",
    "classifier = CatBoostClassifier()\n",
    "classifier.fit(X_train, y_train)"
   ]
  },
  {
   "cell_type": "code",
   "execution_count": 75,
   "metadata": {},
   "outputs": [
    {
     "name": "stdout",
     "output_type": "stream",
     "text": [
      "[[378   7]\n",
      " [ 52   7]]\n"
     ]
    },
    {
     "data": {
      "text/plain": [
       "0.8671171171171171"
      ]
     },
     "execution_count": 75,
     "metadata": {},
     "output_type": "execute_result"
    }
   ],
   "source": [
    "y_pred = classifier.predict(X_test)\n",
    "cm = confusion_matrix(y_test, y_pred)\n",
    "print(cm)\n",
    "accuracy_score(y_test, y_pred)"
   ]
  },
  {
   "cell_type": "markdown",
   "metadata": {},
   "source": [
    "# XGboost"
   ]
  },
  {
   "cell_type": "code",
   "execution_count": 77,
   "metadata": {},
   "outputs": [
    {
     "name": "stdout",
     "output_type": "stream",
     "text": [
      "Collecting xgboost\n",
      "  Downloading xgboost-1.6.1-py3-none-manylinux2014_x86_64.whl (192.9 MB)\n",
      "\u001b[2K     \u001b[38;2;114;156;31m━━━━━━━━━━━━━━━━━━━━━━━━━━━━━━━━━━━━━\u001b[0m \u001b[32m192.9/192.9 MB\u001b[0m \u001b[31m283.6 kB/s\u001b[0m eta \u001b[36m0:00:00\u001b[0mm eta \u001b[36m0:00:01\u001b[0m[36m0:00:13\u001b[0m\n",
      "\u001b[?25hRequirement already satisfied: numpy in /home/ahmdsroor/anaconda3/lib/python3.7/site-packages (from xgboost) (1.21.6)\n",
      "Requirement already satisfied: scipy in /home/ahmdsroor/anaconda3/lib/python3.7/site-packages (from xgboost) (1.4.1)\n",
      "Installing collected packages: xgboost\n",
      "Successfully installed xgboost-1.6.1\n"
     ]
    }
   ],
   "source": [
    "!pip install xgboost"
   ]
  },
  {
   "cell_type": "code",
   "execution_count": 78,
   "metadata": {},
   "outputs": [
    {
     "data": {
      "text/plain": [
       "XGBClassifier(base_score=0.5, booster='gbtree', callbacks=None,\n",
       "              colsample_bylevel=1, colsample_bynode=1, colsample_bytree=1,\n",
       "              early_stopping_rounds=None, enable_categorical=False,\n",
       "              eval_metric=None, gamma=0, gpu_id=-1, grow_policy='depthwise',\n",
       "              importance_type=None, interaction_constraints='',\n",
       "              learning_rate=0.300000012, max_bin=256, max_cat_to_onehot=4,\n",
       "              max_delta_step=0, max_depth=6, max_leaves=0, min_child_weight=1,\n",
       "              missing=nan, monotone_constraints='()', n_estimators=100,\n",
       "              n_jobs=0, num_parallel_tree=1, objective='binary:logistic',\n",
       "              predictor='auto', random_state=0, reg_alpha=0, ...)"
      ]
     },
     "execution_count": 78,
     "metadata": {},
     "output_type": "execute_result"
    }
   ],
   "source": [
    "from xgboost import XGBClassifier\n",
    "classifier = XGBClassifier()\n",
    "classifier.fit(X_train, y_train)"
   ]
  },
  {
   "cell_type": "code",
   "execution_count": 79,
   "metadata": {},
   "outputs": [
    {
     "name": "stdout",
     "output_type": "stream",
     "text": [
      "[[367  18]\n",
      " [ 50   9]]\n"
     ]
    },
    {
     "data": {
      "text/plain": [
       "0.8468468468468469"
      ]
     },
     "execution_count": 79,
     "metadata": {},
     "output_type": "execute_result"
    }
   ],
   "source": [
    "y_pred = classifier.predict(X_test)\n",
    "cm = confusion_matrix(y_test, y_pred)\n",
    "print(cm)\n",
    "accuracy_score(y_test, y_pred)"
   ]
  },
  {
   "cell_type": "markdown",
   "metadata": {},
   "source": [
    "# Building ANN"
   ]
  },
  {
   "cell_type": "code",
   "execution_count": 80,
   "metadata": {},
   "outputs": [],
   "source": [
    "import tensorflow as tf "
   ]
  },
  {
   "cell_type": "code",
   "execution_count": 81,
   "metadata": {},
   "outputs": [],
   "source": [
    "# initialize the ANN\n",
    "ann = tf.keras.models.Sequential()"
   ]
  },
  {
   "cell_type": "code",
   "execution_count": 82,
   "metadata": {},
   "outputs": [],
   "source": [
    "# add the input layer\n",
    "ann.add(tf.keras.layers.Dense(units=128, activation='relu'))"
   ]
  },
  {
   "cell_type": "code",
   "execution_count": 83,
   "metadata": {},
   "outputs": [],
   "source": [
    "# add second hidden layer\n",
    "ann.add(tf.keras.layers.Dense(units=128, activation='relu'))"
   ]
  },
  {
   "cell_type": "code",
   "execution_count": 84,
   "metadata": {},
   "outputs": [],
   "source": [
    "# add the output layer\n",
    "ann.add(tf.keras.layers.Dense(units=1, activation='sigmoid'))"
   ]
  },
  {
   "cell_type": "code",
   "execution_count": 85,
   "metadata": {},
   "outputs": [],
   "source": [
    "# compile the ann\n",
    "ann.compile(optimizer = 'adam', loss = 'binary_crossentropy', metrics = ['accuracy'])"
   ]
  },
  {
   "cell_type": "code",
   "execution_count": 86,
   "metadata": {},
   "outputs": [
    {
     "name": "stdout",
     "output_type": "stream",
     "text": [
      "Epoch 1/100\n",
      "56/56 [==============================] - 6s 3ms/step - loss: 0.4965 - accuracy: 0.8211\n",
      "Epoch 2/100\n",
      "56/56 [==============================] - 0s 4ms/step - loss: 0.4007 - accuracy: 0.8454\n",
      "Epoch 3/100\n",
      "56/56 [==============================] - 0s 4ms/step - loss: 0.3991 - accuracy: 0.8454\n",
      "Epoch 4/100\n",
      "56/56 [==============================] - 0s 3ms/step - loss: 0.3993 - accuracy: 0.8454\n",
      "Epoch 5/100\n",
      "56/56 [==============================] - 0s 4ms/step - loss: 0.3978 - accuracy: 0.8454\n",
      "Epoch 6/100\n",
      "56/56 [==============================] - 0s 3ms/step - loss: 0.3978 - accuracy: 0.8454\n",
      "Epoch 7/100\n",
      "56/56 [==============================] - 0s 3ms/step - loss: 0.3984 - accuracy: 0.8454\n",
      "Epoch 8/100\n",
      "56/56 [==============================] - 0s 3ms/step - loss: 0.3983 - accuracy: 0.8454\n",
      "Epoch 9/100\n",
      "56/56 [==============================] - 0s 3ms/step - loss: 0.3969 - accuracy: 0.8454\n",
      "Epoch 10/100\n",
      "56/56 [==============================] - 0s 3ms/step - loss: 0.3966 - accuracy: 0.8454\n",
      "Epoch 11/100\n",
      "56/56 [==============================] - 0s 3ms/step - loss: 0.3987 - accuracy: 0.8454\n",
      "Epoch 12/100\n",
      "56/56 [==============================] - 0s 3ms/step - loss: 0.3979 - accuracy: 0.8454\n",
      "Epoch 13/100\n",
      "56/56 [==============================] - 0s 3ms/step - loss: 0.3972 - accuracy: 0.8454\n",
      "Epoch 14/100\n",
      "56/56 [==============================] - 0s 3ms/step - loss: 0.4006 - accuracy: 0.8454\n",
      "Epoch 15/100\n",
      "56/56 [==============================] - 0s 3ms/step - loss: 0.3971 - accuracy: 0.8454\n",
      "Epoch 16/100\n",
      "56/56 [==============================] - 0s 3ms/step - loss: 0.3982 - accuracy: 0.8454\n",
      "Epoch 17/100\n",
      "56/56 [==============================] - 0s 3ms/step - loss: 0.3964 - accuracy: 0.8454\n",
      "Epoch 18/100\n",
      "56/56 [==============================] - 0s 3ms/step - loss: 0.3962 - accuracy: 0.8454\n",
      "Epoch 19/100\n",
      "56/56 [==============================] - 0s 3ms/step - loss: 0.3984 - accuracy: 0.8454\n",
      "Epoch 20/100\n",
      "56/56 [==============================] - 0s 3ms/step - loss: 0.3965 - accuracy: 0.8454\n",
      "Epoch 21/100\n",
      "56/56 [==============================] - 0s 3ms/step - loss: 0.3972 - accuracy: 0.8454\n",
      "Epoch 22/100\n",
      "56/56 [==============================] - 0s 3ms/step - loss: 0.3968 - accuracy: 0.8454\n",
      "Epoch 23/100\n",
      "56/56 [==============================] - 0s 3ms/step - loss: 0.3960 - accuracy: 0.8454\n",
      "Epoch 24/100\n",
      "56/56 [==============================] - 0s 3ms/step - loss: 0.3965 - accuracy: 0.8454\n",
      "Epoch 25/100\n",
      "56/56 [==============================] - 0s 3ms/step - loss: 0.3965 - accuracy: 0.8454\n",
      "Epoch 26/100\n",
      "56/56 [==============================] - 0s 3ms/step - loss: 0.3962 - accuracy: 0.8454\n",
      "Epoch 27/100\n",
      "56/56 [==============================] - 0s 3ms/step - loss: 0.3963 - accuracy: 0.8454\n",
      "Epoch 28/100\n",
      "56/56 [==============================] - 0s 3ms/step - loss: 0.3971 - accuracy: 0.8454\n",
      "Epoch 29/100\n",
      "56/56 [==============================] - 0s 3ms/step - loss: 0.3963 - accuracy: 0.8454\n",
      "Epoch 30/100\n",
      "56/56 [==============================] - 0s 3ms/step - loss: 0.3959 - accuracy: 0.8454\n",
      "Epoch 31/100\n",
      "56/56 [==============================] - 0s 3ms/step - loss: 0.3968 - accuracy: 0.8442\n",
      "Epoch 32/100\n",
      "56/56 [==============================] - 0s 3ms/step - loss: 0.3958 - accuracy: 0.8454\n",
      "Epoch 33/100\n",
      "56/56 [==============================] - 0s 3ms/step - loss: 0.3973 - accuracy: 0.8454\n",
      "Epoch 34/100\n",
      "56/56 [==============================] - 0s 3ms/step - loss: 0.3957 - accuracy: 0.8437\n",
      "Epoch 35/100\n",
      "56/56 [==============================] - 0s 4ms/step - loss: 0.3961 - accuracy: 0.8454\n",
      "Epoch 36/100\n",
      "56/56 [==============================] - 0s 3ms/step - loss: 0.3961 - accuracy: 0.8431\n",
      "Epoch 37/100\n",
      "56/56 [==============================] - 0s 3ms/step - loss: 0.3961 - accuracy: 0.8454\n",
      "Epoch 38/100\n",
      "56/56 [==============================] - 0s 3ms/step - loss: 0.3950 - accuracy: 0.8454\n",
      "Epoch 39/100\n",
      "56/56 [==============================] - 0s 3ms/step - loss: 0.3967 - accuracy: 0.8459\n",
      "Epoch 40/100\n",
      "56/56 [==============================] - 0s 3ms/step - loss: 0.3954 - accuracy: 0.8442\n",
      "Epoch 41/100\n",
      "56/56 [==============================] - 0s 3ms/step - loss: 0.3963 - accuracy: 0.8448\n",
      "Epoch 42/100\n",
      "56/56 [==============================] - 0s 3ms/step - loss: 0.3953 - accuracy: 0.8442\n",
      "Epoch 43/100\n",
      "56/56 [==============================] - 0s 3ms/step - loss: 0.3953 - accuracy: 0.8459\n",
      "Epoch 44/100\n",
      "56/56 [==============================] - 0s 3ms/step - loss: 0.3960 - accuracy: 0.8465\n",
      "Epoch 45/100\n",
      "56/56 [==============================] - 0s 3ms/step - loss: 0.3955 - accuracy: 0.8459\n",
      "Epoch 46/100\n",
      "56/56 [==============================] - 0s 3ms/step - loss: 0.3950 - accuracy: 0.8465\n",
      "Epoch 47/100\n",
      "56/56 [==============================] - 0s 3ms/step - loss: 0.3953 - accuracy: 0.8426\n",
      "Epoch 48/100\n",
      "56/56 [==============================] - 0s 3ms/step - loss: 0.3954 - accuracy: 0.8465\n",
      "Epoch 49/100\n",
      "56/56 [==============================] - 0s 3ms/step - loss: 0.3956 - accuracy: 0.8476\n",
      "Epoch 50/100\n",
      "56/56 [==============================] - 0s 3ms/step - loss: 0.3941 - accuracy: 0.8448\n",
      "Epoch 51/100\n",
      "56/56 [==============================] - 0s 3ms/step - loss: 0.3965 - accuracy: 0.8459\n",
      "Epoch 52/100\n",
      "56/56 [==============================] - 0s 3ms/step - loss: 0.3941 - accuracy: 0.8459\n",
      "Epoch 53/100\n",
      "56/56 [==============================] - 0s 4ms/step - loss: 0.3948 - accuracy: 0.8476\n",
      "Epoch 54/100\n",
      "56/56 [==============================] - 0s 3ms/step - loss: 0.3961 - accuracy: 0.8476\n",
      "Epoch 55/100\n",
      "56/56 [==============================] - 0s 3ms/step - loss: 0.3973 - accuracy: 0.8476\n",
      "Epoch 56/100\n",
      "56/56 [==============================] - 0s 3ms/step - loss: 0.3952 - accuracy: 0.8471\n",
      "Epoch 57/100\n",
      "56/56 [==============================] - 0s 3ms/step - loss: 0.3940 - accuracy: 0.8465\n",
      "Epoch 58/100\n",
      "56/56 [==============================] - 0s 3ms/step - loss: 0.3942 - accuracy: 0.8471\n",
      "Epoch 59/100\n",
      "56/56 [==============================] - 0s 3ms/step - loss: 0.3944 - accuracy: 0.8454\n",
      "Epoch 60/100\n",
      "56/56 [==============================] - 0s 3ms/step - loss: 0.3949 - accuracy: 0.8482\n",
      "Epoch 61/100\n",
      "56/56 [==============================] - 0s 4ms/step - loss: 0.3945 - accuracy: 0.8493\n",
      "Epoch 62/100\n",
      "56/56 [==============================] - 0s 3ms/step - loss: 0.3950 - accuracy: 0.8471\n",
      "Epoch 63/100\n",
      "56/56 [==============================] - 0s 4ms/step - loss: 0.3944 - accuracy: 0.8493\n",
      "Epoch 64/100\n",
      "56/56 [==============================] - 0s 3ms/step - loss: 0.3960 - accuracy: 0.8493\n",
      "Epoch 65/100\n",
      "56/56 [==============================] - 0s 3ms/step - loss: 0.3950 - accuracy: 0.8476\n",
      "Epoch 66/100\n",
      "56/56 [==============================] - 0s 4ms/step - loss: 0.3939 - accuracy: 0.8476\n",
      "Epoch 67/100\n",
      "56/56 [==============================] - 0s 4ms/step - loss: 0.3950 - accuracy: 0.8459\n",
      "Epoch 68/100\n",
      "56/56 [==============================] - 0s 4ms/step - loss: 0.3959 - accuracy: 0.8482\n",
      "Epoch 69/100\n",
      "56/56 [==============================] - 0s 4ms/step - loss: 0.3951 - accuracy: 0.8448\n",
      "Epoch 70/100\n",
      "56/56 [==============================] - 0s 3ms/step - loss: 0.3936 - accuracy: 0.8510\n",
      "Epoch 71/100\n",
      "56/56 [==============================] - 0s 3ms/step - loss: 0.3941 - accuracy: 0.8482\n",
      "Epoch 72/100\n",
      "56/56 [==============================] - 0s 3ms/step - loss: 0.3937 - accuracy: 0.8459\n",
      "Epoch 73/100\n",
      "56/56 [==============================] - 0s 3ms/step - loss: 0.3953 - accuracy: 0.8521\n",
      "Epoch 74/100\n",
      "56/56 [==============================] - 0s 3ms/step - loss: 0.3928 - accuracy: 0.8471\n",
      "Epoch 75/100\n",
      "56/56 [==============================] - 0s 3ms/step - loss: 0.3935 - accuracy: 0.8493\n",
      "Epoch 76/100\n",
      "56/56 [==============================] - 0s 3ms/step - loss: 0.3930 - accuracy: 0.8482\n",
      "Epoch 77/100\n",
      "56/56 [==============================] - 0s 3ms/step - loss: 0.3931 - accuracy: 0.8476\n",
      "Epoch 78/100\n",
      "56/56 [==============================] - 0s 4ms/step - loss: 0.3937 - accuracy: 0.8476\n",
      "Epoch 79/100\n",
      "56/56 [==============================] - 0s 3ms/step - loss: 0.3973 - accuracy: 0.8459\n",
      "Epoch 80/100\n",
      "56/56 [==============================] - 0s 3ms/step - loss: 0.3934 - accuracy: 0.8488\n",
      "Epoch 81/100\n",
      "56/56 [==============================] - 0s 3ms/step - loss: 0.3938 - accuracy: 0.8471\n",
      "Epoch 82/100\n",
      "56/56 [==============================] - 0s 3ms/step - loss: 0.3932 - accuracy: 0.8471\n",
      "Epoch 83/100\n"
     ]
    },
    {
     "name": "stdout",
     "output_type": "stream",
     "text": [
      "56/56 [==============================] - 0s 3ms/step - loss: 0.3951 - accuracy: 0.8459\n",
      "Epoch 84/100\n",
      "56/56 [==============================] - 0s 3ms/step - loss: 0.3927 - accuracy: 0.8476\n",
      "Epoch 85/100\n",
      "56/56 [==============================] - 0s 3ms/step - loss: 0.3927 - accuracy: 0.8465\n",
      "Epoch 86/100\n",
      "56/56 [==============================] - 0s 3ms/step - loss: 0.3931 - accuracy: 0.8476\n",
      "Epoch 87/100\n",
      "56/56 [==============================] - 0s 3ms/step - loss: 0.3934 - accuracy: 0.8482\n",
      "Epoch 88/100\n",
      "56/56 [==============================] - 0s 3ms/step - loss: 0.3929 - accuracy: 0.8499\n",
      "Epoch 89/100\n",
      "56/56 [==============================] - 0s 3ms/step - loss: 0.3936 - accuracy: 0.8465\n",
      "Epoch 90/100\n",
      "56/56 [==============================] - 0s 3ms/step - loss: 0.3924 - accuracy: 0.8488\n",
      "Epoch 91/100\n",
      "56/56 [==============================] - 0s 3ms/step - loss: 0.3936 - accuracy: 0.8482\n",
      "Epoch 92/100\n",
      "56/56 [==============================] - 0s 3ms/step - loss: 0.3926 - accuracy: 0.8471\n",
      "Epoch 93/100\n",
      "56/56 [==============================] - 0s 3ms/step - loss: 0.3933 - accuracy: 0.8493\n",
      "Epoch 94/100\n",
      "56/56 [==============================] - 0s 3ms/step - loss: 0.3934 - accuracy: 0.8488\n",
      "Epoch 95/100\n",
      "56/56 [==============================] - 0s 3ms/step - loss: 0.3924 - accuracy: 0.8505\n",
      "Epoch 96/100\n",
      "56/56 [==============================] - 0s 3ms/step - loss: 0.3951 - accuracy: 0.8476\n",
      "Epoch 97/100\n",
      "56/56 [==============================] - 0s 3ms/step - loss: 0.3935 - accuracy: 0.8505\n",
      "Epoch 98/100\n",
      "56/56 [==============================] - 0s 3ms/step - loss: 0.3924 - accuracy: 0.8505\n",
      "Epoch 99/100\n",
      "56/56 [==============================] - 0s 3ms/step - loss: 0.3937 - accuracy: 0.8521\n",
      "Epoch 100/100\n",
      "56/56 [==============================] - 0s 3ms/step - loss: 0.3922 - accuracy: 0.8488\n"
     ]
    },
    {
     "data": {
      "text/plain": [
       "<keras.callbacks.History at 0x7f6846f2add0>"
      ]
     },
     "execution_count": 86,
     "metadata": {},
     "output_type": "execute_result"
    }
   ],
   "source": [
    "# train the ann on the training set\n",
    "ann.fit(X_train, y_train, batch_size = 32, epochs = 100)"
   ]
  },
  {
   "cell_type": "code",
   "execution_count": 87,
   "metadata": {},
   "outputs": [
    {
     "name": "stdout",
     "output_type": "stream",
     "text": [
      "[[367  18]\n",
      " [ 50   9]]\n"
     ]
    },
    {
     "data": {
      "text/plain": [
       "0.8468468468468469"
      ]
     },
     "execution_count": 87,
     "metadata": {},
     "output_type": "execute_result"
    }
   ],
   "source": [
    "cm = confusion_matrix(y_test, y_pred)\n",
    "print(cm)\n",
    "accuracy_score(y_test, y_pred)"
   ]
  },
  {
   "cell_type": "code",
   "execution_count": null,
   "metadata": {},
   "outputs": [],
   "source": []
  }
 ],
 "metadata": {
  "kernelspec": {
   "display_name": "Python 3",
   "language": "python",
   "name": "python3"
  },
  "language_info": {
   "codemirror_mode": {
    "name": "ipython",
    "version": 3
   },
   "file_extension": ".py",
   "mimetype": "text/x-python",
   "name": "python",
   "nbconvert_exporter": "python",
   "pygments_lexer": "ipython3",
   "version": "3.7.6"
  }
 },
 "nbformat": 4,
 "nbformat_minor": 4
}
